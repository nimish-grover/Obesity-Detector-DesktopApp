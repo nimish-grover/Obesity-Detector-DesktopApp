{
 "cells": [
  {
   "cell_type": "markdown",
   "id": "a615ccf4",
   "metadata": {},
   "source": [
    "### Obesity prediction using  machine learning models"
   ]
  },
  {
   "cell_type": "code",
   "execution_count": 1,
   "id": "e5a71d19",
   "metadata": {},
   "outputs": [],
   "source": [
    "import pandas as pd\n",
    "import seaborn as sns"
   ]
  },
  {
   "cell_type": "code",
   "execution_count": 2,
   "id": "e55085bc",
   "metadata": {},
   "outputs": [
    {
     "data": {
      "text/html": [
       "<div>\n",
       "<style scoped>\n",
       "    .dataframe tbody tr th:only-of-type {\n",
       "        vertical-align: middle;\n",
       "    }\n",
       "\n",
       "    .dataframe tbody tr th {\n",
       "        vertical-align: top;\n",
       "    }\n",
       "\n",
       "    .dataframe thead th {\n",
       "        text-align: right;\n",
       "    }\n",
       "</style>\n",
       "<table border=\"1\" class=\"dataframe\">\n",
       "  <thead>\n",
       "    <tr style=\"text-align: right;\">\n",
       "      <th></th>\n",
       "      <th>Gender</th>\n",
       "      <th>Age</th>\n",
       "      <th>Height</th>\n",
       "      <th>Weight</th>\n",
       "      <th>family_history_with_overweight</th>\n",
       "      <th>FAVC</th>\n",
       "      <th>FCVC</th>\n",
       "      <th>NCP</th>\n",
       "      <th>CAEC</th>\n",
       "      <th>SMOKE</th>\n",
       "      <th>CH2O</th>\n",
       "      <th>SCC</th>\n",
       "      <th>FAF</th>\n",
       "      <th>TUE</th>\n",
       "      <th>CALC</th>\n",
       "      <th>MTRANS</th>\n",
       "      <th>NObeyesdad</th>\n",
       "    </tr>\n",
       "  </thead>\n",
       "  <tbody>\n",
       "    <tr>\n",
       "      <th>0</th>\n",
       "      <td>Female</td>\n",
       "      <td>21.0</td>\n",
       "      <td>1.62</td>\n",
       "      <td>64.0</td>\n",
       "      <td>yes</td>\n",
       "      <td>no</td>\n",
       "      <td>2.0</td>\n",
       "      <td>3.0</td>\n",
       "      <td>Sometimes</td>\n",
       "      <td>no</td>\n",
       "      <td>2.0</td>\n",
       "      <td>no</td>\n",
       "      <td>0.0</td>\n",
       "      <td>1.0</td>\n",
       "      <td>no</td>\n",
       "      <td>Public_Transportation</td>\n",
       "      <td>Normal_Weight</td>\n",
       "    </tr>\n",
       "    <tr>\n",
       "      <th>1</th>\n",
       "      <td>Female</td>\n",
       "      <td>21.0</td>\n",
       "      <td>1.52</td>\n",
       "      <td>56.0</td>\n",
       "      <td>yes</td>\n",
       "      <td>no</td>\n",
       "      <td>3.0</td>\n",
       "      <td>3.0</td>\n",
       "      <td>Sometimes</td>\n",
       "      <td>yes</td>\n",
       "      <td>3.0</td>\n",
       "      <td>yes</td>\n",
       "      <td>3.0</td>\n",
       "      <td>0.0</td>\n",
       "      <td>Sometimes</td>\n",
       "      <td>Public_Transportation</td>\n",
       "      <td>Normal_Weight</td>\n",
       "    </tr>\n",
       "    <tr>\n",
       "      <th>2</th>\n",
       "      <td>Male</td>\n",
       "      <td>23.0</td>\n",
       "      <td>1.80</td>\n",
       "      <td>77.0</td>\n",
       "      <td>yes</td>\n",
       "      <td>no</td>\n",
       "      <td>2.0</td>\n",
       "      <td>3.0</td>\n",
       "      <td>Sometimes</td>\n",
       "      <td>no</td>\n",
       "      <td>2.0</td>\n",
       "      <td>no</td>\n",
       "      <td>2.0</td>\n",
       "      <td>1.0</td>\n",
       "      <td>Frequently</td>\n",
       "      <td>Public_Transportation</td>\n",
       "      <td>Normal_Weight</td>\n",
       "    </tr>\n",
       "    <tr>\n",
       "      <th>3</th>\n",
       "      <td>Male</td>\n",
       "      <td>27.0</td>\n",
       "      <td>1.80</td>\n",
       "      <td>87.0</td>\n",
       "      <td>no</td>\n",
       "      <td>no</td>\n",
       "      <td>3.0</td>\n",
       "      <td>3.0</td>\n",
       "      <td>Sometimes</td>\n",
       "      <td>no</td>\n",
       "      <td>2.0</td>\n",
       "      <td>no</td>\n",
       "      <td>2.0</td>\n",
       "      <td>0.0</td>\n",
       "      <td>Frequently</td>\n",
       "      <td>Walking</td>\n",
       "      <td>Overweight_Level_I</td>\n",
       "    </tr>\n",
       "    <tr>\n",
       "      <th>4</th>\n",
       "      <td>Male</td>\n",
       "      <td>22.0</td>\n",
       "      <td>1.78</td>\n",
       "      <td>89.8</td>\n",
       "      <td>no</td>\n",
       "      <td>no</td>\n",
       "      <td>2.0</td>\n",
       "      <td>1.0</td>\n",
       "      <td>Sometimes</td>\n",
       "      <td>no</td>\n",
       "      <td>2.0</td>\n",
       "      <td>no</td>\n",
       "      <td>0.0</td>\n",
       "      <td>0.0</td>\n",
       "      <td>Sometimes</td>\n",
       "      <td>Public_Transportation</td>\n",
       "      <td>Overweight_Level_II</td>\n",
       "    </tr>\n",
       "  </tbody>\n",
       "</table>\n",
       "</div>"
      ],
      "text/plain": [
       "   Gender   Age  Height  Weight family_history_with_overweight FAVC  FCVC  \\\n",
       "0  Female  21.0    1.62    64.0                            yes   no   2.0   \n",
       "1  Female  21.0    1.52    56.0                            yes   no   3.0   \n",
       "2    Male  23.0    1.80    77.0                            yes   no   2.0   \n",
       "3    Male  27.0    1.80    87.0                             no   no   3.0   \n",
       "4    Male  22.0    1.78    89.8                             no   no   2.0   \n",
       "\n",
       "   NCP       CAEC SMOKE  CH2O  SCC  FAF  TUE        CALC  \\\n",
       "0  3.0  Sometimes    no   2.0   no  0.0  1.0          no   \n",
       "1  3.0  Sometimes   yes   3.0  yes  3.0  0.0   Sometimes   \n",
       "2  3.0  Sometimes    no   2.0   no  2.0  1.0  Frequently   \n",
       "3  3.0  Sometimes    no   2.0   no  2.0  0.0  Frequently   \n",
       "4  1.0  Sometimes    no   2.0   no  0.0  0.0   Sometimes   \n",
       "\n",
       "                  MTRANS           NObeyesdad  \n",
       "0  Public_Transportation        Normal_Weight  \n",
       "1  Public_Transportation        Normal_Weight  \n",
       "2  Public_Transportation        Normal_Weight  \n",
       "3                Walking   Overweight_Level_I  \n",
       "4  Public_Transportation  Overweight_Level_II  "
      ]
     },
     "execution_count": 2,
     "metadata": {},
     "output_type": "execute_result"
    }
   ],
   "source": [
    "df= pd.read_csv(\"obesitydataset.csv\")\n",
    "df.head()"
   ]
  },
  {
   "cell_type": "markdown",
   "id": "d7b0db16",
   "metadata": {},
   "source": [
    "##  1)CHECK NULL VALUES"
   ]
  },
  {
   "cell_type": "code",
   "execution_count": 15,
   "id": "5f6d34ac",
   "metadata": {},
   "outputs": [
    {
     "data": {
      "text/plain": [
       "Gender                            0\n",
       "Age                               0\n",
       "Height                            0\n",
       "Weight                            0\n",
       "family_history_with_overweight    0\n",
       "FAVC                              0\n",
       "FCVC                              0\n",
       "NCP                               0\n",
       "CAEC                              0\n",
       "SMOKE                             0\n",
       "CH2O                              0\n",
       "SCC                               0\n",
       "FAF                               0\n",
       "TUE                               0\n",
       "CALC                              0\n",
       "MTRANS                            0\n",
       "NObeyesdad                        0\n",
       "dtype: int64"
      ]
     },
     "execution_count": 15,
     "metadata": {},
     "output_type": "execute_result"
    }
   ],
   "source": [
    "df.isnull().sum() "
   ]
  },
  {
   "cell_type": "code",
   "execution_count": 17,
   "id": "d624a314",
   "metadata": {},
   "outputs": [
    {
     "data": {
      "text/plain": [
       "Gender                             object\n",
       "Age                               float64\n",
       "Height                            float64\n",
       "Weight                            float64\n",
       "family_history_with_overweight     object\n",
       "FAVC                               object\n",
       "FCVC                              float64\n",
       "NCP                               float64\n",
       "CAEC                               object\n",
       "SMOKE                              object\n",
       "CH2O                              float64\n",
       "SCC                                object\n",
       "FAF                               float64\n",
       "TUE                               float64\n",
       "CALC                               object\n",
       "MTRANS                             object\n",
       "NObeyesdad                         object\n",
       "dtype: object"
      ]
     },
     "execution_count": 17,
     "metadata": {},
     "output_type": "execute_result"
    }
   ],
   "source": [
    "df.dtypes"
   ]
  },
  {
   "cell_type": "code",
   "execution_count": 54,
   "id": "e24d67e3",
   "metadata": {},
   "outputs": [
    {
     "name": "stderr",
     "output_type": "stream",
     "text": [
      "C:\\Users\\lenovo\\anaconda3\\lib\\site-packages\\seaborn\\axisgrid.py:337: UserWarning: The `size` parameter has been renamed to `height`; please update your code.\n",
      "  warnings.warn(msg, UserWarning)\n",
      "C:\\Users\\lenovo\\anaconda3\\lib\\site-packages\\seaborn\\distributions.py:2619: FutureWarning: `distplot` is a deprecated function and will be removed in a future version. Please adapt your code to use either `displot` (a figure-level function with similar flexibility) or `histplot` (an axes-level function for histograms).\n",
      "  warnings.warn(msg, FutureWarning)\n",
      "C:\\Users\\lenovo\\anaconda3\\lib\\site-packages\\seaborn\\axisgrid.py:337: UserWarning: The `size` parameter has been renamed to `height`; please update your code.\n",
      "  warnings.warn(msg, UserWarning)\n",
      "C:\\Users\\lenovo\\anaconda3\\lib\\site-packages\\seaborn\\distributions.py:2619: FutureWarning: `distplot` is a deprecated function and will be removed in a future version. Please adapt your code to use either `displot` (a figure-level function with similar flexibility) or `histplot` (an axes-level function for histograms).\n",
      "  warnings.warn(msg, FutureWarning)\n",
      "C:\\Users\\lenovo\\anaconda3\\lib\\site-packages\\seaborn\\axisgrid.py:337: UserWarning: The `size` parameter has been renamed to `height`; please update your code.\n",
      "  warnings.warn(msg, UserWarning)\n",
      "C:\\Users\\lenovo\\anaconda3\\lib\\site-packages\\seaborn\\distributions.py:2619: FutureWarning: `distplot` is a deprecated function and will be removed in a future version. Please adapt your code to use either `displot` (a figure-level function with similar flexibility) or `histplot` (an axes-level function for histograms).\n",
      "  warnings.warn(msg, FutureWarning)\n"
     ]
    },
    {
     "data": {
      "text/plain": [
       "<seaborn.axisgrid.FacetGrid at 0x1bb68688f40>"
      ]
     },
     "execution_count": 54,
     "metadata": {},
     "output_type": "execute_result"
    },
    {
     "data": {
      "image/png": "[encoded data removed]",
      "text/plain": [
       "<Figure size 368.8x360 with 1 Axes>"
      ]
     },
     "metadata": {},
     "output_type": "display_data"
    },
    {
     "data": {
      "image/png": "[encoded data removed]",
      "text/plain": [
       "<Figure size 368.8x360 with 1 Axes>"
      ]
     },
     "metadata": {},
     "output_type": "display_data"
    },
    {
     "data": {
      "image/png": "[encoded data removed]",
      "text/plain": [
       "<Figure size 368.8x360 with 1 Axes>"
      ]
     },
     "metadata": {},
     "output_type": "display_data"
    }
   ],
   "source": [
    "sns.FacetGrid(df,size=5).map(sns.distplot,\"Height\").add_legend()\n",
    "sns.FacetGrid(df,size=5).map(sns.distplot,\"Age\").add_legend()\n",
    "sns.FacetGrid(df,size=5).map(sns.distplot,\"Weight\").add_legend()"
   ]
  },
  {
   "cell_type": "markdown",
   "id": "f40913bc",
   "metadata": {},
   "source": [
    "##  ENCODING CATEGORICAL VARIABLES"
   ]
  },
  {
   "cell_type": "code",
   "execution_count": 3,
   "id": "6f23ca4f",
   "metadata": {},
   "outputs": [],
   "source": [
    "import sklearn.preprocessing as preprocessing\n",
    "le=preprocessing.LabelEncoder()"
   ]
  },
  {
   "cell_type": "code",
   "execution_count": 4,
   "id": "45a575ff",
   "metadata": {},
   "outputs": [],
   "source": [
    "df['gender']=le.fit_transform(df['Gender'].astype(str))"
   ]
  },
  {
   "cell_type": "code",
   "execution_count": 5,
   "id": "550e097b",
   "metadata": {},
   "outputs": [],
   "source": [
    "df['famhistory']=le.fit_transform(df['family_history_with_overweight'].astype(str))\n",
    "df['favc']=le.fit_transform(df['FAVC'].astype(str))\n",
    "df['caec']=le.fit_transform(df['CAEC'].astype(str))\n",
    "df['smoke']=le.fit_transform(df['SMOKE'].astype(str))"
   ]
  },
  {
   "cell_type": "code",
   "execution_count": 6,
   "id": "6d43496d",
   "metadata": {},
   "outputs": [],
   "source": [
    "df['scc']=le.fit_transform(df['SCC'].astype(str))\n",
    "df['calc']=le.fit_transform(df['CALC'].astype(str))\n",
    "df['mtrans']=le.fit_transform(df['MTRANS'].astype(str))\n",
    "df['nobeyes']=le.fit_transform(df['NObeyesdad'].astype(str))"
   ]
  },
  {
   "cell_type": "code",
   "execution_count": 7,
   "id": "82f801e7",
   "metadata": {},
   "outputs": [],
   "source": [
    "df=df.drop(['Gender','family_history_with_overweight','FAVC','CAEC','SMOKE','SCC','CALC','MTRANS','NObeyesdad'],axis=1)"
   ]
  },
  {
   "cell_type": "code",
   "execution_count": 8,
   "id": "7781930b",
   "metadata": {},
   "outputs": [
    {
     "data": {
      "text/html": [
       "<div>\n",
       "<style scoped>\n",
       "    .dataframe tbody tr th:only-of-type {\n",
       "        vertical-align: middle;\n",
       "    }\n",
       "\n",
       "    .dataframe tbody tr th {\n",
       "        vertical-align: top;\n",
       "    }\n",
       "\n",
       "    .dataframe thead th {\n",
       "        text-align: right;\n",
       "    }\n",
       "</style>\n",
       "<table border=\"1\" class=\"dataframe\">\n",
       "  <thead>\n",
       "    <tr style=\"text-align: right;\">\n",
       "      <th></th>\n",
       "      <th>Age</th>\n",
       "      <th>Height</th>\n",
       "      <th>Weight</th>\n",
       "      <th>FCVC</th>\n",
       "      <th>NCP</th>\n",
       "      <th>CH2O</th>\n",
       "      <th>FAF</th>\n",
       "      <th>TUE</th>\n",
       "      <th>gender</th>\n",
       "      <th>famhistory</th>\n",
       "      <th>favc</th>\n",
       "      <th>caec</th>\n",
       "      <th>smoke</th>\n",
       "      <th>scc</th>\n",
       "      <th>calc</th>\n",
       "      <th>mtrans</th>\n",
       "      <th>nobeyes</th>\n",
       "    </tr>\n",
       "  </thead>\n",
       "  <tbody>\n",
       "    <tr>\n",
       "      <th>0</th>\n",
       "      <td>21.000000</td>\n",
       "      <td>1.620000</td>\n",
       "      <td>64.000000</td>\n",
       "      <td>2.0</td>\n",
       "      <td>3.0</td>\n",
       "      <td>2.000000</td>\n",
       "      <td>0.000000</td>\n",
       "      <td>1.000000</td>\n",
       "      <td>0</td>\n",
       "      <td>1</td>\n",
       "      <td>0</td>\n",
       "      <td>2</td>\n",
       "      <td>0</td>\n",
       "      <td>0</td>\n",
       "      <td>3</td>\n",
       "      <td>3</td>\n",
       "      <td>1</td>\n",
       "    </tr>\n",
       "    <tr>\n",
       "      <th>1</th>\n",
       "      <td>21.000000</td>\n",
       "      <td>1.520000</td>\n",
       "      <td>56.000000</td>\n",
       "      <td>3.0</td>\n",
       "      <td>3.0</td>\n",
       "      <td>3.000000</td>\n",
       "      <td>3.000000</td>\n",
       "      <td>0.000000</td>\n",
       "      <td>0</td>\n",
       "      <td>1</td>\n",
       "      <td>0</td>\n",
       "      <td>2</td>\n",
       "      <td>1</td>\n",
       "      <td>1</td>\n",
       "      <td>2</td>\n",
       "      <td>3</td>\n",
       "      <td>1</td>\n",
       "    </tr>\n",
       "    <tr>\n",
       "      <th>2</th>\n",
       "      <td>23.000000</td>\n",
       "      <td>1.800000</td>\n",
       "      <td>77.000000</td>\n",
       "      <td>2.0</td>\n",
       "      <td>3.0</td>\n",
       "      <td>2.000000</td>\n",
       "      <td>2.000000</td>\n",
       "      <td>1.000000</td>\n",
       "      <td>1</td>\n",
       "      <td>1</td>\n",
       "      <td>0</td>\n",
       "      <td>2</td>\n",
       "      <td>0</td>\n",
       "      <td>0</td>\n",
       "      <td>1</td>\n",
       "      <td>3</td>\n",
       "      <td>1</td>\n",
       "    </tr>\n",
       "    <tr>\n",
       "      <th>3</th>\n",
       "      <td>27.000000</td>\n",
       "      <td>1.800000</td>\n",
       "      <td>87.000000</td>\n",
       "      <td>3.0</td>\n",
       "      <td>3.0</td>\n",
       "      <td>2.000000</td>\n",
       "      <td>2.000000</td>\n",
       "      <td>0.000000</td>\n",
       "      <td>1</td>\n",
       "      <td>0</td>\n",
       "      <td>0</td>\n",
       "      <td>2</td>\n",
       "      <td>0</td>\n",
       "      <td>0</td>\n",
       "      <td>1</td>\n",
       "      <td>4</td>\n",
       "      <td>5</td>\n",
       "    </tr>\n",
       "    <tr>\n",
       "      <th>4</th>\n",
       "      <td>22.000000</td>\n",
       "      <td>1.780000</td>\n",
       "      <td>89.800000</td>\n",
       "      <td>2.0</td>\n",
       "      <td>1.0</td>\n",
       "      <td>2.000000</td>\n",
       "      <td>0.000000</td>\n",
       "      <td>0.000000</td>\n",
       "      <td>1</td>\n",
       "      <td>0</td>\n",
       "      <td>0</td>\n",
       "      <td>2</td>\n",
       "      <td>0</td>\n",
       "      <td>0</td>\n",
       "      <td>2</td>\n",
       "      <td>3</td>\n",
       "      <td>6</td>\n",
       "    </tr>\n",
       "    <tr>\n",
       "      <th>...</th>\n",
       "      <td>...</td>\n",
       "      <td>...</td>\n",
       "      <td>...</td>\n",
       "      <td>...</td>\n",
       "      <td>...</td>\n",
       "      <td>...</td>\n",
       "      <td>...</td>\n",
       "      <td>...</td>\n",
       "      <td>...</td>\n",
       "      <td>...</td>\n",
       "      <td>...</td>\n",
       "      <td>...</td>\n",
       "      <td>...</td>\n",
       "      <td>...</td>\n",
       "      <td>...</td>\n",
       "      <td>...</td>\n",
       "      <td>...</td>\n",
       "    </tr>\n",
       "    <tr>\n",
       "      <th>2106</th>\n",
       "      <td>20.976842</td>\n",
       "      <td>1.710730</td>\n",
       "      <td>131.408528</td>\n",
       "      <td>3.0</td>\n",
       "      <td>3.0</td>\n",
       "      <td>1.728139</td>\n",
       "      <td>1.676269</td>\n",
       "      <td>0.906247</td>\n",
       "      <td>0</td>\n",
       "      <td>1</td>\n",
       "      <td>1</td>\n",
       "      <td>2</td>\n",
       "      <td>0</td>\n",
       "      <td>0</td>\n",
       "      <td>2</td>\n",
       "      <td>3</td>\n",
       "      <td>4</td>\n",
       "    </tr>\n",
       "    <tr>\n",
       "      <th>2107</th>\n",
       "      <td>21.982942</td>\n",
       "      <td>1.748584</td>\n",
       "      <td>133.742943</td>\n",
       "      <td>3.0</td>\n",
       "      <td>3.0</td>\n",
       "      <td>2.005130</td>\n",
       "      <td>1.341390</td>\n",
       "      <td>0.599270</td>\n",
       "      <td>0</td>\n",
       "      <td>1</td>\n",
       "      <td>1</td>\n",
       "      <td>2</td>\n",
       "      <td>0</td>\n",
       "      <td>0</td>\n",
       "      <td>2</td>\n",
       "      <td>3</td>\n",
       "      <td>4</td>\n",
       "    </tr>\n",
       "    <tr>\n",
       "      <th>2108</th>\n",
       "      <td>22.524036</td>\n",
       "      <td>1.752206</td>\n",
       "      <td>133.689352</td>\n",
       "      <td>3.0</td>\n",
       "      <td>3.0</td>\n",
       "      <td>2.054193</td>\n",
       "      <td>1.414209</td>\n",
       "      <td>0.646288</td>\n",
       "      <td>0</td>\n",
       "      <td>1</td>\n",
       "      <td>1</td>\n",
       "      <td>2</td>\n",
       "      <td>0</td>\n",
       "      <td>0</td>\n",
       "      <td>2</td>\n",
       "      <td>3</td>\n",
       "      <td>4</td>\n",
       "    </tr>\n",
       "    <tr>\n",
       "      <th>2109</th>\n",
       "      <td>24.361936</td>\n",
       "      <td>1.739450</td>\n",
       "      <td>133.346641</td>\n",
       "      <td>3.0</td>\n",
       "      <td>3.0</td>\n",
       "      <td>2.852339</td>\n",
       "      <td>1.139107</td>\n",
       "      <td>0.586035</td>\n",
       "      <td>0</td>\n",
       "      <td>1</td>\n",
       "      <td>1</td>\n",
       "      <td>2</td>\n",
       "      <td>0</td>\n",
       "      <td>0</td>\n",
       "      <td>2</td>\n",
       "      <td>3</td>\n",
       "      <td>4</td>\n",
       "    </tr>\n",
       "    <tr>\n",
       "      <th>2110</th>\n",
       "      <td>23.664709</td>\n",
       "      <td>1.738836</td>\n",
       "      <td>133.472641</td>\n",
       "      <td>3.0</td>\n",
       "      <td>3.0</td>\n",
       "      <td>2.863513</td>\n",
       "      <td>1.026452</td>\n",
       "      <td>0.714137</td>\n",
       "      <td>0</td>\n",
       "      <td>1</td>\n",
       "      <td>1</td>\n",
       "      <td>2</td>\n",
       "      <td>0</td>\n",
       "      <td>0</td>\n",
       "      <td>2</td>\n",
       "      <td>3</td>\n",
       "      <td>4</td>\n",
       "    </tr>\n",
       "  </tbody>\n",
       "</table>\n",
       "<p>2111 rows × 17 columns</p>\n",
       "</div>"
      ],
      "text/plain": [
       "            Age    Height      Weight  FCVC  NCP      CH2O       FAF  \\\n",
       "0     21.000000  1.620000   64.000000   2.0  3.0  2.000000  0.000000   \n",
       "1     21.000000  1.520000   56.000000   3.0  3.0  3.000000  3.000000   \n",
       "2     23.000000  1.800000   77.000000   2.0  3.0  2.000000  2.000000   \n",
       "3     27.000000  1.800000   87.000000   3.0  3.0  2.000000  2.000000   \n",
       "4     22.000000  1.780000   89.800000   2.0  1.0  2.000000  0.000000   \n",
       "...         ...       ...         ...   ...  ...       ...       ...   \n",
       "2106  20.976842  1.710730  131.408528   3.0  3.0  1.728139  1.676269   \n",
       "2107  21.982942  1.748584  133.742943   3.0  3.0  2.005130  1.341390   \n",
       "2108  22.524036  1.752206  133.689352   3.0  3.0  2.054193  1.414209   \n",
       "2109  24.361936  1.739450  133.346641   3.0  3.0  2.852339  1.139107   \n",
       "2110  23.664709  1.738836  133.472641   3.0  3.0  2.863513  1.026452   \n",
       "\n",
       "           TUE  gender  famhistory  favc  caec  smoke  scc  calc  mtrans  \\\n",
       "0     1.000000       0           1     0     2      0    0     3       3   \n",
       "1     0.000000       0           1     0     2      1    1     2       3   \n",
       "2     1.000000       1           1     0     2      0    0     1       3   \n",
       "3     0.000000       1           0     0     2      0    0     1       4   \n",
       "4     0.000000       1           0     0     2      0    0     2       3   \n",
       "...        ...     ...         ...   ...   ...    ...  ...   ...     ...   \n",
       "2106  0.906247       0           1     1     2      0    0     2       3   \n",
       "2107  0.599270       0           1     1     2      0    0     2       3   \n",
       "2108  0.646288       0           1     1     2      0    0     2       3   \n",
       "2109  0.586035       0           1     1     2      0    0     2       3   \n",
       "2110  0.714137       0           1     1     2      0    0     2       3   \n",
       "\n",
       "      nobeyes  \n",
       "0           1  \n",
       "1           1  \n",
       "2           1  \n",
       "3           5  \n",
       "4           6  \n",
       "...       ...  \n",
       "2106        4  \n",
       "2107        4  \n",
       "2108        4  \n",
       "2109        4  \n",
       "2110        4  \n",
       "\n",
       "[2111 rows x 17 columns]"
      ]
     },
     "execution_count": 8,
     "metadata": {},
     "output_type": "execute_result"
    }
   ],
   "source": [
    "df"
   ]
  },
  {
   "cell_type": "code",
   "execution_count": 27,
   "id": "3e987a30",
   "metadata": {},
   "outputs": [],
   "source": [
    "df.to_csv('obesitydatasetpreprocessed.csv')"
   ]
  },
  {
   "cell_type": "code",
   "execution_count": 9,
   "id": "b9426ac7",
   "metadata": {},
   "outputs": [],
   "source": [
    "corr=df.corr()"
   ]
  },
  {
   "cell_type": "code",
   "execution_count": 10,
   "id": "744bf6ad",
   "metadata": {},
   "outputs": [
    {
     "data": {
      "text/html": [
       "<style type=\"text/css\">\n",
       "#T_36a36_row0_col0, #T_36a36_row1_col1, #T_36a36_row2_col2, #T_36a36_row3_col3, #T_36a36_row4_col4, #T_36a36_row5_col5, #T_36a36_row6_col6, #T_36a36_row7_col7, #T_36a36_row8_col8, #T_36a36_row9_col9, #T_36a36_row10_col10, #T_36a36_row11_col11, #T_36a36_row12_col12, #T_36a36_row13_col13, #T_36a36_row14_col14, #T_36a36_row15_col15, #T_36a36_row16_col16 {\n",
       "  background-color: #b40426;\n",
       "  color: #f1f1f1;\n",
       "}\n",
       "#T_36a36_row0_col1, #T_36a36_row5_col14, #T_36a36_row7_col5, #T_36a36_row10_col14, #T_36a36_row12_col4 {\n",
       "  background-color: #5875e1;\n",
       "  color: #f1f1f1;\n",
       "}\n",
       "#T_36a36_row0_col2, #T_36a36_row5_col2, #T_36a36_row9_col1 {\n",
       "  background-color: #abc8fd;\n",
       "  color: #000000;\n",
       "}\n",
       "#T_36a36_row0_col3, #T_36a36_row3_col13, #T_36a36_row5_col11, #T_36a36_row6_col13, #T_36a36_row7_col8, #T_36a36_row12_col3, #T_36a36_row16_col3 {\n",
       "  background-color: #85a8fc;\n",
       "  color: #f1f1f1;\n",
       "}\n",
       "#T_36a36_row0_col4, #T_36a36_row3_col11, #T_36a36_row12_col11 {\n",
       "  background-color: #4961d2;\n",
       "  color: #f1f1f1;\n",
       "}\n",
       "#T_36a36_row0_col5, #T_36a36_row15_col4 {\n",
       "  background-color: #465ecf;\n",
       "  color: #f1f1f1;\n",
       "}\n",
       "#T_36a36_row0_col6, #T_36a36_row0_col7, #T_36a36_row0_col15, #T_36a36_row2_col13, #T_36a36_row2_col14, #T_36a36_row3_col8, #T_36a36_row8_col3, #T_36a36_row11_col4, #T_36a36_row13_col1, #T_36a36_row13_col9, #T_36a36_row13_col10, #T_36a36_row13_col11, #T_36a36_row14_col1, #T_36a36_row14_col2, #T_36a36_row14_col5, #T_36a36_row14_col12, #T_36a36_row14_col16, #T_36a36_row15_col0 {\n",
       "  background-color: #3b4cc0;\n",
       "  color: #f1f1f1;\n",
       "}\n",
       "#T_36a36_row0_col8, #T_36a36_row9_col11, #T_36a36_row12_col8 {\n",
       "  background-color: #8db0fe;\n",
       "  color: #000000;\n",
       "}\n",
       "#T_36a36_row0_col9, #T_36a36_row1_col15, #T_36a36_row10_col9 {\n",
       "  background-color: #a9c6fd;\n",
       "  color: #000000;\n",
       "}\n",
       "#T_36a36_row0_col10, #T_36a36_row5_col16, #T_36a36_row8_col10 {\n",
       "  background-color: #80a3fa;\n",
       "  color: #f1f1f1;\n",
       "}\n",
       "#T_36a36_row0_col11, #T_36a36_row2_col7, #T_36a36_row5_col13, #T_36a36_row7_col9, #T_36a36_row11_col3, #T_36a36_row15_col2, #T_36a36_row16_col7 {\n",
       "  background-color: #7295f4;\n",
       "  color: #f1f1f1;\n",
       "}\n",
       "#T_36a36_row0_col12, #T_36a36_row7_col1, #T_36a36_row11_col1, #T_36a36_row15_col14 {\n",
       "  background-color: #6e90f2;\n",
       "  color: #f1f1f1;\n",
       "}\n",
       "#T_36a36_row0_col13, #T_36a36_row6_col11, #T_36a36_row13_col16, #T_36a36_row15_col9 {\n",
       "  background-color: #506bda;\n",
       "  color: #f1f1f1;\n",
       "}\n",
       "#T_36a36_row0_col14, #T_36a36_row3_col16, #T_36a36_row4_col5, #T_36a36_row7_col3, #T_36a36_row12_col6, #T_36a36_row13_col8 {\n",
       "  background-color: #6485ec;\n",
       "  color: #f1f1f1;\n",
       "}\n",
       "#T_36a36_row0_col16 {\n",
       "  background-color: #a7c5fe;\n",
       "  color: #000000;\n",
       "}\n",
       "#T_36a36_row1_col0 {\n",
       "  background-color: #b3cdfb;\n",
       "  color: #000000;\n",
       "}\n",
       "#T_36a36_row1_col2 {\n",
       "  background-color: #ead4c8;\n",
       "  color: #000000;\n",
       "}\n",
       "#T_36a36_row1_col3, #T_36a36_row2_col4, #T_36a36_row14_col9 {\n",
       "  background-color: #7699f6;\n",
       "  color: #f1f1f1;\n",
       "}\n",
       "#T_36a36_row1_col4, #T_36a36_row1_col10, #T_36a36_row9_col15 {\n",
       "  background-color: #a2c1ff;\n",
       "  color: #000000;\n",
       "}\n",
       "#T_36a36_row1_col5, #T_36a36_row5_col9 {\n",
       "  background-color: #97b8ff;\n",
       "  color: #000000;\n",
       "}\n",
       "#T_36a36_row1_col6, #T_36a36_row2_col3, #T_36a36_row3_col0 {\n",
       "  background-color: #bbd1f8;\n",
       "  color: #000000;\n",
       "}\n",
       "#T_36a36_row1_col7, #T_36a36_row2_col5, #T_36a36_row4_col8, #T_36a36_row5_col3, #T_36a36_row10_col8, #T_36a36_row15_col3 {\n",
       "  background-color: #93b5fe;\n",
       "  color: #000000;\n",
       "}\n",
       "#T_36a36_row1_col8 {\n",
       "  background-color: #f7ac8e;\n",
       "  color: #000000;\n",
       "}\n",
       "#T_36a36_row1_col9, #T_36a36_row6_col8, #T_36a36_row15_col7 {\n",
       "  background-color: #b5cdfa;\n",
       "  color: #000000;\n",
       "}\n",
       "#T_36a36_row1_col11, #T_36a36_row3_col6, #T_36a36_row5_col4 {\n",
       "  background-color: #6788ee;\n",
       "  color: #f1f1f1;\n",
       "}\n",
       "#T_36a36_row1_col12, #T_36a36_row3_col4, #T_36a36_row6_col2, #T_36a36_row16_col13 {\n",
       "  background-color: #6282ea;\n",
       "  color: #f1f1f1;\n",
       "}\n",
       "#T_36a36_row1_col13, #T_36a36_row7_col16, #T_36a36_row14_col11, #T_36a36_row16_col12 {\n",
       "  background-color: #4b64d5;\n",
       "  color: #f1f1f1;\n",
       "}\n",
       "#T_36a36_row1_col14, #T_36a36_row15_col12 {\n",
       "  background-color: #4e68d8;\n",
       "  color: #f1f1f1;\n",
       "}\n",
       "#T_36a36_row1_col16, #T_36a36_row4_col10, #T_36a36_row4_col13, #T_36a36_row9_col4, #T_36a36_row16_col1 {\n",
       "  background-color: #6b8df0;\n",
       "  color: #f1f1f1;\n",
       "}\n",
       "#T_36a36_row2_col0 {\n",
       "  background-color: #dddcdc;\n",
       "  color: #000000;\n",
       "}\n",
       "#T_36a36_row2_col1 {\n",
       "  background-color: #e3d9d3;\n",
       "  color: #000000;\n",
       "}\n",
       "#T_36a36_row2_col6 {\n",
       "  background-color: #536edd;\n",
       "  color: #f1f1f1;\n",
       "}\n",
       "#T_36a36_row2_col8, #T_36a36_row4_col15 {\n",
       "  background-color: #adc9fd;\n",
       "  color: #000000;\n",
       "}\n",
       "#T_36a36_row2_col9 {\n",
       "  background-color: #eed0c0;\n",
       "  color: #000000;\n",
       "}\n",
       "#T_36a36_row2_col10 {\n",
       "  background-color: #bcd2f7;\n",
       "  color: #000000;\n",
       "}\n",
       "#T_36a36_row2_col11 {\n",
       "  background-color: #b2ccfb;\n",
       "  color: #000000;\n",
       "}\n",
       "#T_36a36_row2_col12, #T_36a36_row11_col6, #T_36a36_row12_col16, #T_36a36_row15_col10 {\n",
       "  background-color: #5977e3;\n",
       "  color: #f1f1f1;\n",
       "}\n",
       "#T_36a36_row2_col15, #T_36a36_row6_col1 {\n",
       "  background-color: #b9d0f9;\n",
       "  color: #000000;\n",
       "}\n",
       "#T_36a36_row2_col16 {\n",
       "  background-color: #d2dbe8;\n",
       "  color: #000000;\n",
       "}\n",
       "#T_36a36_row3_col1, #T_36a36_row4_col12, #T_36a36_row8_col13, #T_36a36_row10_col4, #T_36a36_row14_col10 {\n",
       "  background-color: #5470de;\n",
       "  color: #f1f1f1;\n",
       "}\n",
       "#T_36a36_row3_col2, #T_36a36_row4_col0, #T_36a36_row14_col0 {\n",
       "  background-color: #afcafc;\n",
       "  color: #000000;\n",
       "}\n",
       "#T_36a36_row3_col5 {\n",
       "  background-color: #688aef;\n",
       "  color: #f1f1f1;\n",
       "}\n",
       "#T_36a36_row3_col7, #T_36a36_row8_col4 {\n",
       "  background-color: #6a8bef;\n",
       "  color: #f1f1f1;\n",
       "}\n",
       "#T_36a36_row3_col9, #T_36a36_row7_col0 {\n",
       "  background-color: #779af7;\n",
       "  color: #f1f1f1;\n",
       "}\n",
       "#T_36a36_row3_col10, #T_36a36_row8_col16 {\n",
       "  background-color: #6687ed;\n",
       "  color: #f1f1f1;\n",
       "}\n",
       "#T_36a36_row3_col12, #T_36a36_row6_col12 {\n",
       "  background-color: #5572df;\n",
       "  color: #f1f1f1;\n",
       "}\n",
       "#T_36a36_row3_col14, #T_36a36_row8_col12, #T_36a36_row12_col10, #T_36a36_row13_col12 {\n",
       "  background-color: #5f7fe8;\n",
       "  color: #f1f1f1;\n",
       "}\n",
       "#T_36a36_row3_col15, #T_36a36_row10_col0 {\n",
       "  background-color: #c5d6f2;\n",
       "  color: #000000;\n",
       "}\n",
       "#T_36a36_row4_col1, #T_36a36_row9_col10, #T_36a36_row10_col15 {\n",
       "  background-color: #aac7fd;\n",
       "  color: #000000;\n",
       "}\n",
       "#T_36a36_row4_col2 {\n",
       "  background-color: #90b2fe;\n",
       "  color: #000000;\n",
       "}\n",
       "#T_36a36_row4_col3, #T_36a36_row9_col3, #T_36a36_row9_col7 {\n",
       "  background-color: #8caffe;\n",
       "  color: #000000;\n",
       "}\n",
       "#T_36a36_row4_col6 {\n",
       "  background-color: #89acfd;\n",
       "  color: #000000;\n",
       "}\n",
       "#T_36a36_row4_col7 {\n",
       "  background-color: #8fb1fe;\n",
       "  color: #000000;\n",
       "}\n",
       "#T_36a36_row4_col9, #T_36a36_row7_col10, #T_36a36_row11_col5 {\n",
       "  background-color: #81a4fb;\n",
       "  color: #f1f1f1;\n",
       "}\n",
       "#T_36a36_row4_col11, #T_36a36_row10_col13 {\n",
       "  background-color: #3d50c3;\n",
       "  color: #f1f1f1;\n",
       "}\n",
       "#T_36a36_row4_col14, #T_36a36_row7_col2 {\n",
       "  background-color: #5d7ce6;\n",
       "  color: #f1f1f1;\n",
       "}\n",
       "#T_36a36_row4_col16 {\n",
       "  background-color: #455cce;\n",
       "  color: #f1f1f1;\n",
       "}\n",
       "#T_36a36_row5_col0, #T_36a36_row11_col15, #T_36a36_row16_col15 {\n",
       "  background-color: #aec9fc;\n",
       "  color: #000000;\n",
       "}\n",
       "#T_36a36_row5_col1, #T_36a36_row8_col2 {\n",
       "  background-color: #a1c0ff;\n",
       "  color: #000000;\n",
       "}\n",
       "#T_36a36_row5_col6, #T_36a36_row13_col3 {\n",
       "  background-color: #94b6ff;\n",
       "  color: #000000;\n",
       "}\n",
       "#T_36a36_row5_col7, #T_36a36_row6_col5, #T_36a36_row16_col8 {\n",
       "  background-color: #88abfd;\n",
       "  color: #000000;\n",
       "}\n",
       "#T_36a36_row5_col8, #T_36a36_row11_col9 {\n",
       "  background-color: #9ebeff;\n",
       "  color: #000000;\n",
       "}\n",
       "#T_36a36_row5_col10, #T_36a36_row12_col9, #T_36a36_row13_col14 {\n",
       "  background-color: #7093f3;\n",
       "  color: #f1f1f1;\n",
       "}\n",
       "#T_36a36_row5_col12 {\n",
       "  background-color: #485fd1;\n",
       "  color: #f1f1f1;\n",
       "}\n",
       "#T_36a36_row5_col15, #T_36a36_row8_col0, #T_36a36_row13_col15 {\n",
       "  background-color: #c1d4f4;\n",
       "  color: #000000;\n",
       "}\n",
       "#T_36a36_row6_col0, #T_36a36_row11_col8, #T_36a36_row11_col10 {\n",
       "  background-color: #9abbff;\n",
       "  color: #000000;\n",
       "}\n",
       "#T_36a36_row6_col3, #T_36a36_row10_col11 {\n",
       "  background-color: #86a9fc;\n",
       "  color: #f1f1f1;\n",
       "}\n",
       "#T_36a36_row6_col4, #T_36a36_row7_col14, #T_36a36_row12_col13 {\n",
       "  background-color: #7ea1fa;\n",
       "  color: #f1f1f1;\n",
       "}\n",
       "#T_36a36_row6_col7, #T_36a36_row10_col1 {\n",
       "  background-color: #96b7ff;\n",
       "  color: #000000;\n",
       "}\n",
       "#T_36a36_row6_col9, #T_36a36_row15_col8 {\n",
       "  background-color: #5b7ae5;\n",
       "  color: #f1f1f1;\n",
       "}\n",
       "#T_36a36_row6_col10 {\n",
       "  background-color: #4f69d9;\n",
       "  color: #f1f1f1;\n",
       "}\n",
       "#T_36a36_row6_col14, #T_36a36_row8_col7, #T_36a36_row8_col9, #T_36a36_row12_col7 {\n",
       "  background-color: #8badfd;\n",
       "  color: #000000;\n",
       "}\n",
       "#T_36a36_row6_col15 {\n",
       "  background-color: #bad0f8;\n",
       "  color: #000000;\n",
       "}\n",
       "#T_36a36_row6_col16, #T_36a36_row13_col2, #T_36a36_row16_col4 {\n",
       "  background-color: #3c4ec2;\n",
       "  color: #f1f1f1;\n",
       "}\n",
       "#T_36a36_row7_col4, #T_36a36_row15_col5 {\n",
       "  background-color: #6180e9;\n",
       "  color: #f1f1f1;\n",
       "}\n",
       "#T_36a36_row7_col6, #T_36a36_row8_col14 {\n",
       "  background-color: #7396f5;\n",
       "  color: #f1f1f1;\n",
       "}\n",
       "#T_36a36_row7_col11, #T_36a36_row12_col5, #T_36a36_row15_col1, #T_36a36_row15_col11 {\n",
       "  background-color: #4a63d3;\n",
       "  color: #f1f1f1;\n",
       "}\n",
       "#T_36a36_row7_col12, #T_36a36_row9_col12, #T_36a36_row10_col5, #T_36a36_row13_col5 {\n",
       "  background-color: #5673e0;\n",
       "  color: #f1f1f1;\n",
       "}\n",
       "#T_36a36_row7_col13, #T_36a36_row10_col16 {\n",
       "  background-color: #6c8ff1;\n",
       "  color: #f1f1f1;\n",
       "}\n",
       "#T_36a36_row7_col15 {\n",
       "  background-color: #d9dce1;\n",
       "  color: #000000;\n",
       "}\n",
       "#T_36a36_row8_col1 {\n",
       "  background-color: #f7b99e;\n",
       "  color: #000000;\n",
       "}\n",
       "#T_36a36_row8_col5, #T_36a36_row8_col11, #T_36a36_row16_col5 {\n",
       "  background-color: #7597f6;\n",
       "  color: #f1f1f1;\n",
       "}\n",
       "#T_36a36_row8_col6, #T_36a36_row8_col15 {\n",
       "  background-color: #9bbcff;\n",
       "  color: #000000;\n",
       "}\n",
       "#T_36a36_row9_col0 {\n",
       "  background-color: #dedcdb;\n",
       "  color: #000000;\n",
       "}\n",
       "#T_36a36_row9_col2 {\n",
       "  background-color: #efcebd;\n",
       "  color: #000000;\n",
       "}\n",
       "#T_36a36_row9_col5, #T_36a36_row13_col7, #T_36a36_row14_col8 {\n",
       "  background-color: #82a6fb;\n",
       "  color: #f1f1f1;\n",
       "}\n",
       "#T_36a36_row9_col6, #T_36a36_row11_col13, #T_36a36_row13_col4, #T_36a36_row15_col16 {\n",
       "  background-color: #516ddb;\n",
       "  color: #f1f1f1;\n",
       "}\n",
       "#T_36a36_row9_col8 {\n",
       "  background-color: #9dbdff;\n",
       "  color: #000000;\n",
       "}\n",
       "#T_36a36_row9_col13, #T_36a36_row16_col6 {\n",
       "  background-color: #3e51c5;\n",
       "  color: #f1f1f1;\n",
       "}\n",
       "#T_36a36_row9_col14, #T_36a36_row14_col6 {\n",
       "  background-color: #7b9ff9;\n",
       "  color: #f1f1f1;\n",
       "}\n",
       "#T_36a36_row9_col16, #T_36a36_row10_col2 {\n",
       "  background-color: #bfd3f6;\n",
       "  color: #000000;\n",
       "}\n",
       "#T_36a36_row10_col3, #T_36a36_row11_col7, #T_36a36_row12_col2, #T_36a36_row13_col6 {\n",
       "  background-color: #799cf8;\n",
       "  color: #f1f1f1;\n",
       "}\n",
       "#T_36a36_row10_col6 {\n",
       "  background-color: #445acc;\n",
       "  color: #f1f1f1;\n",
       "}\n",
       "#T_36a36_row10_col7 {\n",
       "  background-color: #98b9ff;\n",
       "  color: #000000;\n",
       "}\n",
       "#T_36a36_row10_col12 {\n",
       "  background-color: #4358cb;\n",
       "  color: #f1f1f1;\n",
       "}\n",
       "#T_36a36_row11_col0 {\n",
       "  background-color: #c9d7f0;\n",
       "  color: #000000;\n",
       "}\n",
       "#T_36a36_row11_col2, #T_36a36_row11_col16 {\n",
       "  background-color: #c3d5f4;\n",
       "  color: #000000;\n",
       "}\n",
       "#T_36a36_row11_col12, #T_36a36_row14_col4 {\n",
       "  background-color: #4257c9;\n",
       "  color: #f1f1f1;\n",
       "}\n",
       "#T_36a36_row11_col14, #T_36a36_row15_col6 {\n",
       "  background-color: #6384eb;\n",
       "  color: #f1f1f1;\n",
       "}\n",
       "#T_36a36_row12_col0 {\n",
       "  background-color: #cad8ef;\n",
       "  color: #000000;\n",
       "}\n",
       "#T_36a36_row12_col1, #T_36a36_row14_col3, #T_36a36_row14_col13 {\n",
       "  background-color: #6f92f3;\n",
       "  color: #f1f1f1;\n",
       "}\n",
       "#T_36a36_row12_col14 {\n",
       "  background-color: #5a78e4;\n",
       "  color: #f1f1f1;\n",
       "}\n",
       "#T_36a36_row12_col15, #T_36a36_row14_col15 {\n",
       "  background-color: #b6cefa;\n",
       "  color: #000000;\n",
       "}\n",
       "#T_36a36_row13_col0 {\n",
       "  background-color: #9fbfff;\n",
       "  color: #000000;\n",
       "}\n",
       "#T_36a36_row14_col7 {\n",
       "  background-color: #92b4fe;\n",
       "  color: #000000;\n",
       "}\n",
       "#T_36a36_row15_col13 {\n",
       "  background-color: #7da0f9;\n",
       "  color: #f1f1f1;\n",
       "}\n",
       "#T_36a36_row16_col0 {\n",
       "  background-color: #e2dad5;\n",
       "  color: #000000;\n",
       "}\n",
       "#T_36a36_row16_col2 {\n",
       "  background-color: #dbdcde;\n",
       "  color: #000000;\n",
       "}\n",
       "#T_36a36_row16_col9 {\n",
       "  background-color: #c6d6f1;\n",
       "  color: #000000;\n",
       "}\n",
       "#T_36a36_row16_col10 {\n",
       "  background-color: #7a9df8;\n",
       "  color: #f1f1f1;\n",
       "}\n",
       "#T_36a36_row16_col11 {\n",
       "  background-color: #bed2f6;\n",
       "  color: #000000;\n",
       "}\n",
       "#T_36a36_row16_col14 {\n",
       "  background-color: #4c66d6;\n",
       "  color: #f1f1f1;\n",
       "}\n",
       "</style>\n",
       "<table id=\"T_36a36_\">\n",
       "  <thead>\n",
       "    <tr>\n",
       "      <th class=\"blank level0\" >&nbsp;</th>\n",
       "      <th class=\"col_heading level0 col0\" >Age</th>\n",
       "      <th class=\"col_heading level0 col1\" >Height</th>\n",
       "      <th class=\"col_heading level0 col2\" >Weight</th>\n",
       "      <th class=\"col_heading level0 col3\" >FCVC</th>\n",
       "      <th class=\"col_heading level0 col4\" >NCP</th>\n",
       "      <th class=\"col_heading level0 col5\" >CH2O</th>\n",
       "      <th class=\"col_heading level0 col6\" >FAF</th>\n",
       "      <th class=\"col_heading level0 col7\" >TUE</th>\n",
       "      <th class=\"col_heading level0 col8\" >gender</th>\n",
       "      <th class=\"col_heading level0 col9\" >famhistory</th>\n",
       "      <th class=\"col_heading level0 col10\" >favc</th>\n",
       "      <th class=\"col_heading level0 col11\" >caec</th>\n",
       "      <th class=\"col_heading level0 col12\" >smoke</th>\n",
       "      <th class=\"col_heading level0 col13\" >scc</th>\n",
       "      <th class=\"col_heading level0 col14\" >calc</th>\n",
       "      <th class=\"col_heading level0 col15\" >mtrans</th>\n",
       "      <th class=\"col_heading level0 col16\" >nobeyes</th>\n",
       "    </tr>\n",
       "  </thead>\n",
       "  <tbody>\n",
       "    <tr>\n",
       "      <th id=\"T_36a36_level0_row0\" class=\"row_heading level0 row0\" >Age</th>\n",
       "      <td id=\"T_36a36_row0_col0\" class=\"data row0 col0\" >1.000000</td>\n",
       "      <td id=\"T_36a36_row0_col1\" class=\"data row0 col1\" >-0.025958</td>\n",
       "      <td id=\"T_36a36_row0_col2\" class=\"data row0 col2\" >0.202560</td>\n",
       "      <td id=\"T_36a36_row0_col3\" class=\"data row0 col3\" >0.016291</td>\n",
       "      <td id=\"T_36a36_row0_col4\" class=\"data row0 col4\" >-0.043944</td>\n",
       "      <td id=\"T_36a36_row0_col5\" class=\"data row0 col5\" >-0.045304</td>\n",
       "      <td id=\"T_36a36_row0_col6\" class=\"data row0 col6\" >-0.144938</td>\n",
       "      <td id=\"T_36a36_row0_col7\" class=\"data row0 col7\" >-0.296931</td>\n",
       "      <td id=\"T_36a36_row0_col8\" class=\"data row0 col8\" >0.048394</td>\n",
       "      <td id=\"T_36a36_row0_col9\" class=\"data row0 col9\" >0.205725</td>\n",
       "      <td id=\"T_36a36_row0_col10\" class=\"data row0 col10\" >0.063902</td>\n",
       "      <td id=\"T_36a36_row0_col11\" class=\"data row0 col11\" >0.083739</td>\n",
       "      <td id=\"T_36a36_row0_col12\" class=\"data row0 col12\" >0.091987</td>\n",
       "      <td id=\"T_36a36_row0_col13\" class=\"data row0 col13\" >-0.116283</td>\n",
       "      <td id=\"T_36a36_row0_col14\" class=\"data row0 col14\" >-0.044487</td>\n",
       "      <td id=\"T_36a36_row0_col15\" class=\"data row0 col15\" >-0.601945</td>\n",
       "      <td id=\"T_36a36_row0_col16\" class=\"data row0 col16\" >0.236170</td>\n",
       "    </tr>\n",
       "    <tr>\n",
       "      <th id=\"T_36a36_level0_row1\" class=\"row_heading level0 row1\" >Height</th>\n",
       "      <td id=\"T_36a36_row1_col0\" class=\"data row1 col0\" >-0.025958</td>\n",
       "      <td id=\"T_36a36_row1_col1\" class=\"data row1 col1\" >1.000000</td>\n",
       "      <td id=\"T_36a36_row1_col2\" class=\"data row1 col2\" >0.463136</td>\n",
       "      <td id=\"T_36a36_row1_col3\" class=\"data row1 col3\" >-0.038121</td>\n",
       "      <td id=\"T_36a36_row1_col4\" class=\"data row1 col4\" >0.243672</td>\n",
       "      <td id=\"T_36a36_row1_col5\" class=\"data row1 col5\" >0.213376</td>\n",
       "      <td id=\"T_36a36_row1_col6\" class=\"data row1 col6\" >0.294709</td>\n",
       "      <td id=\"T_36a36_row1_col7\" class=\"data row1 col7\" >0.051912</td>\n",
       "      <td id=\"T_36a36_row1_col8\" class=\"data row1 col8\" >0.618466</td>\n",
       "      <td id=\"T_36a36_row1_col9\" class=\"data row1 col9\" >0.247684</td>\n",
       "      <td id=\"T_36a36_row1_col10\" class=\"data row1 col10\" >0.178364</td>\n",
       "      <td id=\"T_36a36_row1_col11\" class=\"data row1 col11\" >0.048818</td>\n",
       "      <td id=\"T_36a36_row1_col12\" class=\"data row1 col12\" >0.055499</td>\n",
       "      <td id=\"T_36a36_row1_col13\" class=\"data row1 col13\" >-0.133753</td>\n",
       "      <td id=\"T_36a36_row1_col14\" class=\"data row1 col14\" >-0.129732</td>\n",
       "      <td id=\"T_36a36_row1_col15\" class=\"data row1 col15\" >-0.073609</td>\n",
       "      <td id=\"T_36a36_row1_col16\" class=\"data row1 col16\" >0.038986</td>\n",
       "    </tr>\n",
       "    <tr>\n",
       "      <th id=\"T_36a36_level0_row2\" class=\"row_heading level0 row2\" >Weight</th>\n",
       "      <td id=\"T_36a36_row2_col0\" class=\"data row2 col0\" >0.202560</td>\n",
       "      <td id=\"T_36a36_row2_col1\" class=\"data row2 col1\" >0.463136</td>\n",
       "      <td id=\"T_36a36_row2_col2\" class=\"data row2 col2\" >1.000000</td>\n",
       "      <td id=\"T_36a36_row2_col3\" class=\"data row2 col3\" >0.216125</td>\n",
       "      <td id=\"T_36a36_row2_col4\" class=\"data row2 col4\" >0.107469</td>\n",
       "      <td id=\"T_36a36_row2_col5\" class=\"data row2 col5\" >0.200575</td>\n",
       "      <td id=\"T_36a36_row2_col6\" class=\"data row2 col6\" >-0.051436</td>\n",
       "      <td id=\"T_36a36_row2_col7\" class=\"data row2 col7\" >-0.071561</td>\n",
       "      <td id=\"T_36a36_row2_col8\" class=\"data row2 col8\" >0.161668</td>\n",
       "      <td id=\"T_36a36_row2_col9\" class=\"data row2 col9\" >0.496820</td>\n",
       "      <td id=\"T_36a36_row2_col10\" class=\"data row2 col10\" >0.272300</td>\n",
       "      <td id=\"T_36a36_row2_col11\" class=\"data row2 col11\" >0.287493</td>\n",
       "      <td id=\"T_36a36_row2_col12\" class=\"data row2 col12\" >0.025746</td>\n",
       "      <td id=\"T_36a36_row2_col13\" class=\"data row2 col13\" >-0.201906</td>\n",
       "      <td id=\"T_36a36_row2_col14\" class=\"data row2 col14\" >-0.206677</td>\n",
       "      <td id=\"T_36a36_row2_col15\" class=\"data row2 col15\" >0.004610</td>\n",
       "      <td id=\"T_36a36_row2_col16\" class=\"data row2 col16\" >0.387643</td>\n",
       "    </tr>\n",
       "    <tr>\n",
       "      <th id=\"T_36a36_level0_row3\" class=\"row_heading level0 row3\" >FCVC</th>\n",
       "      <td id=\"T_36a36_row3_col0\" class=\"data row3 col0\" >0.016291</td>\n",
       "      <td id=\"T_36a36_row3_col1\" class=\"data row3 col1\" >-0.038121</td>\n",
       "      <td id=\"T_36a36_row3_col2\" class=\"data row3 col2\" >0.216125</td>\n",
       "      <td id=\"T_36a36_row3_col3\" class=\"data row3 col3\" >1.000000</td>\n",
       "      <td id=\"T_36a36_row3_col4\" class=\"data row3 col4\" >0.042216</td>\n",
       "      <td id=\"T_36a36_row3_col5\" class=\"data row3 col5\" >0.068461</td>\n",
       "      <td id=\"T_36a36_row3_col6\" class=\"data row3 col6\" >0.019939</td>\n",
       "      <td id=\"T_36a36_row3_col7\" class=\"data row3 col7\" >-0.101135</td>\n",
       "      <td id=\"T_36a36_row3_col8\" class=\"data row3 col8\" >-0.274505</td>\n",
       "      <td id=\"T_36a36_row3_col9\" class=\"data row3 col9\" >0.040372</td>\n",
       "      <td id=\"T_36a36_row3_col10\" class=\"data row3 col10\" >-0.027283</td>\n",
       "      <td id=\"T_36a36_row3_col11\" class=\"data row3 col11\" >-0.054670</td>\n",
       "      <td id=\"T_36a36_row3_col12\" class=\"data row3 col12\" >0.014320</td>\n",
       "      <td id=\"T_36a36_row3_col13\" class=\"data row3 col13\" >0.071852</td>\n",
       "      <td id=\"T_36a36_row3_col14\" class=\"data row3 col14\" >-0.060781</td>\n",
       "      <td id=\"T_36a36_row3_col15\" class=\"data row3 col15\" >0.064743</td>\n",
       "      <td id=\"T_36a36_row3_col16\" class=\"data row3 col16\" >0.018522</td>\n",
       "    </tr>\n",
       "    <tr>\n",
       "      <th id=\"T_36a36_level0_row4\" class=\"row_heading level0 row4\" >NCP</th>\n",
       "      <td id=\"T_36a36_row4_col0\" class=\"data row4 col0\" >-0.043944</td>\n",
       "      <td id=\"T_36a36_row4_col1\" class=\"data row4 col1\" >0.243672</td>\n",
       "      <td id=\"T_36a36_row4_col2\" class=\"data row4 col2\" >0.107469</td>\n",
       "      <td id=\"T_36a36_row4_col3\" class=\"data row4 col3\" >0.042216</td>\n",
       "      <td id=\"T_36a36_row4_col4\" class=\"data row4 col4\" >1.000000</td>\n",
       "      <td id=\"T_36a36_row4_col5\" class=\"data row4 col5\" >0.057088</td>\n",
       "      <td id=\"T_36a36_row4_col6\" class=\"data row4 col6\" >0.129504</td>\n",
       "      <td id=\"T_36a36_row4_col7\" class=\"data row4 col7\" >0.036326</td>\n",
       "      <td id=\"T_36a36_row4_col8\" class=\"data row4 col8\" >0.067600</td>\n",
       "      <td id=\"T_36a36_row4_col9\" class=\"data row4 col9\" >0.071370</td>\n",
       "      <td id=\"T_36a36_row4_col10\" class=\"data row4 col10\" >-0.007000</td>\n",
       "      <td id=\"T_36a36_row4_col11\" class=\"data row4 col11\" >-0.097801</td>\n",
       "      <td id=\"T_36a36_row4_col12\" class=\"data row4 col12\" >0.007811</td>\n",
       "      <td id=\"T_36a36_row4_col13\" class=\"data row4 col13\" >-0.015624</td>\n",
       "      <td id=\"T_36a36_row4_col14\" class=\"data row4 col14\" >-0.071747</td>\n",
       "      <td id=\"T_36a36_row4_col15\" class=\"data row4 col15\" >-0.053858</td>\n",
       "      <td id=\"T_36a36_row4_col16\" class=\"data row4 col16\" >-0.092616</td>\n",
       "    </tr>\n",
       "    <tr>\n",
       "      <th id=\"T_36a36_level0_row5\" class=\"row_heading level0 row5\" >CH2O</th>\n",
       "      <td id=\"T_36a36_row5_col0\" class=\"data row5 col0\" >-0.045304</td>\n",
       "      <td id=\"T_36a36_row5_col1\" class=\"data row5 col1\" >0.213376</td>\n",
       "      <td id=\"T_36a36_row5_col2\" class=\"data row5 col2\" >0.200575</td>\n",
       "      <td id=\"T_36a36_row5_col3\" class=\"data row5 col3\" >0.068461</td>\n",
       "      <td id=\"T_36a36_row5_col4\" class=\"data row5 col4\" >0.057088</td>\n",
       "      <td id=\"T_36a36_row5_col5\" class=\"data row5 col5\" >1.000000</td>\n",
       "      <td id=\"T_36a36_row5_col6\" class=\"data row5 col6\" >0.167236</td>\n",
       "      <td id=\"T_36a36_row5_col7\" class=\"data row5 col7\" >0.011965</td>\n",
       "      <td id=\"T_36a36_row5_col8\" class=\"data row5 col8\" >0.107930</td>\n",
       "      <td id=\"T_36a36_row5_col9\" class=\"data row5 col9\" >0.147437</td>\n",
       "      <td id=\"T_36a36_row5_col10\" class=\"data row5 col10\" >0.009719</td>\n",
       "      <td id=\"T_36a36_row5_col11\" class=\"data row5 col11\" >0.144995</td>\n",
       "      <td id=\"T_36a36_row5_col12\" class=\"data row5 col12\" >-0.031995</td>\n",
       "      <td id=\"T_36a36_row5_col13\" class=\"data row5 col13\" >0.008036</td>\n",
       "      <td id=\"T_36a36_row5_col14\" class=\"data row5 col14\" >-0.091386</td>\n",
       "      <td id=\"T_36a36_row5_col15\" class=\"data row5 col15\" >0.044028</td>\n",
       "      <td id=\"T_36a36_row5_col16\" class=\"data row5 col16\" >0.108868</td>\n",
       "    </tr>\n",
       "    <tr>\n",
       "      <th id=\"T_36a36_level0_row6\" class=\"row_heading level0 row6\" >FAF</th>\n",
       "      <td id=\"T_36a36_row6_col0\" class=\"data row6 col0\" >-0.144938</td>\n",
       "      <td id=\"T_36a36_row6_col1\" class=\"data row6 col1\" >0.294709</td>\n",
       "      <td id=\"T_36a36_row6_col2\" class=\"data row6 col2\" >-0.051436</td>\n",
       "      <td id=\"T_36a36_row6_col3\" class=\"data row6 col3\" >0.019939</td>\n",
       "      <td id=\"T_36a36_row6_col4\" class=\"data row6 col4\" >0.129504</td>\n",
       "      <td id=\"T_36a36_row6_col5\" class=\"data row6 col5\" >0.167236</td>\n",
       "      <td id=\"T_36a36_row6_col6\" class=\"data row6 col6\" >1.000000</td>\n",
       "      <td id=\"T_36a36_row6_col7\" class=\"data row6 col7\" >0.058562</td>\n",
       "      <td id=\"T_36a36_row6_col8\" class=\"data row6 col8\" >0.189607</td>\n",
       "      <td id=\"T_36a36_row6_col9\" class=\"data row6 col9\" >-0.056673</td>\n",
       "      <td id=\"T_36a36_row6_col10\" class=\"data row6 col10\" >-0.107995</td>\n",
       "      <td id=\"T_36a36_row6_col11\" class=\"data row6 col11\" >-0.030110</td>\n",
       "      <td id=\"T_36a36_row6_col12\" class=\"data row6 col12\" >0.011216</td>\n",
       "      <td id=\"T_36a36_row6_col13\" class=\"data row6 col13\" >0.074221</td>\n",
       "      <td id=\"T_36a36_row6_col14\" class=\"data row6 col14\" >0.086799</td>\n",
       "      <td id=\"T_36a36_row6_col15\" class=\"data row6 col15\" >0.006394</td>\n",
       "      <td id=\"T_36a36_row6_col16\" class=\"data row6 col16\" >-0.129564</td>\n",
       "    </tr>\n",
       "    <tr>\n",
       "      <th id=\"T_36a36_level0_row7\" class=\"row_heading level0 row7\" >TUE</th>\n",
       "      <td id=\"T_36a36_row7_col0\" class=\"data row7 col0\" >-0.296931</td>\n",
       "      <td id=\"T_36a36_row7_col1\" class=\"data row7 col1\" >0.051912</td>\n",
       "      <td id=\"T_36a36_row7_col2\" class=\"data row7 col2\" >-0.071561</td>\n",
       "      <td id=\"T_36a36_row7_col3\" class=\"data row7 col3\" >-0.101135</td>\n",
       "      <td id=\"T_36a36_row7_col4\" class=\"data row7 col4\" >0.036326</td>\n",
       "      <td id=\"T_36a36_row7_col5\" class=\"data row7 col5\" >0.011965</td>\n",
       "      <td id=\"T_36a36_row7_col6\" class=\"data row7 col6\" >0.058562</td>\n",
       "      <td id=\"T_36a36_row7_col7\" class=\"data row7 col7\" >1.000000</td>\n",
       "      <td id=\"T_36a36_row7_col8\" class=\"data row7 col8\" >0.017269</td>\n",
       "      <td id=\"T_36a36_row7_col9\" class=\"data row7 col9\" >0.022943</td>\n",
       "      <td id=\"T_36a36_row7_col10\" class=\"data row7 col10\" >0.068417</td>\n",
       "      <td id=\"T_36a36_row7_col11\" class=\"data row7 col11\" >-0.048567</td>\n",
       "      <td id=\"T_36a36_row7_col12\" class=\"data row7 col12\" >0.017613</td>\n",
       "      <td id=\"T_36a36_row7_col13\" class=\"data row7 col13\" >-0.010928</td>\n",
       "      <td id=\"T_36a36_row7_col14\" class=\"data row7 col14\" >0.045864</td>\n",
       "      <td id=\"T_36a36_row7_col15\" class=\"data row7 col15\" >0.176945</td>\n",
       "      <td id=\"T_36a36_row7_col16\" class=\"data row7 col16\" >-0.069448</td>\n",
       "    </tr>\n",
       "    <tr>\n",
       "      <th id=\"T_36a36_level0_row8\" class=\"row_heading level0 row8\" >gender</th>\n",
       "      <td id=\"T_36a36_row8_col0\" class=\"data row8 col0\" >0.048394</td>\n",
       "      <td id=\"T_36a36_row8_col1\" class=\"data row8 col1\" >0.618466</td>\n",
       "      <td id=\"T_36a36_row8_col2\" class=\"data row8 col2\" >0.161668</td>\n",
       "      <td id=\"T_36a36_row8_col3\" class=\"data row8 col3\" >-0.274505</td>\n",
       "      <td id=\"T_36a36_row8_col4\" class=\"data row8 col4\" >0.067600</td>\n",
       "      <td id=\"T_36a36_row8_col5\" class=\"data row8 col5\" >0.107930</td>\n",
       "      <td id=\"T_36a36_row8_col6\" class=\"data row8 col6\" >0.189607</td>\n",
       "      <td id=\"T_36a36_row8_col7\" class=\"data row8 col7\" >0.017269</td>\n",
       "      <td id=\"T_36a36_row8_col8\" class=\"data row8 col8\" >1.000000</td>\n",
       "      <td id=\"T_36a36_row8_col9\" class=\"data row8 col9\" >0.102512</td>\n",
       "      <td id=\"T_36a36_row8_col10\" class=\"data row8 col10\" >0.064934</td>\n",
       "      <td id=\"T_36a36_row8_col11\" class=\"data row8 col11\" >0.091543</td>\n",
       "      <td id=\"T_36a36_row8_col12\" class=\"data row8 col12\" >0.044698</td>\n",
       "      <td id=\"T_36a36_row8_col13\" class=\"data row8 col13\" >-0.102633</td>\n",
       "      <td id=\"T_36a36_row8_col14\" class=\"data row8 col14\" >0.007616</td>\n",
       "      <td id=\"T_36a36_row8_col15\" class=\"data row8 col15\" >-0.137537</td>\n",
       "      <td id=\"T_36a36_row8_col16\" class=\"data row8 col16\" >0.024908</td>\n",
       "    </tr>\n",
       "    <tr>\n",
       "      <th id=\"T_36a36_level0_row9\" class=\"row_heading level0 row9\" >famhistory</th>\n",
       "      <td id=\"T_36a36_row9_col0\" class=\"data row9 col0\" >0.205725</td>\n",
       "      <td id=\"T_36a36_row9_col1\" class=\"data row9 col1\" >0.247684</td>\n",
       "      <td id=\"T_36a36_row9_col2\" class=\"data row9 col2\" >0.496820</td>\n",
       "      <td id=\"T_36a36_row9_col3\" class=\"data row9 col3\" >0.040372</td>\n",
       "      <td id=\"T_36a36_row9_col4\" class=\"data row9 col4\" >0.071370</td>\n",
       "      <td id=\"T_36a36_row9_col5\" class=\"data row9 col5\" >0.147437</td>\n",
       "      <td id=\"T_36a36_row9_col6\" class=\"data row9 col6\" >-0.056673</td>\n",
       "      <td id=\"T_36a36_row9_col7\" class=\"data row9 col7\" >0.022943</td>\n",
       "      <td id=\"T_36a36_row9_col8\" class=\"data row9 col8\" >0.102512</td>\n",
       "      <td id=\"T_36a36_row9_col9\" class=\"data row9 col9\" >1.000000</td>\n",
       "      <td id=\"T_36a36_row9_col10\" class=\"data row9 col10\" >0.208036</td>\n",
       "      <td id=\"T_36a36_row9_col11\" class=\"data row9 col11\" >0.169787</td>\n",
       "      <td id=\"T_36a36_row9_col12\" class=\"data row9 col12\" >0.017385</td>\n",
       "      <td id=\"T_36a36_row9_col13\" class=\"data row9 col13\" >-0.185422</td>\n",
       "      <td id=\"T_36a36_row9_col14\" class=\"data row9 col14\" >0.036676</td>\n",
       "      <td id=\"T_36a36_row9_col15\" class=\"data row9 col15\" >-0.101540</td>\n",
       "      <td id=\"T_36a36_row9_col16\" class=\"data row9 col16\" >0.313667</td>\n",
       "    </tr>\n",
       "    <tr>\n",
       "      <th id=\"T_36a36_level0_row10\" class=\"row_heading level0 row10\" >favc</th>\n",
       "      <td id=\"T_36a36_row10_col0\" class=\"data row10 col0\" >0.063902</td>\n",
       "      <td id=\"T_36a36_row10_col1\" class=\"data row10 col1\" >0.178364</td>\n",
       "      <td id=\"T_36a36_row10_col2\" class=\"data row10 col2\" >0.272300</td>\n",
       "      <td id=\"T_36a36_row10_col3\" class=\"data row10 col3\" >-0.027283</td>\n",
       "      <td id=\"T_36a36_row10_col4\" class=\"data row10 col4\" >-0.007000</td>\n",
       "      <td id=\"T_36a36_row10_col5\" class=\"data row10 col5\" >0.009719</td>\n",
       "      <td id=\"T_36a36_row10_col6\" class=\"data row10 col6\" >-0.107995</td>\n",
       "      <td id=\"T_36a36_row10_col7\" class=\"data row10 col7\" >0.068417</td>\n",
       "      <td id=\"T_36a36_row10_col8\" class=\"data row10 col8\" >0.064934</td>\n",
       "      <td id=\"T_36a36_row10_col9\" class=\"data row10 col9\" >0.208036</td>\n",
       "      <td id=\"T_36a36_row10_col10\" class=\"data row10 col10\" >1.000000</td>\n",
       "      <td id=\"T_36a36_row10_col11\" class=\"data row10 col11\" >0.150068</td>\n",
       "      <td id=\"T_36a36_row10_col12\" class=\"data row10 col12\" >-0.050660</td>\n",
       "      <td id=\"T_36a36_row10_col13\" class=\"data row10 col13\" >-0.190658</td>\n",
       "      <td id=\"T_36a36_row10_col14\" class=\"data row10 col14\" >-0.089520</td>\n",
       "      <td id=\"T_36a36_row10_col15\" class=\"data row10 col15\" >-0.069800</td>\n",
       "      <td id=\"T_36a36_row10_col16\" class=\"data row10 col16\" >0.044582</td>\n",
       "    </tr>\n",
       "    <tr>\n",
       "      <th id=\"T_36a36_level0_row11\" class=\"row_heading level0 row11\" >caec</th>\n",
       "      <td id=\"T_36a36_row11_col0\" class=\"data row11 col0\" >0.083739</td>\n",
       "      <td id=\"T_36a36_row11_col1\" class=\"data row11 col1\" >0.048818</td>\n",
       "      <td id=\"T_36a36_row11_col2\" class=\"data row11 col2\" >0.287493</td>\n",
       "      <td id=\"T_36a36_row11_col3\" class=\"data row11 col3\" >-0.054670</td>\n",
       "      <td id=\"T_36a36_row11_col4\" class=\"data row11 col4\" >-0.097801</td>\n",
       "      <td id=\"T_36a36_row11_col5\" class=\"data row11 col5\" >0.144995</td>\n",
       "      <td id=\"T_36a36_row11_col6\" class=\"data row11 col6\" >-0.030110</td>\n",
       "      <td id=\"T_36a36_row11_col7\" class=\"data row11 col7\" >-0.048567</td>\n",
       "      <td id=\"T_36a36_row11_col8\" class=\"data row11 col8\" >0.091543</td>\n",
       "      <td id=\"T_36a36_row11_col9\" class=\"data row11 col9\" >0.169787</td>\n",
       "      <td id=\"T_36a36_row11_col10\" class=\"data row11 col10\" >0.150068</td>\n",
       "      <td id=\"T_36a36_row11_col11\" class=\"data row11 col11\" >1.000000</td>\n",
       "      <td id=\"T_36a36_row11_col12\" class=\"data row11 col12\" >-0.055282</td>\n",
       "      <td id=\"T_36a36_row11_col13\" class=\"data row11 col13\" >-0.109179</td>\n",
       "      <td id=\"T_36a36_row11_col14\" class=\"data row11 col14\" >-0.047540</td>\n",
       "      <td id=\"T_36a36_row11_col15\" class=\"data row11 col15\" >-0.048535</td>\n",
       "      <td id=\"T_36a36_row11_col16\" class=\"data row11 col16\" >0.327295</td>\n",
       "    </tr>\n",
       "    <tr>\n",
       "      <th id=\"T_36a36_level0_row12\" class=\"row_heading level0 row12\" >smoke</th>\n",
       "      <td id=\"T_36a36_row12_col0\" class=\"data row12 col0\" >0.091987</td>\n",
       "      <td id=\"T_36a36_row12_col1\" class=\"data row12 col1\" >0.055499</td>\n",
       "      <td id=\"T_36a36_row12_col2\" class=\"data row12 col2\" >0.025746</td>\n",
       "      <td id=\"T_36a36_row12_col3\" class=\"data row12 col3\" >0.014320</td>\n",
       "      <td id=\"T_36a36_row12_col4\" class=\"data row12 col4\" >0.007811</td>\n",
       "      <td id=\"T_36a36_row12_col5\" class=\"data row12 col5\" >-0.031995</td>\n",
       "      <td id=\"T_36a36_row12_col6\" class=\"data row12 col6\" >0.011216</td>\n",
       "      <td id=\"T_36a36_row12_col7\" class=\"data row12 col7\" >0.017613</td>\n",
       "      <td id=\"T_36a36_row12_col8\" class=\"data row12 col8\" >0.044698</td>\n",
       "      <td id=\"T_36a36_row12_col9\" class=\"data row12 col9\" >0.017385</td>\n",
       "      <td id=\"T_36a36_row12_col10\" class=\"data row12 col10\" >-0.050660</td>\n",
       "      <td id=\"T_36a36_row12_col11\" class=\"data row12 col11\" >-0.055282</td>\n",
       "      <td id=\"T_36a36_row12_col12\" class=\"data row12 col12\" >1.000000</td>\n",
       "      <td id=\"T_36a36_row12_col13\" class=\"data row12 col13\" >0.047731</td>\n",
       "      <td id=\"T_36a36_row12_col14\" class=\"data row12 col14\" >-0.082471</td>\n",
       "      <td id=\"T_36a36_row12_col15\" class=\"data row12 col15\" >-0.010702</td>\n",
       "      <td id=\"T_36a36_row12_col16\" class=\"data row12 col16\" >-0.023256</td>\n",
       "    </tr>\n",
       "    <tr>\n",
       "      <th id=\"T_36a36_level0_row13\" class=\"row_heading level0 row13\" >scc</th>\n",
       "      <td id=\"T_36a36_row13_col0\" class=\"data row13 col0\" >-0.116283</td>\n",
       "      <td id=\"T_36a36_row13_col1\" class=\"data row13 col1\" >-0.133753</td>\n",
       "      <td id=\"T_36a36_row13_col2\" class=\"data row13 col2\" >-0.201906</td>\n",
       "      <td id=\"T_36a36_row13_col3\" class=\"data row13 col3\" >0.071852</td>\n",
       "      <td id=\"T_36a36_row13_col4\" class=\"data row13 col4\" >-0.015624</td>\n",
       "      <td id=\"T_36a36_row13_col5\" class=\"data row13 col5\" >0.008036</td>\n",
       "      <td id=\"T_36a36_row13_col6\" class=\"data row13 col6\" >0.074221</td>\n",
       "      <td id=\"T_36a36_row13_col7\" class=\"data row13 col7\" >-0.010928</td>\n",
       "      <td id=\"T_36a36_row13_col8\" class=\"data row13 col8\" >-0.102633</td>\n",
       "      <td id=\"T_36a36_row13_col9\" class=\"data row13 col9\" >-0.185422</td>\n",
       "      <td id=\"T_36a36_row13_col10\" class=\"data row13 col10\" >-0.190658</td>\n",
       "      <td id=\"T_36a36_row13_col11\" class=\"data row13 col11\" >-0.109179</td>\n",
       "      <td id=\"T_36a36_row13_col12\" class=\"data row13 col12\" >0.047731</td>\n",
       "      <td id=\"T_36a36_row13_col13\" class=\"data row13 col13\" >1.000000</td>\n",
       "      <td id=\"T_36a36_row13_col14\" class=\"data row13 col14\" >-0.003463</td>\n",
       "      <td id=\"T_36a36_row13_col15\" class=\"data row13 col15\" >0.043157</td>\n",
       "      <td id=\"T_36a36_row13_col16\" class=\"data row13 col16\" >-0.050679</td>\n",
       "    </tr>\n",
       "    <tr>\n",
       "      <th id=\"T_36a36_level0_row14\" class=\"row_heading level0 row14\" >calc</th>\n",
       "      <td id=\"T_36a36_row14_col0\" class=\"data row14 col0\" >-0.044487</td>\n",
       "      <td id=\"T_36a36_row14_col1\" class=\"data row14 col1\" >-0.129732</td>\n",
       "      <td id=\"T_36a36_row14_col2\" class=\"data row14 col2\" >-0.206677</td>\n",
       "      <td id=\"T_36a36_row14_col3\" class=\"data row14 col3\" >-0.060781</td>\n",
       "      <td id=\"T_36a36_row14_col4\" class=\"data row14 col4\" >-0.071747</td>\n",
       "      <td id=\"T_36a36_row14_col5\" class=\"data row14 col5\" >-0.091386</td>\n",
       "      <td id=\"T_36a36_row14_col6\" class=\"data row14 col6\" >0.086799</td>\n",
       "      <td id=\"T_36a36_row14_col7\" class=\"data row14 col7\" >0.045864</td>\n",
       "      <td id=\"T_36a36_row14_col8\" class=\"data row14 col8\" >0.007616</td>\n",
       "      <td id=\"T_36a36_row14_col9\" class=\"data row14 col9\" >0.036676</td>\n",
       "      <td id=\"T_36a36_row14_col10\" class=\"data row14 col10\" >-0.089520</td>\n",
       "      <td id=\"T_36a36_row14_col11\" class=\"data row14 col11\" >-0.047540</td>\n",
       "      <td id=\"T_36a36_row14_col12\" class=\"data row14 col12\" >-0.082471</td>\n",
       "      <td id=\"T_36a36_row14_col13\" class=\"data row14 col13\" >-0.003463</td>\n",
       "      <td id=\"T_36a36_row14_col14\" class=\"data row14 col14\" >1.000000</td>\n",
       "      <td id=\"T_36a36_row14_col15\" class=\"data row14 col15\" >-0.012452</td>\n",
       "      <td id=\"T_36a36_row14_col16\" class=\"data row14 col16\" >-0.134632</td>\n",
       "    </tr>\n",
       "    <tr>\n",
       "      <th id=\"T_36a36_level0_row15\" class=\"row_heading level0 row15\" >mtrans</th>\n",
       "      <td id=\"T_36a36_row15_col0\" class=\"data row15 col0\" >-0.601945</td>\n",
       "      <td id=\"T_36a36_row15_col1\" class=\"data row15 col1\" >-0.073609</td>\n",
       "      <td id=\"T_36a36_row15_col2\" class=\"data row15 col2\" >0.004610</td>\n",
       "      <td id=\"T_36a36_row15_col3\" class=\"data row15 col3\" >0.064743</td>\n",
       "      <td id=\"T_36a36_row15_col4\" class=\"data row15 col4\" >-0.053858</td>\n",
       "      <td id=\"T_36a36_row15_col5\" class=\"data row15 col5\" >0.044028</td>\n",
       "      <td id=\"T_36a36_row15_col6\" class=\"data row15 col6\" >0.006394</td>\n",
       "      <td id=\"T_36a36_row15_col7\" class=\"data row15 col7\" >0.176945</td>\n",
       "      <td id=\"T_36a36_row15_col8\" class=\"data row15 col8\" >-0.137537</td>\n",
       "      <td id=\"T_36a36_row15_col9\" class=\"data row15 col9\" >-0.101540</td>\n",
       "      <td id=\"T_36a36_row15_col10\" class=\"data row15 col10\" >-0.069800</td>\n",
       "      <td id=\"T_36a36_row15_col11\" class=\"data row15 col11\" >-0.048535</td>\n",
       "      <td id=\"T_36a36_row15_col12\" class=\"data row15 col12\" >-0.010702</td>\n",
       "      <td id=\"T_36a36_row15_col13\" class=\"data row15 col13\" >0.043157</td>\n",
       "      <td id=\"T_36a36_row15_col14\" class=\"data row15 col14\" >-0.012452</td>\n",
       "      <td id=\"T_36a36_row15_col15\" class=\"data row15 col15\" >1.000000</td>\n",
       "      <td id=\"T_36a36_row15_col16\" class=\"data row15 col16\" >-0.046202</td>\n",
       "    </tr>\n",
       "    <tr>\n",
       "      <th id=\"T_36a36_level0_row16\" class=\"row_heading level0 row16\" >nobeyes</th>\n",
       "      <td id=\"T_36a36_row16_col0\" class=\"data row16 col0\" >0.236170</td>\n",
       "      <td id=\"T_36a36_row16_col1\" class=\"data row16 col1\" >0.038986</td>\n",
       "      <td id=\"T_36a36_row16_col2\" class=\"data row16 col2\" >0.387643</td>\n",
       "      <td id=\"T_36a36_row16_col3\" class=\"data row16 col3\" >0.018522</td>\n",
       "      <td id=\"T_36a36_row16_col4\" class=\"data row16 col4\" >-0.092616</td>\n",
       "      <td id=\"T_36a36_row16_col5\" class=\"data row16 col5\" >0.108868</td>\n",
       "      <td id=\"T_36a36_row16_col6\" class=\"data row16 col6\" >-0.129564</td>\n",
       "      <td id=\"T_36a36_row16_col7\" class=\"data row16 col7\" >-0.069448</td>\n",
       "      <td id=\"T_36a36_row16_col8\" class=\"data row16 col8\" >0.024908</td>\n",
       "      <td id=\"T_36a36_row16_col9\" class=\"data row16 col9\" >0.313667</td>\n",
       "      <td id=\"T_36a36_row16_col10\" class=\"data row16 col10\" >0.044582</td>\n",
       "      <td id=\"T_36a36_row16_col11\" class=\"data row16 col11\" >0.327295</td>\n",
       "      <td id=\"T_36a36_row16_col12\" class=\"data row16 col12\" >-0.023256</td>\n",
       "      <td id=\"T_36a36_row16_col13\" class=\"data row16 col13\" >-0.050679</td>\n",
       "      <td id=\"T_36a36_row16_col14\" class=\"data row16 col14\" >-0.134632</td>\n",
       "      <td id=\"T_36a36_row16_col15\" class=\"data row16 col15\" >-0.046202</td>\n",
       "      <td id=\"T_36a36_row16_col16\" class=\"data row16 col16\" >1.000000</td>\n",
       "    </tr>\n",
       "  </tbody>\n",
       "</table>\n"
      ],
      "text/plain": [
       "<pandas.io.formats.style.Styler at 0x27dffa48790>"
      ]
     },
     "execution_count": 10,
     "metadata": {},
     "output_type": "execute_result"
    }
   ],
   "source": [
    "corr.style.background_gradient(cmap='coolwarm')"
   ]
  },
  {
   "cell_type": "code",
   "execution_count": 49,
   "id": "d93a103b",
   "metadata": {},
   "outputs": [
    {
     "data": {
      "image/png": "[encoded data removed]",
      "text/plain": [
       "<Figure size 648x648 with 12 Axes>"
      ]
     },
     "metadata": {},
     "output_type": "display_data"
    }
   ],
   "source": [
    "sns.set(style=\"ticks\", color_codes=True)\n",
    "sns.pairplot(df,height=3,vars = ['Weight', 'Age','mtrans'])\n",
    "plt.show()"
   ]
  },
  {
   "cell_type": "code",
   "execution_count": 31,
   "id": "e8539aef",
   "metadata": {},
   "outputs": [],
   "source": [
    "import pandas as pd\n",
    "import numpy as np\n",
    "from sklearn.metrics import f1_score\n",
    "from sklearn.model_selection import train_test_split\n",
    "from sklearn.metrics import accuracy_score\n",
    "from sklearn.preprocessing import StandardScaler\n",
    "from datetime import datetime\n",
    "from sklearn.model_selection import RandomizedSearchCV, GridSearchCV\n",
    "from sklearn.metrics import roc_auc_score\n",
    "from sklearn.model_selection import StratifiedKFold\n",
    "from sklearn.model_selection import StratifiedKFold, cross_val_score\n",
    "from matplotlib import pyplot as plt\n",
    "from sklearn.base import clone\n",
    "\n",
    "\n",
    "\n",
    "from sklearn.model_selection import GridSearchCV\n",
    "from sklearn.svm import SVC\n",
    "import xgboost as xgb\n",
    "from xgboost import XGBClassifier,plot_importance\n",
    "from sklearn.ensemble import (RandomForestClassifier,\n",
    "                             AdaBoostClassifier,\n",
    "                             GradientBoostingClassifier)\n",
    "from sklearn.linear_model import LogisticRegression\n",
    "from sklearn.ensemble import ExtraTreesClassifier\n",
    "from sklearn.tree import DecisionTreeClassifier\n",
    "from sklearn.neural_network import MLPClassifier\n",
    "from catboost import CatBoostClassifier\n",
    "from lightgbm import LGBMClassifier\n",
    "from lightgbm import LGBMRegressor\n",
    "import lightgbm as lgb\n",
    "from sklearn.metrics import confusion_matrix\n",
    "from sklearn.metrics import precision_score, recall_score, f1_score, accuracy_score\n",
    "from sklearn.metrics import precision_recall_fscore_support"
   ]
  },
  {
   "cell_type": "code",
   "execution_count": 15,
   "id": "164413b6",
   "metadata": {},
   "outputs": [],
   "source": [
    "y=df.nobeyes\n",
    "X=df.drop(['nobeyes'],axis='columns')\n",
    "X_train, X_test, y_train, y_test = train_test_split(X, y, test_size = 0.2, random_state = 0)"
   ]
  },
  {
   "cell_type": "code",
   "execution_count": 16,
   "id": "8067e836",
   "metadata": {},
   "outputs": [
    {
     "data": {
      "text/plain": [
       "((1688, 16), (423, 16))"
      ]
     },
     "execution_count": 16,
     "metadata": {},
     "output_type": "execute_result"
    }
   ],
   "source": [
    "X_train.shape, X_test.shape"
   ]
  },
  {
   "cell_type": "markdown",
   "id": "8a74f8cd",
   "metadata": {},
   "source": [
    "### SUPPORT VECTOR MACHINE"
   ]
  },
  {
   "cell_type": "code",
   "execution_count": 17,
   "id": "8e457ab4",
   "metadata": {},
   "outputs": [],
   "source": [
    "#support vector machine with radial basis function kernel\n",
    "svc=SVC(C=100.0) \n",
    "svc.fit(X_train,y_train)\n",
    "y_pred=svc.predict(X_test)"
   ]
  },
  {
   "cell_type": "code",
   "execution_count": 18,
   "id": "7a0f287d",
   "metadata": {},
   "outputs": [
    {
     "name": "stdout",
     "output_type": "stream",
     "text": [
      "0.7730496453900709\n"
     ]
    }
   ],
   "source": [
    "print(accuracy_score(y_test, y_pred))"
   ]
  },
  {
   "cell_type": "code",
   "execution_count": 19,
   "id": "060b0e1e",
   "metadata": {},
   "outputs": [
    {
     "data": {
      "text/plain": [
       "(0.7677131618444506, 0.7730496453900709, 0.7685713590854568, None)"
      ]
     },
     "execution_count": 19,
     "metadata": {},
     "output_type": "execute_result"
    }
   ],
   "source": [
    "precision_recall_fscore_support(y_test, y_pred, average='weighted')"
   ]
  },
  {
   "cell_type": "markdown",
   "id": "edd27256",
   "metadata": {},
   "source": [
    "### checking for overfitting and underfitting"
   ]
  },
  {
   "cell_type": "code",
   "execution_count": 20,
   "id": "c00b7436",
   "metadata": {},
   "outputs": [
    {
     "data": {
      "text/plain": [
       "0.8139810426540285"
      ]
     },
     "execution_count": 20,
     "metadata": {},
     "output_type": "execute_result"
    }
   ],
   "source": [
    "svc.score(X_train, y_train)"
   ]
  },
  {
   "cell_type": "code",
   "execution_count": 21,
   "id": "3916cb78",
   "metadata": {},
   "outputs": [
    {
     "data": {
      "text/plain": [
       "0.7730496453900709"
      ]
     },
     "execution_count": 21,
     "metadata": {},
     "output_type": "execute_result"
    }
   ],
   "source": [
    "svc.score(X_test, y_test)"
   ]
  },
  {
   "cell_type": "code",
   "execution_count": 22,
   "id": "574e27f6",
   "metadata": {},
   "outputs": [],
   "source": [
    "#support vector machine with linear kernel\n",
    "lsvc=SVC(kernel='linear',C=100.0) \n",
    "lsvc.fit(X_train,y_train)\n",
    "l_pred=lsvc.predict(X_test)"
   ]
  },
  {
   "cell_type": "code",
   "execution_count": 23,
   "id": "17270957",
   "metadata": {},
   "outputs": [
    {
     "data": {
      "text/plain": [
       "0.9692671394799054"
      ]
     },
     "execution_count": 23,
     "metadata": {},
     "output_type": "execute_result"
    }
   ],
   "source": [
    "accuracy_score(y_test, l_pred)"
   ]
  },
  {
   "cell_type": "code",
   "execution_count": 24,
   "id": "c61263b2",
   "metadata": {},
   "outputs": [
    {
     "data": {
      "text/plain": [
       "(0.9694889352582178, 0.9673624620993042, 0.968146764407293, None)"
      ]
     },
     "execution_count": 24,
     "metadata": {},
     "output_type": "execute_result"
    }
   ],
   "source": [
    "precision_recall_fscore_support(y_test, l_pred, average='macro')"
   ]
  },
  {
   "cell_type": "code",
   "execution_count": 25,
   "id": "6b5d521c",
   "metadata": {},
   "outputs": [
    {
     "data": {
      "text/plain": [
       "0.9774881516587678"
      ]
     },
     "execution_count": 25,
     "metadata": {},
     "output_type": "execute_result"
    }
   ],
   "source": [
    "lsvc.score(X_train, y_train)"
   ]
  },
  {
   "cell_type": "code",
   "execution_count": 26,
   "id": "596abfc8",
   "metadata": {},
   "outputs": [
    {
     "data": {
      "text/plain": [
       "0.9692671394799054"
      ]
     },
     "execution_count": 26,
     "metadata": {},
     "output_type": "execute_result"
    }
   ],
   "source": [
    "lsvc.score(X_test, y_test)"
   ]
  },
  {
   "cell_type": "markdown",
   "id": "8e5026d2",
   "metadata": {},
   "source": [
    "0.977 and 0.96 are comparable values and therefore there has been no overfitting"
   ]
  },
  {
   "cell_type": "markdown",
   "id": "f066608c",
   "metadata": {},
   "source": [
    "### hyperparameter tuning using gridsearch"
   ]
  },
  {
   "cell_type": "code",
   "execution_count": 30,
   "id": "b6d9b51c",
   "metadata": {},
   "outputs": [],
   "source": [
    "parameters = [ {'C':[1, 10, 100, 1000], 'kernel':['linear']},\n",
    "               {'C':[1, 10, 100, 1000], 'kernel':['rbf'], 'gamma':[0.1, 0.2, 0.3, 0.4, 0.5, 0.6, 0.7, 0.8, 0.9]},\n",
    "               {'C':[1, 10, 100, 1000], 'kernel':['poly'], 'degree': [2,3,4] ,'gamma':[0.01,0.02,0.03,0.04,0.05]} \n",
    "              ]\n",
    "svc1=SVC() \n"
   ]
  },
  {
   "cell_type": "code",
   "execution_count": 1,
   "id": "8f8c6b05",
   "metadata": {},
   "outputs": [
    {
     "ename": "NameError",
     "evalue": "name 'GridSearchCV' is not defined",
     "output_type": "error",
     "traceback": [
      "\u001b[1;31m---------------------------------------------------------------------------\u001b[0m",
      "\u001b[1;31mNameError\u001b[0m                                 Traceback (most recent call last)",
      "\u001b[1;32m~\\AppData\\Local\\Temp/ipykernel_21640/1882678582.py\u001b[0m in \u001b[0;36m<module>\u001b[1;34m\u001b[0m\n\u001b[1;32m----> 1\u001b[1;33m grid_search = GridSearchCV(estimator = svc1,  \n\u001b[0m\u001b[0;32m      2\u001b[0m                            \u001b[0mparam_grid\u001b[0m \u001b[1;33m=\u001b[0m \u001b[0mparameters\u001b[0m\u001b[1;33m,\u001b[0m\u001b[1;33m\u001b[0m\u001b[1;33m\u001b[0m\u001b[0m\n\u001b[0;32m      3\u001b[0m                            \u001b[0mscoring\u001b[0m \u001b[1;33m=\u001b[0m \u001b[1;34m'neg_mean_squared_error'\u001b[0m\u001b[1;33m,\u001b[0m\u001b[1;33m\u001b[0m\u001b[1;33m\u001b[0m\u001b[0m\n\u001b[0;32m      4\u001b[0m                            \u001b[0mcv\u001b[0m \u001b[1;33m=\u001b[0m \u001b[1;36m5\u001b[0m\u001b[1;33m,\u001b[0m\u001b[1;33m\u001b[0m\u001b[1;33m\u001b[0m\u001b[0m\n\u001b[0;32m      5\u001b[0m                            verbose=0)\n",
      "\u001b[1;31mNameError\u001b[0m: name 'GridSearchCV' is not defined"
     ]
    }
   ],
   "source": [
    "\n",
    "grid_search = GridSearchCV(estimator = svc1,  \n",
    "                           param_grid = parameters,\n",
    "                           scoring = 'accuracy',\n",
    "                           cv = 5,\n",
    "                           verbose=0)"
   ]
  },
  {
   "cell_type": "code",
   "execution_count": 32,
   "id": "0647253b",
   "metadata": {},
   "outputs": [
    {
     "data": {
      "text/plain": [
       "GridSearchCV(cv=5, estimator=SVC(),\n",
       "             param_grid=[{'C': [1, 10, 100, 1000], 'kernel': ['linear']}],\n",
       "             scoring='accuracy')"
      ]
     },
     "execution_count": 32,
     "metadata": {},
     "output_type": "execute_result"
    }
   ],
   "source": [
    "grid_search.fit(X_train, y_train)"
   ]
  },
  {
   "cell_type": "code",
   "execution_count": 36,
   "id": "0545a1d3",
   "metadata": {},
   "outputs": [
    {
     "name": "stdout",
     "output_type": "stream",
     "text": [
      "0.9537969905009394\n",
      "{'C': 100, 'kernel': 'linear'}\n",
      "SVC(C=100, kernel='linear')\n",
      "0.9692671394799054\n"
     ]
    }
   ],
   "source": [
    "print(grid_search.best_score_)\n",
    "print(grid_search.best_params_)\n",
    "print(grid_search.best_estimator_)\n",
    "print(grid_search.score(X_test, y_test))"
   ]
  },
  {
   "cell_type": "markdown",
   "id": "0d6c9a80",
   "metadata": {},
   "source": [
    "### eXtreme Gradient Boosting"
   ]
  },
  {
   "cell_type": "code",
   "execution_count": 37,
   "id": "4c9bf1ca",
   "metadata": {},
   "outputs": [],
   "source": [
    "# define data_dmatrix\n",
    "data_dmatrix = xgb.DMatrix(data=X,label=y)"
   ]
  },
  {
   "cell_type": "code",
   "execution_count": 38,
   "id": "9a2d36b6",
   "metadata": {},
   "outputs": [],
   "source": [
    "xgbc = XGBClassifier(learning_rate=0.5, n_estimators=600, objective='binary:logistic',\n",
    "                    silent=True, nthread=1)"
   ]
  },
  {
   "cell_type": "code",
   "execution_count": 39,
   "id": "3e18e086",
   "metadata": {},
   "outputs": [
    {
     "name": "stderr",
     "output_type": "stream",
     "text": [
      "C:\\Users\\lenovo\\anaconda3\\lib\\site-packages\\xgboost\\sklearn.py:1224: UserWarning: The use of label encoder in XGBClassifier is deprecated and will be removed in a future release. To remove this warning, do the following: 1) Pass option use_label_encoder=False when constructing XGBClassifier object; and 2) Encode your labels (y) as integers starting with 0, i.e. 0, 1, 2, ..., [num_class - 1].\n",
      "  warnings.warn(label_encoder_deprecation_msg, UserWarning)\n"
     ]
    },
    {
     "name": "stdout",
     "output_type": "stream",
     "text": [
      "[02:08:07] WARNING: C:/Users/Administrator/workspace/xgboost-win64_release_1.5.1/src/learner.cc:576: \n",
      "Parameters: { \"silent\" } might not be used.\n",
      "\n",
      "  This could be a false alarm, with some parameters getting used by language bindings but\n",
      "  then being mistakenly passed down to XGBoost core, or some parameter actually being used\n",
      "  but getting flagged wrongly here. Please open an issue if you find any such cases.\n",
      "\n",
      "\n",
      "[02:08:07] WARNING: C:/Users/Administrator/workspace/xgboost-win64_release_1.5.1/src/learner.cc:1115: Starting in XGBoost 1.3.0, the default evaluation metric used with the objective 'multi:softprob' was changed from 'merror' to 'mlogloss'. Explicitly set eval_metric if you'd like to restore the old behavior.\n"
     ]
    },
    {
     "data": {
      "text/plain": [
       "XGBClassifier(base_score=0.5, booster='gbtree', colsample_bylevel=1,\n",
       "              colsample_bynode=1, colsample_bytree=1, enable_categorical=False,\n",
       "              gamma=0, gpu_id=-1, importance_type=None,\n",
       "              interaction_constraints='', learning_rate=0.5, max_delta_step=0,\n",
       "              max_depth=6, min_child_weight=1, missing=nan,\n",
       "              monotone_constraints='()', n_estimators=600, n_jobs=1, nthread=1,\n",
       "              num_parallel_tree=1, objective='multi:softprob', predictor='auto',\n",
       "              random_state=0, reg_alpha=0, reg_lambda=1, scale_pos_weight=None,\n",
       "              silent=True, subsample=1, tree_method='exact',\n",
       "              validate_parameters=1, ...)"
      ]
     },
     "execution_count": 39,
     "metadata": {},
     "output_type": "execute_result"
    }
   ],
   "source": [
    "xgbc.fit(X_train, y_train)"
   ]
  },
  {
   "cell_type": "code",
   "execution_count": 40,
   "id": "f24d2e97",
   "metadata": {},
   "outputs": [],
   "source": [
    "xgb_pred = xgbc.predict(X_test)"
   ]
  },
  {
   "cell_type": "code",
   "execution_count": 41,
   "id": "b6670a95",
   "metadata": {},
   "outputs": [
    {
     "data": {
      "text/plain": [
       "0.9763593380614657"
      ]
     },
     "execution_count": 41,
     "metadata": {},
     "output_type": "execute_result"
    }
   ],
   "source": [
    "accuracy_score(y_test, xgb_pred)"
   ]
  },
  {
   "cell_type": "code",
   "execution_count": 42,
   "id": "5c44871f",
   "metadata": {},
   "outputs": [
    {
     "data": {
      "text/plain": [
       "(0.9765892172936761, 0.975589322957744, 0.9757779053240883, None)"
      ]
     },
     "execution_count": 42,
     "metadata": {},
     "output_type": "execute_result"
    }
   ],
   "source": [
    "precision_recall_fscore_support(y_test, xgb_pred, average='macro')"
   ]
  },
  {
   "cell_type": "markdown",
   "id": "44420810",
   "metadata": {},
   "source": [
    "#### Feature Importance"
   ]
  },
  {
   "cell_type": "code",
   "execution_count": 43,
   "id": "390cbcd4",
   "metadata": {},
   "outputs": [
    {
     "data": {
      "image/png": "[encoded data removed]",
      "text/plain": [
       "<Figure size 432x288 with 1 Axes>"
      ]
     },
     "metadata": {
      "needs_background": "light"
     },
     "output_type": "display_data"
    },
    {
     "data": {
      "text/plain": [
       "<Figure size 1152x864 with 0 Axes>"
      ]
     },
     "metadata": {},
     "output_type": "display_data"
    }
   ],
   "source": [
    "xgb.plot_importance(xgbc)\n",
    "plt.figure(figsize = (16, 12))\n",
    "plt.show()"
   ]
  },
  {
   "cell_type": "code",
   "execution_count": 44,
   "id": "6f40cee3",
   "metadata": {},
   "outputs": [
    {
     "data": {
      "text/plain": [
       "[('Age', 940.0),\n",
       " ('Height', 1233.0),\n",
       " ('Weight', 1515.0),\n",
       " ('FCVC', 613.0),\n",
       " ('NCP', 113.0),\n",
       " ('CH2O', 361.0),\n",
       " ('FAF', 660.0),\n",
       " ('TUE', 451.0),\n",
       " ('gender', 98.0),\n",
       " ('famhistory', 97.0),\n",
       " ('favc', 37.0),\n",
       " ('caec', 84.0),\n",
       " ('smoke', 2.0),\n",
       " ('scc', 24.0),\n",
       " ('calc', 118.0),\n",
       " ('mtrans', 112.0)]"
      ]
     },
     "execution_count": 44,
     "metadata": {},
     "output_type": "execute_result"
    }
   ],
   "source": [
    "list(xgbc.get_booster().get_fscore().items())"
   ]
  },
  {
   "cell_type": "markdown",
   "id": "bb5e8ab7",
   "metadata": {},
   "source": [
    "### ADAboost with different base estimators "
   ]
  },
  {
   "cell_type": "markdown",
   "id": "670353b2",
   "metadata": {},
   "source": [
    "Base estimator= decision tree"
   ]
  },
  {
   "cell_type": "code",
   "execution_count": 45,
   "id": "02622f52",
   "metadata": {},
   "outputs": [],
   "source": [
    "ada=AdaBoostClassifier(DecisionTreeClassifier(),learning_rate=0.1,n_estimators=200,algorithm= 'SAMME')"
   ]
  },
  {
   "cell_type": "code",
   "execution_count": 46,
   "id": "8f8a05b3",
   "metadata": {},
   "outputs": [
    {
     "data": {
      "text/plain": [
       "AdaBoostClassifier(algorithm='SAMME', base_estimator=DecisionTreeClassifier(),\n",
       "                   learning_rate=0.1, n_estimators=200)"
      ]
     },
     "execution_count": 46,
     "metadata": {},
     "output_type": "execute_result"
    }
   ],
   "source": [
    "ada.fit(X_train,y_train)"
   ]
  },
  {
   "cell_type": "code",
   "execution_count": 47,
   "id": "bcea42e4",
   "metadata": {},
   "outputs": [],
   "source": [
    "pre=ada.predict(X_test)"
   ]
  },
  {
   "cell_type": "code",
   "execution_count": 48,
   "id": "feefc02f",
   "metadata": {},
   "outputs": [
    {
     "data": {
      "text/plain": [
       "0.9243498817966903"
      ]
     },
     "execution_count": 48,
     "metadata": {},
     "output_type": "execute_result"
    }
   ],
   "source": [
    "accuracy_score(y_test, pre)"
   ]
  },
  {
   "cell_type": "code",
   "execution_count": 49,
   "id": "e7b7a3f6",
   "metadata": {},
   "outputs": [
    {
     "data": {
      "text/plain": [
       "(0.9249050660469891, 0.9224361147259071, 0.9227558966747847, None)"
      ]
     },
     "execution_count": 49,
     "metadata": {},
     "output_type": "execute_result"
    }
   ],
   "source": [
    "precision_recall_fscore_support(y_test, pre, average='macro')"
   ]
  },
  {
   "cell_type": "markdown",
   "id": "cd05df66",
   "metadata": {},
   "source": [
    "base estimator= extra trees classifier"
   ]
  },
  {
   "cell_type": "code",
   "execution_count": 50,
   "id": "7958ded6",
   "metadata": {},
   "outputs": [],
   "source": [
    "ada1=AdaBoostClassifier(ExtraTreesClassifier(),learning_rate=0.5,n_estimators=200,algorithm= 'SAMME.R')"
   ]
  },
  {
   "cell_type": "code",
   "execution_count": 51,
   "id": "7cb9111d",
   "metadata": {},
   "outputs": [
    {
     "data": {
      "text/plain": [
       "AdaBoostClassifier(base_estimator=ExtraTreesClassifier(), learning_rate=0.5,\n",
       "                   n_estimators=200)"
      ]
     },
     "execution_count": 51,
     "metadata": {},
     "output_type": "execute_result"
    }
   ],
   "source": [
    "ada1.fit(X_train,y_train)"
   ]
  },
  {
   "cell_type": "code",
   "execution_count": 52,
   "id": "f1a355de",
   "metadata": {},
   "outputs": [],
   "source": [
    "pre1=ada1.predict(X_test)"
   ]
  },
  {
   "cell_type": "code",
   "execution_count": 53,
   "id": "c0e770e7",
   "metadata": {},
   "outputs": [
    {
     "data": {
      "text/plain": [
       "0.933806146572104"
      ]
     },
     "execution_count": 53,
     "metadata": {},
     "output_type": "execute_result"
    }
   ],
   "source": [
    "accuracy_score(y_test, pre1)"
   ]
  },
  {
   "cell_type": "code",
   "execution_count": 54,
   "id": "dfc088f7",
   "metadata": {},
   "outputs": [
    {
     "data": {
      "text/plain": [
       "(0.9381833852422089, 0.9321595921753031, 0.932814352562044, None)"
      ]
     },
     "execution_count": 54,
     "metadata": {},
     "output_type": "execute_result"
    }
   ],
   "source": [
    "precision_recall_fscore_support(y_test, pre1, average='macro')"
   ]
  },
  {
   "cell_type": "markdown",
   "id": "58918f35",
   "metadata": {},
   "source": [
    "base estimator= support vector machine"
   ]
  },
  {
   "cell_type": "code",
   "execution_count": 55,
   "id": "c0e3ffa8",
   "metadata": {},
   "outputs": [
    {
     "data": {
      "text/plain": [
       "0.8226950354609929"
      ]
     },
     "execution_count": 55,
     "metadata": {},
     "output_type": "execute_result"
    }
   ],
   "source": [
    "ada2=AdaBoostClassifier(SVC(kernel='linear',C=100.0),learning_rate=0.4,n_estimators=100,algorithm= 'SAMME')\n",
    "ada2.fit(X_train,y_train)\n",
    "pre2=ada2.predict(X_test)\n",
    "accuracy_score(y_test, pre2)"
   ]
  },
  {
   "cell_type": "code",
   "execution_count": 56,
   "id": "c6222eb7",
   "metadata": {},
   "outputs": [
    {
     "data": {
      "text/plain": [
       "(0.8255784067082088, 0.8209615992805309, 0.8212744451019959, None)"
      ]
     },
     "execution_count": 56,
     "metadata": {},
     "output_type": "execute_result"
    }
   ],
   "source": [
    "precision_recall_fscore_support(y_test, pre2, average='macro')"
   ]
  },
  {
   "cell_type": "markdown",
   "id": "375a8075",
   "metadata": {},
   "source": [
    "base estimator= random forest"
   ]
  },
  {
   "cell_type": "code",
   "execution_count": 57,
   "id": "db2092ae",
   "metadata": {},
   "outputs": [],
   "source": [
    "ada3=AdaBoostClassifier(RandomForestClassifier(),learning_rate=0.1,n_estimators=200,algorithm= 'SAMME.R')"
   ]
  },
  {
   "cell_type": "code",
   "execution_count": 58,
   "id": "f5f8e6c1",
   "metadata": {},
   "outputs": [
    {
     "data": {
      "text/plain": [
       "0.9527186761229315"
      ]
     },
     "execution_count": 58,
     "metadata": {},
     "output_type": "execute_result"
    }
   ],
   "source": [
    "ada3.fit(X_train,y_train)\n",
    "pre3=ada3.predict(X_test)\n",
    "accuracy_score(y_test, pre3)"
   ]
  },
  {
   "cell_type": "code",
   "execution_count": 59,
   "id": "6f2f4776",
   "metadata": {},
   "outputs": [
    {
     "data": {
      "text/plain": [
       "(0.9553444566232291, 0.9512373736921307, 0.9514757258662894, None)"
      ]
     },
     "execution_count": 59,
     "metadata": {},
     "output_type": "execute_result"
    }
   ],
   "source": [
    "precision_recall_fscore_support(y_test, pre3, average='macro')"
   ]
  },
  {
   "cell_type": "markdown",
   "id": "4fe730ca",
   "metadata": {},
   "source": [
    "### Hyperparameter tuning with adaboost"
   ]
  },
  {
   "cell_type": "code",
   "execution_count": 62,
   "id": "ad1b9df0",
   "metadata": {},
   "outputs": [],
   "source": [
    "bdt_ada = GridSearchCV(ada,{'learning_rate':[0.1,0.4,0.5,0.8],\n",
    "                            'n_estimators':[50,60,80,100,200,300,400],\n",
    "                            'algorithm': ['SAMME', 'SAMME.R']})"
   ]
  },
  {
   "cell_type": "code",
   "execution_count": 63,
   "id": "4d9dd149",
   "metadata": {},
   "outputs": [
    {
     "name": "stdout",
     "output_type": "stream",
     "text": [
      "0.9242076800168559\n",
      "{'algorithm': 'SAMME.R', 'learning_rate': 0.8, 'n_estimators': 100}\n"
     ]
    }
   ],
   "source": [
    "bdt_ada.fit(X_train,y_train)\n",
    "print(bdt_ada.best_score_)\n",
    "print(bdt_ada.best_params_)"
   ]
  },
  {
   "cell_type": "markdown",
   "id": "6bd1ee5f",
   "metadata": {},
   "source": [
    "### Gradient boosting "
   ]
  },
  {
   "cell_type": "code",
   "execution_count": 64,
   "id": "39d30ed6",
   "metadata": {},
   "outputs": [],
   "source": [
    "gb= GradientBoostingClassifier(n_estimators=200, learning_rate = 0.3, max_features=2, max_depth = 2, random_state = 0)"
   ]
  },
  {
   "cell_type": "code",
   "execution_count": 65,
   "id": "7cbe057f",
   "metadata": {},
   "outputs": [
    {
     "data": {
      "text/plain": [
       "GradientBoostingClassifier(learning_rate=0.3, max_depth=2, max_features=2,\n",
       "                           n_estimators=200, random_state=0)"
      ]
     },
     "execution_count": 65,
     "metadata": {},
     "output_type": "execute_result"
    }
   ],
   "source": [
    "gb.fit(X_train,y_train)"
   ]
  },
  {
   "cell_type": "code",
   "execution_count": 66,
   "id": "706d41e2",
   "metadata": {},
   "outputs": [],
   "source": [
    "gb_pre=gb.predict(X_test)"
   ]
  },
  {
   "cell_type": "code",
   "execution_count": 67,
   "id": "d9c12211",
   "metadata": {},
   "outputs": [
    {
     "data": {
      "text/plain": [
       "0.9598108747044918"
      ]
     },
     "execution_count": 67,
     "metadata": {},
     "output_type": "execute_result"
    }
   ],
   "source": [
    "accuracy_score(y_test, gb_pre)"
   ]
  },
  {
   "cell_type": "code",
   "execution_count": 68,
   "id": "7a4d4c63",
   "metadata": {},
   "outputs": [
    {
     "data": {
      "text/plain": [
       "(0.9588114956127379, 0.9583283958774924, 0.9583539706996208, None)"
      ]
     },
     "execution_count": 68,
     "metadata": {},
     "output_type": "execute_result"
    }
   ],
   "source": [
    "precision_recall_fscore_support(y_test, gb_pre, average='macro')"
   ]
  },
  {
   "cell_type": "code",
   "execution_count": 69,
   "id": "b78238b7",
   "metadata": {},
   "outputs": [],
   "source": [
    "from sklearn import metrics"
   ]
  },
  {
   "cell_type": "code",
   "execution_count": 70,
   "id": "cfc82f59",
   "metadata": {},
   "outputs": [
    {
     "name": "stdout",
     "output_type": "stream",
     "text": [
      "              precision    recall  f1-score   support\n",
      "\n",
      "           0      1.000     0.954     0.976        65\n",
      "           1      0.900     0.947     0.923        57\n",
      "           2      0.957     0.985     0.971        67\n",
      "           3      1.000     1.000     1.000        53\n",
      "           4      1.000     1.000     1.000        69\n",
      "           5      0.911     0.895     0.903        57\n",
      "           6      0.944     0.927     0.936        55\n",
      "\n",
      "    accuracy                          0.960       423\n",
      "   macro avg      0.959     0.958     0.958       423\n",
      "weighted avg      0.960     0.960     0.960       423\n",
      "\n"
     ]
    }
   ],
   "source": [
    "print(metrics.classification_report(y_test, gb_pre, digits=3))"
   ]
  },
  {
   "cell_type": "markdown",
   "id": "bce7158f",
   "metadata": {},
   "source": [
    "### Random forest"
   ]
  },
  {
   "cell_type": "code",
   "execution_count": 71,
   "id": "338a6749",
   "metadata": {},
   "outputs": [
    {
     "data": {
      "text/plain": [
       "0.9527186761229315"
      ]
     },
     "execution_count": 71,
     "metadata": {},
     "output_type": "execute_result"
    }
   ],
   "source": [
    "rfc=RandomForestClassifier()\n",
    "rfc.fit(X_train,y_train)\n",
    "rf_pred=rfc.predict(X_test)\n",
    "accuracy_score(y_test,rf_pred)"
   ]
  },
  {
   "cell_type": "code",
   "execution_count": 72,
   "id": "5173b163",
   "metadata": {},
   "outputs": [
    {
     "data": {
      "text/plain": [
       "(0.9593326986761973, 0.9513353888844855, 0.9520514626104063, None)"
      ]
     },
     "execution_count": 72,
     "metadata": {},
     "output_type": "execute_result"
    }
   ],
   "source": [
    "precision_recall_fscore_support(y_test, rf_pred, average='macro')"
   ]
  },
  {
   "cell_type": "code",
   "execution_count": 74,
   "id": "8de144cc",
   "metadata": {},
   "outputs": [
    {
     "name": "stdout",
     "output_type": "stream",
     "text": [
      "              precision    recall  f1-score   support\n",
      "\n",
      "           0       1.00      0.92      0.96        65\n",
      "           1       0.77      1.00      0.87        57\n",
      "           2       0.99      0.99      0.99        67\n",
      "           3       1.00      1.00      1.00        53\n",
      "           4       1.00      1.00      1.00        69\n",
      "           5       0.98      0.84      0.91        57\n",
      "           6       0.98      0.91      0.94        55\n",
      "\n",
      "    accuracy                           0.95       423\n",
      "   macro avg       0.96      0.95      0.95       423\n",
      "weighted avg       0.96      0.95      0.95       423\n",
      "\n"
     ]
    }
   ],
   "source": [
    "print(metrics.classification_report(y_test, rf_pred))"
   ]
  },
  {
   "cell_type": "markdown",
   "id": "a36a726e",
   "metadata": {},
   "source": [
    "### Category Boosting (CatBoost)."
   ]
  },
  {
   "cell_type": "code",
   "execution_count": 75,
   "id": "517dcf5b",
   "metadata": {},
   "outputs": [],
   "source": [
    "clf = CatBoostClassifier(\n",
    "    iterations=1000,\n",
    "  learning_rate=0.4,\n",
    "  depth=5,\n",
    "  colsample_bylevel=0.8,\n",
    "  random_seed = 2020,\n",
    "  bagging_temperature = 0.2,\n",
    "  metric_period = None,\n",
    "  custom_loss=['AUC', 'Accuracy']\n",
    ")"
   ]
  },
  {
   "cell_type": "code",
   "execution_count": 76,
   "id": "d8f093ee",
   "metadata": {},
   "outputs": [
    {
     "name": "stdout",
     "output_type": "stream",
     "text": [
      "[0, 1, 2, 3, 4, 5, 6, 7, 8, 9, 10, 11, 12, 13, 14, 15]\n"
     ]
    }
   ],
   "source": [
    "cat_features = list(range(0, X.shape[1]))\n",
    "print(cat_features)"
   ]
  },
  {
   "cell_type": "code",
   "execution_count": 77,
   "id": "e3e1132a",
   "metadata": {
    "scrolled": true
   },
   "outputs": [
    {
     "name": "stdout",
     "output_type": "stream",
     "text": [
      "0:\tlearn: 1.3808692\ttotal: 157ms\tremaining: 2m 37s\n",
      "1:\tlearn: 1.0797037\ttotal: 174ms\tremaining: 1m 27s\n",
      "2:\tlearn: 0.8543911\ttotal: 187ms\tremaining: 1m 2s\n",
      "3:\tlearn: 0.7422935\ttotal: 198ms\tremaining: 49.3s\n",
      "4:\tlearn: 0.6586774\ttotal: 212ms\tremaining: 42.3s\n",
      "5:\tlearn: 0.5961040\ttotal: 226ms\tremaining: 37.4s\n",
      "6:\tlearn: 0.5316042\ttotal: 239ms\tremaining: 33.9s\n",
      "7:\tlearn: 0.4894393\ttotal: 252ms\tremaining: 31.3s\n",
      "8:\tlearn: 0.4495417\ttotal: 265ms\tremaining: 29.2s\n",
      "9:\tlearn: 0.4359268\ttotal: 279ms\tremaining: 27.7s\n",
      "10:\tlearn: 0.3988574\ttotal: 292ms\tremaining: 26.2s\n",
      "11:\tlearn: 0.3700589\ttotal: 303ms\tremaining: 24.9s\n",
      "12:\tlearn: 0.3486471\ttotal: 313ms\tremaining: 23.8s\n",
      "13:\tlearn: 0.3258914\ttotal: 326ms\tremaining: 22.9s\n",
      "14:\tlearn: 0.3078422\ttotal: 337ms\tremaining: 22.1s\n",
      "15:\tlearn: 0.2984022\ttotal: 348ms\tremaining: 21.4s\n",
      "16:\tlearn: 0.2853406\ttotal: 359ms\tremaining: 20.8s\n",
      "17:\tlearn: 0.2680428\ttotal: 372ms\tremaining: 20.3s\n",
      "18:\tlearn: 0.2582855\ttotal: 385ms\tremaining: 19.9s\n",
      "19:\tlearn: 0.2401771\ttotal: 396ms\tremaining: 19.4s\n",
      "20:\tlearn: 0.2273642\ttotal: 416ms\tremaining: 19.4s\n",
      "21:\tlearn: 0.2177031\ttotal: 427ms\tremaining: 19s\n",
      "22:\tlearn: 0.2129747\ttotal: 437ms\tremaining: 18.6s\n",
      "23:\tlearn: 0.2006444\ttotal: 447ms\tremaining: 18.2s\n",
      "24:\tlearn: 0.1971408\ttotal: 457ms\tremaining: 17.8s\n",
      "25:\tlearn: 0.1914693\ttotal: 468ms\tremaining: 17.5s\n",
      "26:\tlearn: 0.1732892\ttotal: 479ms\tremaining: 17.3s\n",
      "27:\tlearn: 0.1636000\ttotal: 490ms\tremaining: 17s\n",
      "28:\tlearn: 0.1547886\ttotal: 502ms\tremaining: 16.8s\n",
      "29:\tlearn: 0.1506883\ttotal: 520ms\tremaining: 16.8s\n",
      "30:\tlearn: 0.1412232\ttotal: 535ms\tremaining: 16.7s\n",
      "31:\tlearn: 0.1371722\ttotal: 547ms\tremaining: 16.6s\n",
      "32:\tlearn: 0.1328384\ttotal: 560ms\tremaining: 16.4s\n",
      "33:\tlearn: 0.1305097\ttotal: 574ms\tremaining: 16.3s\n",
      "34:\tlearn: 0.1291606\ttotal: 585ms\tremaining: 16.1s\n",
      "35:\tlearn: 0.1248329\ttotal: 597ms\tremaining: 16s\n",
      "36:\tlearn: 0.1240129\ttotal: 609ms\tremaining: 15.9s\n",
      "37:\tlearn: 0.1204544\ttotal: 622ms\tremaining: 15.8s\n",
      "38:\tlearn: 0.1189787\ttotal: 635ms\tremaining: 15.6s\n",
      "39:\tlearn: 0.1163416\ttotal: 648ms\tremaining: 15.6s\n",
      "40:\tlearn: 0.1108048\ttotal: 661ms\tremaining: 15.5s\n",
      "41:\tlearn: 0.1080361\ttotal: 676ms\tremaining: 15.4s\n",
      "42:\tlearn: 0.1055537\ttotal: 688ms\tremaining: 15.3s\n",
      "43:\tlearn: 0.1037840\ttotal: 701ms\tremaining: 15.2s\n",
      "44:\tlearn: 0.0984554\ttotal: 713ms\tremaining: 15.1s\n",
      "45:\tlearn: 0.0955955\ttotal: 727ms\tremaining: 15.1s\n",
      "46:\tlearn: 0.0941832\ttotal: 738ms\tremaining: 15s\n",
      "47:\tlearn: 0.0921862\ttotal: 752ms\tremaining: 14.9s\n",
      "48:\tlearn: 0.0876132\ttotal: 765ms\tremaining: 14.8s\n",
      "49:\tlearn: 0.0849555\ttotal: 778ms\tremaining: 14.8s\n",
      "50:\tlearn: 0.0842600\ttotal: 790ms\tremaining: 14.7s\n",
      "51:\tlearn: 0.0824561\ttotal: 802ms\tremaining: 14.6s\n",
      "52:\tlearn: 0.0818929\ttotal: 813ms\tremaining: 14.5s\n",
      "53:\tlearn: 0.0781272\ttotal: 826ms\tremaining: 14.5s\n",
      "54:\tlearn: 0.0769262\ttotal: 838ms\tremaining: 14.4s\n",
      "55:\tlearn: 0.0748405\ttotal: 848ms\tremaining: 14.3s\n",
      "56:\tlearn: 0.0735302\ttotal: 859ms\tremaining: 14.2s\n",
      "57:\tlearn: 0.0717430\ttotal: 869ms\tremaining: 14.1s\n",
      "58:\tlearn: 0.0706125\ttotal: 881ms\tremaining: 14.1s\n",
      "59:\tlearn: 0.0691104\ttotal: 892ms\tremaining: 14s\n",
      "60:\tlearn: 0.0673703\ttotal: 901ms\tremaining: 13.9s\n",
      "61:\tlearn: 0.0669635\ttotal: 915ms\tremaining: 13.8s\n",
      "62:\tlearn: 0.0653328\ttotal: 928ms\tremaining: 13.8s\n",
      "63:\tlearn: 0.0648355\ttotal: 941ms\tremaining: 13.8s\n",
      "64:\tlearn: 0.0637429\ttotal: 950ms\tremaining: 13.7s\n",
      "65:\tlearn: 0.0623677\ttotal: 963ms\tremaining: 13.6s\n",
      "66:\tlearn: 0.0612745\ttotal: 974ms\tremaining: 13.6s\n",
      "67:\tlearn: 0.0610743\ttotal: 985ms\tremaining: 13.5s\n",
      "68:\tlearn: 0.0604264\ttotal: 997ms\tremaining: 13.4s\n",
      "69:\tlearn: 0.0591121\ttotal: 1.01s\tremaining: 13.4s\n",
      "70:\tlearn: 0.0577467\ttotal: 1.03s\tremaining: 13.5s\n",
      "71:\tlearn: 0.0570173\ttotal: 1.04s\tremaining: 13.4s\n",
      "72:\tlearn: 0.0566474\ttotal: 1.05s\tremaining: 13.3s\n",
      "73:\tlearn: 0.0556603\ttotal: 1.06s\tremaining: 13.3s\n",
      "74:\tlearn: 0.0541897\ttotal: 1.07s\tremaining: 13.2s\n",
      "75:\tlearn: 0.0528548\ttotal: 1.08s\tremaining: 13.2s\n",
      "76:\tlearn: 0.0516631\ttotal: 1.09s\tremaining: 13.1s\n",
      "77:\tlearn: 0.0506338\ttotal: 1.11s\tremaining: 13.1s\n",
      "78:\tlearn: 0.0503083\ttotal: 1.12s\tremaining: 13.1s\n",
      "79:\tlearn: 0.0497366\ttotal: 1.13s\tremaining: 13s\n",
      "80:\tlearn: 0.0491139\ttotal: 1.15s\tremaining: 13s\n",
      "81:\tlearn: 0.0482601\ttotal: 1.15s\tremaining: 12.9s\n",
      "82:\tlearn: 0.0465864\ttotal: 1.17s\tremaining: 12.9s\n",
      "83:\tlearn: 0.0462648\ttotal: 1.18s\tremaining: 12.8s\n",
      "84:\tlearn: 0.0459769\ttotal: 1.19s\tremaining: 12.8s\n",
      "85:\tlearn: 0.0455639\ttotal: 1.2s\tremaining: 12.7s\n",
      "86:\tlearn: 0.0453103\ttotal: 1.21s\tremaining: 12.7s\n",
      "87:\tlearn: 0.0449207\ttotal: 1.22s\tremaining: 12.6s\n",
      "88:\tlearn: 0.0439157\ttotal: 1.23s\tremaining: 12.6s\n",
      "89:\tlearn: 0.0433406\ttotal: 1.24s\tremaining: 12.5s\n",
      "90:\tlearn: 0.0430088\ttotal: 1.25s\tremaining: 12.5s\n",
      "91:\tlearn: 0.0416989\ttotal: 1.26s\tremaining: 12.5s\n",
      "92:\tlearn: 0.0408762\ttotal: 1.27s\tremaining: 12.4s\n",
      "93:\tlearn: 0.0405728\ttotal: 1.28s\tremaining: 12.4s\n",
      "94:\tlearn: 0.0398906\ttotal: 1.3s\tremaining: 12.3s\n",
      "95:\tlearn: 0.0393052\ttotal: 1.31s\tremaining: 12.3s\n",
      "96:\tlearn: 0.0387736\ttotal: 1.32s\tremaining: 12.3s\n",
      "97:\tlearn: 0.0382774\ttotal: 1.33s\tremaining: 12.3s\n",
      "98:\tlearn: 0.0379976\ttotal: 1.34s\tremaining: 12.2s\n",
      "99:\tlearn: 0.0372026\ttotal: 1.36s\tremaining: 12.2s\n",
      "100:\tlearn: 0.0365662\ttotal: 1.37s\tremaining: 12.2s\n",
      "101:\tlearn: 0.0362828\ttotal: 1.38s\tremaining: 12.1s\n",
      "102:\tlearn: 0.0358543\ttotal: 1.39s\tremaining: 12.1s\n",
      "103:\tlearn: 0.0354512\ttotal: 1.4s\tremaining: 12.1s\n",
      "104:\tlearn: 0.0340614\ttotal: 1.41s\tremaining: 12s\n",
      "105:\tlearn: 0.0338859\ttotal: 1.42s\tremaining: 12s\n",
      "106:\tlearn: 0.0334993\ttotal: 1.44s\tremaining: 12s\n",
      "107:\tlearn: 0.0332431\ttotal: 1.45s\tremaining: 12s\n",
      "108:\tlearn: 0.0327362\ttotal: 1.46s\tremaining: 12s\n",
      "109:\tlearn: 0.0323881\ttotal: 1.48s\tremaining: 11.9s\n",
      "110:\tlearn: 0.0320012\ttotal: 1.49s\tremaining: 11.9s\n",
      "111:\tlearn: 0.0315035\ttotal: 1.5s\tremaining: 11.9s\n",
      "112:\tlearn: 0.0311787\ttotal: 1.51s\tremaining: 11.9s\n",
      "113:\tlearn: 0.0306834\ttotal: 1.53s\tremaining: 11.9s\n",
      "114:\tlearn: 0.0304731\ttotal: 1.54s\tremaining: 11.9s\n",
      "115:\tlearn: 0.0302646\ttotal: 1.55s\tremaining: 11.8s\n",
      "116:\tlearn: 0.0298788\ttotal: 1.57s\tremaining: 11.8s\n",
      "117:\tlearn: 0.0296346\ttotal: 1.58s\tremaining: 11.8s\n",
      "118:\tlearn: 0.0294971\ttotal: 1.59s\tremaining: 11.8s\n",
      "119:\tlearn: 0.0289902\ttotal: 1.62s\tremaining: 11.9s\n",
      "120:\tlearn: 0.0286060\ttotal: 1.63s\tremaining: 11.9s\n",
      "121:\tlearn: 0.0283701\ttotal: 1.65s\tremaining: 11.9s\n",
      "122:\tlearn: 0.0275871\ttotal: 1.66s\tremaining: 11.8s\n",
      "123:\tlearn: 0.0272984\ttotal: 1.67s\tremaining: 11.8s\n",
      "124:\tlearn: 0.0270615\ttotal: 1.69s\tremaining: 11.8s\n",
      "125:\tlearn: 0.0269306\ttotal: 1.71s\tremaining: 11.9s\n",
      "126:\tlearn: 0.0266225\ttotal: 1.73s\tremaining: 11.9s\n",
      "127:\tlearn: 0.0264900\ttotal: 1.74s\tremaining: 11.8s\n",
      "128:\tlearn: 0.0260265\ttotal: 1.75s\tremaining: 11.8s\n",
      "129:\tlearn: 0.0259662\ttotal: 1.76s\tremaining: 11.8s\n",
      "130:\tlearn: 0.0258191\ttotal: 1.77s\tremaining: 11.8s\n",
      "131:\tlearn: 0.0255927\ttotal: 1.79s\tremaining: 11.7s\n",
      "132:\tlearn: 0.0253191\ttotal: 1.8s\tremaining: 11.7s\n",
      "133:\tlearn: 0.0247282\ttotal: 1.81s\tremaining: 11.7s\n",
      "134:\tlearn: 0.0245189\ttotal: 1.82s\tremaining: 11.7s\n",
      "135:\tlearn: 0.0244126\ttotal: 1.83s\tremaining: 11.6s\n",
      "136:\tlearn: 0.0243352\ttotal: 1.84s\tremaining: 11.6s\n",
      "137:\tlearn: 0.0240613\ttotal: 1.85s\tremaining: 11.6s\n",
      "138:\tlearn: 0.0239639\ttotal: 1.86s\tremaining: 11.5s\n",
      "139:\tlearn: 0.0238107\ttotal: 1.88s\tremaining: 11.5s\n",
      "140:\tlearn: 0.0237129\ttotal: 1.89s\tremaining: 11.5s\n",
      "141:\tlearn: 0.0235652\ttotal: 1.9s\tremaining: 11.5s\n",
      "142:\tlearn: 0.0234492\ttotal: 1.91s\tremaining: 11.5s\n",
      "143:\tlearn: 0.0233993\ttotal: 1.93s\tremaining: 11.4s\n",
      "144:\tlearn: 0.0231877\ttotal: 1.94s\tremaining: 11.4s\n",
      "145:\tlearn: 0.0227669\ttotal: 1.95s\tremaining: 11.4s\n",
      "146:\tlearn: 0.0226757\ttotal: 1.96s\tremaining: 11.4s\n",
      "147:\tlearn: 0.0221566\ttotal: 1.97s\tremaining: 11.4s\n",
      "148:\tlearn: 0.0221130\ttotal: 1.98s\tremaining: 11.3s\n",
      "149:\tlearn: 0.0219149\ttotal: 1.99s\tremaining: 11.3s\n",
      "150:\tlearn: 0.0218496\ttotal: 2s\tremaining: 11.3s\n",
      "151:\tlearn: 0.0215650\ttotal: 2.01s\tremaining: 11.2s\n",
      "152:\tlearn: 0.0213953\ttotal: 2.02s\tremaining: 11.2s\n",
      "153:\tlearn: 0.0212811\ttotal: 2.04s\tremaining: 11.2s\n",
      "154:\tlearn: 0.0211380\ttotal: 2.05s\tremaining: 11.2s\n",
      "155:\tlearn: 0.0207741\ttotal: 2.06s\tremaining: 11.2s\n",
      "156:\tlearn: 0.0202957\ttotal: 2.08s\tremaining: 11.1s\n",
      "157:\tlearn: 0.0201904\ttotal: 2.09s\tremaining: 11.1s\n",
      "158:\tlearn: 0.0201350\ttotal: 2.1s\tremaining: 11.1s\n",
      "159:\tlearn: 0.0200098\ttotal: 2.12s\tremaining: 11.1s\n",
      "160:\tlearn: 0.0199288\ttotal: 2.13s\tremaining: 11.1s\n",
      "161:\tlearn: 0.0197919\ttotal: 2.15s\tremaining: 11.1s\n",
      "162:\tlearn: 0.0196170\ttotal: 2.16s\tremaining: 11.1s\n",
      "163:\tlearn: 0.0195703\ttotal: 2.17s\tremaining: 11s\n",
      "164:\tlearn: 0.0194405\ttotal: 2.18s\tremaining: 11s\n",
      "165:\tlearn: 0.0193806\ttotal: 2.19s\tremaining: 11s\n",
      "166:\tlearn: 0.0190248\ttotal: 2.2s\tremaining: 11s\n",
      "167:\tlearn: 0.0189841\ttotal: 2.21s\tremaining: 11s\n",
      "168:\tlearn: 0.0188576\ttotal: 2.23s\tremaining: 10.9s\n",
      "169:\tlearn: 0.0187082\ttotal: 2.24s\tremaining: 10.9s\n",
      "170:\tlearn: 0.0186711\ttotal: 2.25s\tremaining: 10.9s\n",
      "171:\tlearn: 0.0186005\ttotal: 2.26s\tremaining: 10.9s\n",
      "172:\tlearn: 0.0185510\ttotal: 2.28s\tremaining: 10.9s\n"
     ]
    },
    {
     "name": "stdout",
     "output_type": "stream",
     "text": [
      "173:\tlearn: 0.0184581\ttotal: 2.29s\tremaining: 10.9s\n",
      "174:\tlearn: 0.0182489\ttotal: 2.3s\tremaining: 10.9s\n",
      "175:\tlearn: 0.0180681\ttotal: 2.32s\tremaining: 10.8s\n",
      "176:\tlearn: 0.0179844\ttotal: 2.35s\tremaining: 10.9s\n",
      "177:\tlearn: 0.0178042\ttotal: 2.36s\tremaining: 10.9s\n",
      "178:\tlearn: 0.0176769\ttotal: 2.38s\tremaining: 10.9s\n",
      "179:\tlearn: 0.0174500\ttotal: 2.39s\tremaining: 10.9s\n",
      "180:\tlearn: 0.0173160\ttotal: 2.4s\tremaining: 10.9s\n",
      "181:\tlearn: 0.0170323\ttotal: 2.41s\tremaining: 10.8s\n",
      "182:\tlearn: 0.0169745\ttotal: 2.43s\tremaining: 10.9s\n",
      "183:\tlearn: 0.0167999\ttotal: 2.44s\tremaining: 10.8s\n",
      "184:\tlearn: 0.0165695\ttotal: 2.46s\tremaining: 10.8s\n",
      "185:\tlearn: 0.0164798\ttotal: 2.47s\tremaining: 10.8s\n",
      "186:\tlearn: 0.0163833\ttotal: 2.48s\tremaining: 10.8s\n",
      "187:\tlearn: 0.0162360\ttotal: 2.5s\tremaining: 10.8s\n",
      "188:\tlearn: 0.0160806\ttotal: 2.51s\tremaining: 10.8s\n",
      "189:\tlearn: 0.0160357\ttotal: 2.52s\tremaining: 10.8s\n",
      "190:\tlearn: 0.0159735\ttotal: 2.53s\tremaining: 10.7s\n",
      "191:\tlearn: 0.0158710\ttotal: 2.54s\tremaining: 10.7s\n",
      "192:\tlearn: 0.0157215\ttotal: 2.56s\tremaining: 10.7s\n",
      "193:\tlearn: 0.0154583\ttotal: 2.57s\tremaining: 10.7s\n",
      "194:\tlearn: 0.0153707\ttotal: 2.58s\tremaining: 10.7s\n",
      "195:\tlearn: 0.0153381\ttotal: 2.59s\tremaining: 10.6s\n",
      "196:\tlearn: 0.0150684\ttotal: 2.6s\tremaining: 10.6s\n",
      "197:\tlearn: 0.0150349\ttotal: 2.62s\tremaining: 10.6s\n",
      "198:\tlearn: 0.0149705\ttotal: 2.63s\tremaining: 10.6s\n",
      "199:\tlearn: 0.0149074\ttotal: 2.64s\tremaining: 10.5s\n",
      "200:\tlearn: 0.0148837\ttotal: 2.66s\tremaining: 10.6s\n",
      "201:\tlearn: 0.0147643\ttotal: 2.67s\tremaining: 10.6s\n",
      "202:\tlearn: 0.0146369\ttotal: 2.69s\tremaining: 10.5s\n",
      "203:\tlearn: 0.0145959\ttotal: 2.7s\tremaining: 10.5s\n",
      "204:\tlearn: 0.0144393\ttotal: 2.71s\tremaining: 10.5s\n",
      "205:\tlearn: 0.0143455\ttotal: 2.72s\tremaining: 10.5s\n",
      "206:\tlearn: 0.0142655\ttotal: 2.73s\tremaining: 10.5s\n",
      "207:\tlearn: 0.0142415\ttotal: 2.74s\tremaining: 10.4s\n",
      "208:\tlearn: 0.0141455\ttotal: 2.75s\tremaining: 10.4s\n",
      "209:\tlearn: 0.0140666\ttotal: 2.76s\tremaining: 10.4s\n",
      "210:\tlearn: 0.0138912\ttotal: 2.77s\tremaining: 10.4s\n",
      "211:\tlearn: 0.0138004\ttotal: 2.78s\tremaining: 10.3s\n",
      "212:\tlearn: 0.0137801\ttotal: 2.79s\tremaining: 10.3s\n",
      "213:\tlearn: 0.0137172\ttotal: 2.8s\tremaining: 10.3s\n",
      "214:\tlearn: 0.0136858\ttotal: 2.81s\tremaining: 10.3s\n",
      "215:\tlearn: 0.0136319\ttotal: 2.82s\tremaining: 10.2s\n",
      "216:\tlearn: 0.0135399\ttotal: 2.83s\tremaining: 10.2s\n",
      "217:\tlearn: 0.0133767\ttotal: 2.84s\tremaining: 10.2s\n",
      "218:\tlearn: 0.0133424\ttotal: 2.85s\tremaining: 10.2s\n",
      "219:\tlearn: 0.0131806\ttotal: 2.86s\tremaining: 10.1s\n",
      "220:\tlearn: 0.0131294\ttotal: 2.87s\tremaining: 10.1s\n",
      "221:\tlearn: 0.0130667\ttotal: 2.88s\tremaining: 10.1s\n",
      "222:\tlearn: 0.0130313\ttotal: 2.93s\tremaining: 10.2s\n",
      "223:\tlearn: 0.0129716\ttotal: 2.94s\tremaining: 10.2s\n",
      "224:\tlearn: 0.0127888\ttotal: 2.95s\tremaining: 10.2s\n",
      "225:\tlearn: 0.0127283\ttotal: 2.96s\tremaining: 10.1s\n",
      "226:\tlearn: 0.0126439\ttotal: 2.97s\tremaining: 10.1s\n",
      "227:\tlearn: 0.0126104\ttotal: 2.99s\tremaining: 10.1s\n",
      "228:\tlearn: 0.0124779\ttotal: 3s\tremaining: 10.1s\n",
      "229:\tlearn: 0.0124332\ttotal: 3.01s\tremaining: 10.1s\n",
      "230:\tlearn: 0.0124011\ttotal: 3.02s\tremaining: 10.1s\n",
      "231:\tlearn: 0.0123747\ttotal: 3.03s\tremaining: 10s\n",
      "232:\tlearn: 0.0122682\ttotal: 3.04s\tremaining: 10s\n",
      "233:\tlearn: 0.0121866\ttotal: 3.06s\tremaining: 10s\n",
      "234:\tlearn: 0.0121366\ttotal: 3.07s\tremaining: 9.98s\n",
      "235:\tlearn: 0.0120671\ttotal: 3.08s\tremaining: 9.96s\n",
      "236:\tlearn: 0.0120281\ttotal: 3.09s\tremaining: 9.94s\n",
      "237:\tlearn: 0.0119750\ttotal: 3.1s\tremaining: 9.92s\n",
      "238:\tlearn: 0.0118433\ttotal: 3.11s\tremaining: 9.91s\n",
      "239:\tlearn: 0.0117699\ttotal: 3.12s\tremaining: 9.89s\n",
      "240:\tlearn: 0.0117264\ttotal: 3.14s\tremaining: 9.89s\n",
      "241:\tlearn: 0.0116917\ttotal: 3.15s\tremaining: 9.87s\n",
      "242:\tlearn: 0.0116782\ttotal: 3.16s\tremaining: 9.86s\n",
      "243:\tlearn: 0.0116394\ttotal: 3.17s\tremaining: 9.84s\n",
      "244:\tlearn: 0.0116114\ttotal: 3.19s\tremaining: 9.82s\n",
      "245:\tlearn: 0.0115107\ttotal: 3.2s\tremaining: 9.81s\n",
      "246:\tlearn: 0.0114789\ttotal: 3.21s\tremaining: 9.8s\n",
      "247:\tlearn: 0.0114005\ttotal: 3.23s\tremaining: 9.78s\n",
      "248:\tlearn: 0.0113779\ttotal: 3.24s\tremaining: 9.77s\n",
      "249:\tlearn: 0.0112599\ttotal: 3.25s\tremaining: 9.75s\n",
      "250:\tlearn: 0.0111876\ttotal: 3.26s\tremaining: 9.74s\n",
      "251:\tlearn: 0.0111600\ttotal: 3.28s\tremaining: 9.72s\n",
      "252:\tlearn: 0.0111467\ttotal: 3.29s\tremaining: 9.71s\n",
      "253:\tlearn: 0.0110880\ttotal: 3.3s\tremaining: 9.68s\n",
      "254:\tlearn: 0.0110486\ttotal: 3.32s\tremaining: 9.71s\n",
      "255:\tlearn: 0.0110211\ttotal: 3.33s\tremaining: 9.69s\n",
      "256:\tlearn: 0.0110144\ttotal: 3.34s\tremaining: 9.67s\n",
      "257:\tlearn: 0.0108711\ttotal: 3.37s\tremaining: 9.68s\n",
      "258:\tlearn: 0.0108051\ttotal: 3.38s\tremaining: 9.67s\n",
      "259:\tlearn: 0.0107832\ttotal: 3.41s\tremaining: 9.72s\n",
      "260:\tlearn: 0.0107639\ttotal: 3.43s\tremaining: 9.7s\n",
      "261:\tlearn: 0.0107353\ttotal: 3.44s\tremaining: 9.69s\n",
      "262:\tlearn: 0.0106802\ttotal: 3.45s\tremaining: 9.68s\n",
      "263:\tlearn: 0.0106113\ttotal: 3.48s\tremaining: 9.69s\n",
      "264:\tlearn: 0.0105575\ttotal: 3.49s\tremaining: 9.67s\n",
      "265:\tlearn: 0.0105292\ttotal: 3.5s\tremaining: 9.65s\n",
      "266:\tlearn: 0.0104768\ttotal: 3.51s\tremaining: 9.63s\n",
      "267:\tlearn: 0.0104149\ttotal: 3.52s\tremaining: 9.61s\n",
      "268:\tlearn: 0.0103866\ttotal: 3.53s\tremaining: 9.59s\n",
      "269:\tlearn: 0.0102734\ttotal: 3.54s\tremaining: 9.57s\n",
      "270:\tlearn: 0.0102020\ttotal: 3.55s\tremaining: 9.55s\n",
      "271:\tlearn: 0.0101592\ttotal: 3.56s\tremaining: 9.54s\n",
      "272:\tlearn: 0.0100597\ttotal: 3.57s\tremaining: 9.52s\n",
      "273:\tlearn: 0.0100179\ttotal: 3.58s\tremaining: 9.5s\n",
      "274:\tlearn: 0.0099646\ttotal: 3.6s\tremaining: 9.48s\n",
      "275:\tlearn: 0.0099269\ttotal: 3.61s\tremaining: 9.46s\n",
      "276:\tlearn: 0.0098974\ttotal: 3.62s\tremaining: 9.45s\n",
      "277:\tlearn: 0.0098326\ttotal: 3.63s\tremaining: 9.43s\n",
      "278:\tlearn: 0.0097917\ttotal: 3.64s\tremaining: 9.42s\n",
      "279:\tlearn: 0.0097744\ttotal: 3.65s\tremaining: 9.4s\n",
      "280:\tlearn: 0.0097217\ttotal: 3.69s\tremaining: 9.43s\n",
      "281:\tlearn: 0.0096776\ttotal: 3.72s\tremaining: 9.47s\n",
      "282:\tlearn: 0.0096534\ttotal: 3.73s\tremaining: 9.46s\n",
      "283:\tlearn: 0.0095413\ttotal: 3.75s\tremaining: 9.46s\n",
      "284:\tlearn: 0.0095051\ttotal: 3.77s\tremaining: 9.45s\n",
      "285:\tlearn: 0.0094076\ttotal: 3.78s\tremaining: 9.43s\n",
      "286:\tlearn: 0.0093530\ttotal: 3.79s\tremaining: 9.42s\n",
      "287:\tlearn: 0.0093251\ttotal: 3.8s\tremaining: 9.4s\n",
      "288:\tlearn: 0.0093105\ttotal: 3.81s\tremaining: 9.38s\n",
      "289:\tlearn: 0.0093059\ttotal: 3.82s\tremaining: 9.36s\n",
      "290:\tlearn: 0.0092795\ttotal: 3.84s\tremaining: 9.35s\n",
      "291:\tlearn: 0.0092333\ttotal: 3.85s\tremaining: 9.33s\n",
      "292:\tlearn: 0.0091328\ttotal: 3.86s\tremaining: 9.31s\n",
      "293:\tlearn: 0.0091038\ttotal: 3.87s\tremaining: 9.3s\n",
      "294:\tlearn: 0.0090911\ttotal: 3.88s\tremaining: 9.28s\n",
      "295:\tlearn: 0.0090127\ttotal: 3.9s\tremaining: 9.27s\n",
      "296:\tlearn: 0.0089644\ttotal: 3.91s\tremaining: 9.25s\n",
      "297:\tlearn: 0.0089455\ttotal: 3.92s\tremaining: 9.23s\n",
      "298:\tlearn: 0.0089333\ttotal: 3.93s\tremaining: 9.21s\n",
      "299:\tlearn: 0.0088939\ttotal: 3.94s\tremaining: 9.2s\n",
      "300:\tlearn: 0.0088840\ttotal: 3.95s\tremaining: 9.18s\n",
      "301:\tlearn: 0.0088749\ttotal: 3.96s\tremaining: 9.16s\n",
      "302:\tlearn: 0.0088582\ttotal: 3.98s\tremaining: 9.14s\n",
      "303:\tlearn: 0.0088305\ttotal: 3.99s\tremaining: 9.14s\n",
      "304:\tlearn: 0.0088032\ttotal: 4s\tremaining: 9.12s\n",
      "305:\tlearn: 0.0087831\ttotal: 4.02s\tremaining: 9.11s\n",
      "306:\tlearn: 0.0087811\ttotal: 4.03s\tremaining: 9.09s\n",
      "307:\tlearn: 0.0087287\ttotal: 4.04s\tremaining: 9.08s\n",
      "308:\tlearn: 0.0087096\ttotal: 4.05s\tremaining: 9.06s\n",
      "309:\tlearn: 0.0086869\ttotal: 4.07s\tremaining: 9.05s\n",
      "310:\tlearn: 0.0086450\ttotal: 4.08s\tremaining: 9.04s\n",
      "311:\tlearn: 0.0086323\ttotal: 4.09s\tremaining: 9.02s\n",
      "312:\tlearn: 0.0085986\ttotal: 4.1s\tremaining: 9.01s\n",
      "313:\tlearn: 0.0085884\ttotal: 4.12s\tremaining: 8.99s\n",
      "314:\tlearn: 0.0085503\ttotal: 4.13s\tremaining: 8.97s\n",
      "315:\tlearn: 0.0085464\ttotal: 4.14s\tremaining: 8.96s\n",
      "316:\tlearn: 0.0085018\ttotal: 4.17s\tremaining: 8.98s\n",
      "317:\tlearn: 0.0084867\ttotal: 4.18s\tremaining: 8.97s\n",
      "318:\tlearn: 0.0084693\ttotal: 4.19s\tremaining: 8.95s\n",
      "319:\tlearn: 0.0084360\ttotal: 4.2s\tremaining: 8.93s\n",
      "320:\tlearn: 0.0084195\ttotal: 4.22s\tremaining: 8.92s\n",
      "321:\tlearn: 0.0084134\ttotal: 4.24s\tremaining: 8.94s\n",
      "322:\tlearn: 0.0083893\ttotal: 4.26s\tremaining: 8.92s\n",
      "323:\tlearn: 0.0083420\ttotal: 4.27s\tremaining: 8.92s\n",
      "324:\tlearn: 0.0083276\ttotal: 4.29s\tremaining: 8.9s\n",
      "325:\tlearn: 0.0083132\ttotal: 4.31s\tremaining: 8.9s\n",
      "326:\tlearn: 0.0082484\ttotal: 4.32s\tremaining: 8.89s\n",
      "327:\tlearn: 0.0082170\ttotal: 4.33s\tremaining: 8.87s\n",
      "328:\tlearn: 0.0082072\ttotal: 4.34s\tremaining: 8.86s\n",
      "329:\tlearn: 0.0081956\ttotal: 4.35s\tremaining: 8.84s\n",
      "330:\tlearn: 0.0081408\ttotal: 4.36s\tremaining: 8.82s\n",
      "331:\tlearn: 0.0080927\ttotal: 4.38s\tremaining: 8.81s\n",
      "332:\tlearn: 0.0080608\ttotal: 4.4s\tremaining: 8.8s\n",
      "333:\tlearn: 0.0080260\ttotal: 4.41s\tremaining: 8.79s\n",
      "334:\tlearn: 0.0079952\ttotal: 4.42s\tremaining: 8.78s\n"
     ]
    },
    {
     "name": "stdout",
     "output_type": "stream",
     "text": [
      "335:\tlearn: 0.0079763\ttotal: 4.43s\tremaining: 8.76s\n",
      "336:\tlearn: 0.0079744\ttotal: 4.45s\tremaining: 8.75s\n",
      "337:\tlearn: 0.0079527\ttotal: 4.47s\tremaining: 8.76s\n",
      "338:\tlearn: 0.0079248\ttotal: 4.48s\tremaining: 8.74s\n",
      "339:\tlearn: 0.0079229\ttotal: 4.49s\tremaining: 8.72s\n",
      "340:\tlearn: 0.0079104\ttotal: 4.52s\tremaining: 8.73s\n",
      "341:\tlearn: 0.0078997\ttotal: 4.53s\tremaining: 8.72s\n",
      "342:\tlearn: 0.0078667\ttotal: 4.54s\tremaining: 8.7s\n",
      "343:\tlearn: 0.0078543\ttotal: 4.55s\tremaining: 8.68s\n",
      "344:\tlearn: 0.0078322\ttotal: 4.57s\tremaining: 8.67s\n",
      "345:\tlearn: 0.0078026\ttotal: 4.58s\tremaining: 8.65s\n",
      "346:\tlearn: 0.0077552\ttotal: 4.59s\tremaining: 8.63s\n",
      "347:\tlearn: 0.0077179\ttotal: 4.61s\tremaining: 8.64s\n",
      "348:\tlearn: 0.0077014\ttotal: 4.62s\tremaining: 8.62s\n",
      "349:\tlearn: 0.0076933\ttotal: 4.63s\tremaining: 8.61s\n",
      "350:\tlearn: 0.0076541\ttotal: 4.65s\tremaining: 8.59s\n",
      "351:\tlearn: 0.0076150\ttotal: 4.66s\tremaining: 8.58s\n",
      "352:\tlearn: 0.0075804\ttotal: 4.67s\tremaining: 8.56s\n",
      "353:\tlearn: 0.0075724\ttotal: 4.7s\tremaining: 8.58s\n",
      "354:\tlearn: 0.0075335\ttotal: 4.71s\tremaining: 8.57s\n",
      "355:\tlearn: 0.0075304\ttotal: 4.73s\tremaining: 8.55s\n",
      "356:\tlearn: 0.0074995\ttotal: 4.74s\tremaining: 8.54s\n",
      "357:\tlearn: 0.0074816\ttotal: 4.75s\tremaining: 8.52s\n",
      "358:\tlearn: 0.0074655\ttotal: 4.76s\tremaining: 8.51s\n",
      "359:\tlearn: 0.0074457\ttotal: 4.78s\tremaining: 8.49s\n",
      "360:\tlearn: 0.0073947\ttotal: 4.79s\tremaining: 8.47s\n",
      "361:\tlearn: 0.0073675\ttotal: 4.83s\tremaining: 8.51s\n",
      "362:\tlearn: 0.0073223\ttotal: 4.84s\tremaining: 8.49s\n",
      "363:\tlearn: 0.0073021\ttotal: 4.85s\tremaining: 8.47s\n",
      "364:\tlearn: 0.0072661\ttotal: 4.86s\tremaining: 8.46s\n",
      "365:\tlearn: 0.0072639\ttotal: 4.87s\tremaining: 8.44s\n",
      "366:\tlearn: 0.0072154\ttotal: 4.88s\tremaining: 8.43s\n",
      "367:\tlearn: 0.0071791\ttotal: 4.89s\tremaining: 8.41s\n",
      "368:\tlearn: 0.0071497\ttotal: 4.91s\tremaining: 8.39s\n",
      "369:\tlearn: 0.0071350\ttotal: 4.92s\tremaining: 8.38s\n",
      "370:\tlearn: 0.0071033\ttotal: 4.93s\tremaining: 8.36s\n",
      "371:\tlearn: 0.0070801\ttotal: 4.95s\tremaining: 8.35s\n",
      "372:\tlearn: 0.0070590\ttotal: 4.98s\tremaining: 8.37s\n",
      "373:\tlearn: 0.0070557\ttotal: 4.99s\tremaining: 8.35s\n",
      "374:\tlearn: 0.0070531\ttotal: 5s\tremaining: 8.34s\n",
      "375:\tlearn: 0.0070423\ttotal: 5.01s\tremaining: 8.32s\n",
      "376:\tlearn: 0.0070180\ttotal: 5.03s\tremaining: 8.31s\n",
      "377:\tlearn: 0.0070125\ttotal: 5.04s\tremaining: 8.29s\n",
      "378:\tlearn: 0.0069957\ttotal: 5.05s\tremaining: 8.27s\n",
      "379:\tlearn: 0.0069691\ttotal: 5.06s\tremaining: 8.26s\n",
      "380:\tlearn: 0.0069478\ttotal: 5.07s\tremaining: 8.24s\n",
      "381:\tlearn: 0.0069386\ttotal: 5.08s\tremaining: 8.23s\n",
      "382:\tlearn: 0.0069190\ttotal: 5.1s\tremaining: 8.21s\n",
      "383:\tlearn: 0.0068604\ttotal: 5.11s\tremaining: 8.2s\n",
      "384:\tlearn: 0.0068542\ttotal: 5.12s\tremaining: 8.18s\n",
      "385:\tlearn: 0.0068280\ttotal: 5.13s\tremaining: 8.17s\n",
      "386:\tlearn: 0.0068119\ttotal: 5.14s\tremaining: 8.15s\n",
      "387:\tlearn: 0.0067891\ttotal: 5.16s\tremaining: 8.14s\n",
      "388:\tlearn: 0.0067703\ttotal: 5.17s\tremaining: 8.12s\n",
      "389:\tlearn: 0.0067513\ttotal: 5.19s\tremaining: 8.11s\n",
      "390:\tlearn: 0.0067378\ttotal: 5.2s\tremaining: 8.1s\n",
      "391:\tlearn: 0.0067218\ttotal: 5.22s\tremaining: 8.09s\n",
      "392:\tlearn: 0.0067021\ttotal: 5.23s\tremaining: 8.08s\n",
      "393:\tlearn: 0.0066911\ttotal: 5.25s\tremaining: 8.07s\n",
      "394:\tlearn: 0.0066661\ttotal: 5.27s\tremaining: 8.07s\n",
      "395:\tlearn: 0.0066197\ttotal: 5.28s\tremaining: 8.05s\n",
      "396:\tlearn: 0.0066125\ttotal: 5.3s\tremaining: 8.04s\n",
      "397:\tlearn: 0.0066026\ttotal: 5.31s\tremaining: 8.03s\n",
      "398:\tlearn: 0.0065783\ttotal: 5.32s\tremaining: 8.02s\n",
      "399:\tlearn: 0.0065574\ttotal: 5.33s\tremaining: 8s\n",
      "400:\tlearn: 0.0065338\ttotal: 5.35s\tremaining: 7.99s\n",
      "401:\tlearn: 0.0065232\ttotal: 5.36s\tremaining: 7.98s\n",
      "402:\tlearn: 0.0065174\ttotal: 5.38s\tremaining: 7.96s\n",
      "403:\tlearn: 0.0065017\ttotal: 5.39s\tremaining: 7.95s\n",
      "404:\tlearn: 0.0064769\ttotal: 5.4s\tremaining: 7.94s\n",
      "405:\tlearn: 0.0064580\ttotal: 5.42s\tremaining: 7.92s\n",
      "406:\tlearn: 0.0064519\ttotal: 5.43s\tremaining: 7.91s\n",
      "407:\tlearn: 0.0064304\ttotal: 5.44s\tremaining: 7.89s\n",
      "408:\tlearn: 0.0064118\ttotal: 5.46s\tremaining: 7.88s\n",
      "409:\tlearn: 0.0063905\ttotal: 5.47s\tremaining: 7.87s\n",
      "410:\tlearn: 0.0063735\ttotal: 5.48s\tremaining: 7.85s\n",
      "411:\tlearn: 0.0063415\ttotal: 5.49s\tremaining: 7.84s\n",
      "412:\tlearn: 0.0063213\ttotal: 5.5s\tremaining: 7.83s\n",
      "413:\tlearn: 0.0063147\ttotal: 5.52s\tremaining: 7.81s\n",
      "414:\tlearn: 0.0063032\ttotal: 5.54s\tremaining: 7.8s\n",
      "415:\tlearn: 0.0062848\ttotal: 5.55s\tremaining: 7.79s\n",
      "416:\tlearn: 0.0062535\ttotal: 5.56s\tremaining: 7.78s\n",
      "417:\tlearn: 0.0062327\ttotal: 5.57s\tremaining: 7.76s\n",
      "418:\tlearn: 0.0062289\ttotal: 5.62s\tremaining: 7.79s\n",
      "419:\tlearn: 0.0062115\ttotal: 5.63s\tremaining: 7.78s\n",
      "420:\tlearn: 0.0061983\ttotal: 5.65s\tremaining: 7.77s\n",
      "421:\tlearn: 0.0061913\ttotal: 5.66s\tremaining: 7.75s\n",
      "422:\tlearn: 0.0061842\ttotal: 5.67s\tremaining: 7.74s\n",
      "423:\tlearn: 0.0061675\ttotal: 5.69s\tremaining: 7.72s\n",
      "424:\tlearn: 0.0061541\ttotal: 5.7s\tremaining: 7.71s\n",
      "425:\tlearn: 0.0061374\ttotal: 5.72s\tremaining: 7.71s\n",
      "426:\tlearn: 0.0061313\ttotal: 5.74s\tremaining: 7.71s\n",
      "427:\tlearn: 0.0061058\ttotal: 5.75s\tremaining: 7.69s\n",
      "428:\tlearn: 0.0060924\ttotal: 5.77s\tremaining: 7.67s\n",
      "429:\tlearn: 0.0060812\ttotal: 5.78s\tremaining: 7.66s\n",
      "430:\tlearn: 0.0060780\ttotal: 5.79s\tremaining: 7.64s\n",
      "431:\tlearn: 0.0060521\ttotal: 5.8s\tremaining: 7.63s\n",
      "432:\tlearn: 0.0060117\ttotal: 5.81s\tremaining: 7.61s\n",
      "433:\tlearn: 0.0060072\ttotal: 5.83s\tremaining: 7.6s\n",
      "434:\tlearn: 0.0059924\ttotal: 5.84s\tremaining: 7.59s\n",
      "435:\tlearn: 0.0059819\ttotal: 5.86s\tremaining: 7.57s\n",
      "436:\tlearn: 0.0059462\ttotal: 5.87s\tremaining: 7.56s\n",
      "437:\tlearn: 0.0058994\ttotal: 5.88s\tremaining: 7.54s\n",
      "438:\tlearn: 0.0058868\ttotal: 5.89s\tremaining: 7.53s\n",
      "439:\tlearn: 0.0058678\ttotal: 5.9s\tremaining: 7.51s\n",
      "440:\tlearn: 0.0058564\ttotal: 5.91s\tremaining: 7.49s\n",
      "441:\tlearn: 0.0058269\ttotal: 5.92s\tremaining: 7.48s\n",
      "442:\tlearn: 0.0058230\ttotal: 5.93s\tremaining: 7.46s\n",
      "443:\tlearn: 0.0058165\ttotal: 5.94s\tremaining: 7.44s\n",
      "444:\tlearn: 0.0058014\ttotal: 5.96s\tremaining: 7.43s\n",
      "445:\tlearn: 0.0057984\ttotal: 5.96s\tremaining: 7.41s\n",
      "446:\tlearn: 0.0057632\ttotal: 5.99s\tremaining: 7.41s\n",
      "447:\tlearn: 0.0057613\ttotal: 6.01s\tremaining: 7.4s\n",
      "448:\tlearn: 0.0057494\ttotal: 6.02s\tremaining: 7.38s\n",
      "449:\tlearn: 0.0057332\ttotal: 6.04s\tremaining: 7.38s\n",
      "450:\tlearn: 0.0057264\ttotal: 6.05s\tremaining: 7.37s\n",
      "451:\tlearn: 0.0057241\ttotal: 6.07s\tremaining: 7.36s\n",
      "452:\tlearn: 0.0057118\ttotal: 6.08s\tremaining: 7.34s\n",
      "453:\tlearn: 0.0057069\ttotal: 6.09s\tremaining: 7.33s\n",
      "454:\tlearn: 0.0056967\ttotal: 6.1s\tremaining: 7.31s\n",
      "455:\tlearn: 0.0056923\ttotal: 6.12s\tremaining: 7.3s\n",
      "456:\tlearn: 0.0056872\ttotal: 6.13s\tremaining: 7.28s\n",
      "457:\tlearn: 0.0056745\ttotal: 6.14s\tremaining: 7.26s\n",
      "458:\tlearn: 0.0056677\ttotal: 6.16s\tremaining: 7.26s\n",
      "459:\tlearn: 0.0056598\ttotal: 6.17s\tremaining: 7.25s\n",
      "460:\tlearn: 0.0056306\ttotal: 6.18s\tremaining: 7.23s\n",
      "461:\tlearn: 0.0056017\ttotal: 6.21s\tremaining: 7.22s\n",
      "462:\tlearn: 0.0055978\ttotal: 6.22s\tremaining: 7.21s\n",
      "463:\tlearn: 0.0055697\ttotal: 6.23s\tremaining: 7.2s\n",
      "464:\tlearn: 0.0055584\ttotal: 6.24s\tremaining: 7.18s\n",
      "465:\tlearn: 0.0055229\ttotal: 6.25s\tremaining: 7.17s\n",
      "466:\tlearn: 0.0054961\ttotal: 6.29s\tremaining: 7.17s\n",
      "467:\tlearn: 0.0054950\ttotal: 6.3s\tremaining: 7.16s\n",
      "468:\tlearn: 0.0054839\ttotal: 6.31s\tremaining: 7.15s\n",
      "469:\tlearn: 0.0054785\ttotal: 6.33s\tremaining: 7.13s\n",
      "470:\tlearn: 0.0054639\ttotal: 6.34s\tremaining: 7.12s\n",
      "471:\tlearn: 0.0054472\ttotal: 6.35s\tremaining: 7.1s\n",
      "472:\tlearn: 0.0054368\ttotal: 6.36s\tremaining: 7.09s\n",
      "473:\tlearn: 0.0054275\ttotal: 6.38s\tremaining: 7.08s\n",
      "474:\tlearn: 0.0054059\ttotal: 6.39s\tremaining: 7.06s\n",
      "475:\tlearn: 0.0054002\ttotal: 6.4s\tremaining: 7.04s\n",
      "476:\tlearn: 0.0053968\ttotal: 6.42s\tremaining: 7.04s\n",
      "477:\tlearn: 0.0053774\ttotal: 6.44s\tremaining: 7.03s\n",
      "478:\tlearn: 0.0053725\ttotal: 6.45s\tremaining: 7.01s\n",
      "479:\tlearn: 0.0053714\ttotal: 6.46s\tremaining: 7s\n",
      "480:\tlearn: 0.0053663\ttotal: 6.48s\tremaining: 6.99s\n",
      "481:\tlearn: 0.0053406\ttotal: 6.49s\tremaining: 6.98s\n",
      "482:\tlearn: 0.0053306\ttotal: 6.51s\tremaining: 6.96s\n",
      "483:\tlearn: 0.0053280\ttotal: 6.52s\tremaining: 6.95s\n",
      "484:\tlearn: 0.0053038\ttotal: 6.53s\tremaining: 6.93s\n",
      "485:\tlearn: 0.0052964\ttotal: 6.55s\tremaining: 6.92s\n",
      "486:\tlearn: 0.0052905\ttotal: 6.56s\tremaining: 6.91s\n",
      "487:\tlearn: 0.0052755\ttotal: 6.57s\tremaining: 6.9s\n",
      "488:\tlearn: 0.0052719\ttotal: 6.59s\tremaining: 6.88s\n",
      "489:\tlearn: 0.0052605\ttotal: 6.6s\tremaining: 6.87s\n",
      "490:\tlearn: 0.0052466\ttotal: 6.61s\tremaining: 6.85s\n",
      "491:\tlearn: 0.0052325\ttotal: 6.64s\tremaining: 6.85s\n",
      "492:\tlearn: 0.0052013\ttotal: 6.65s\tremaining: 6.84s\n",
      "493:\tlearn: 0.0051942\ttotal: 6.66s\tremaining: 6.82s\n",
      "494:\tlearn: 0.0051813\ttotal: 6.67s\tremaining: 6.81s\n",
      "495:\tlearn: 0.0051701\ttotal: 6.7s\tremaining: 6.81s\n",
      "496:\tlearn: 0.0051647\ttotal: 6.71s\tremaining: 6.8s\n",
      "497:\tlearn: 0.0051495\ttotal: 6.73s\tremaining: 6.78s\n",
      "498:\tlearn: 0.0051358\ttotal: 6.74s\tremaining: 6.76s\n",
      "499:\tlearn: 0.0051208\ttotal: 6.76s\tremaining: 6.76s\n",
      "500:\tlearn: 0.0051102\ttotal: 6.77s\tremaining: 6.75s\n",
      "501:\tlearn: 0.0050998\ttotal: 6.79s\tremaining: 6.73s\n",
      "502:\tlearn: 0.0050836\ttotal: 6.8s\tremaining: 6.72s\n",
      "503:\tlearn: 0.0050742\ttotal: 6.81s\tremaining: 6.7s\n",
      "504:\tlearn: 0.0050694\ttotal: 6.82s\tremaining: 6.68s\n",
      "505:\tlearn: 0.0050548\ttotal: 6.83s\tremaining: 6.67s\n"
     ]
    },
    {
     "name": "stdout",
     "output_type": "stream",
     "text": [
      "506:\tlearn: 0.0050450\ttotal: 6.84s\tremaining: 6.66s\n",
      "507:\tlearn: 0.0050248\ttotal: 6.86s\tremaining: 6.64s\n",
      "508:\tlearn: 0.0050054\ttotal: 6.87s\tremaining: 6.62s\n",
      "509:\tlearn: 0.0049983\ttotal: 6.88s\tremaining: 6.61s\n",
      "510:\tlearn: 0.0049892\ttotal: 6.89s\tremaining: 6.59s\n",
      "511:\tlearn: 0.0049851\ttotal: 6.9s\tremaining: 6.58s\n",
      "512:\tlearn: 0.0049704\ttotal: 6.91s\tremaining: 6.56s\n",
      "513:\tlearn: 0.0049511\ttotal: 6.93s\tremaining: 6.55s\n",
      "514:\tlearn: 0.0049477\ttotal: 6.94s\tremaining: 6.54s\n",
      "515:\tlearn: 0.0049440\ttotal: 6.95s\tremaining: 6.52s\n",
      "516:\tlearn: 0.0049218\ttotal: 6.96s\tremaining: 6.5s\n",
      "517:\tlearn: 0.0049106\ttotal: 6.97s\tremaining: 6.49s\n",
      "518:\tlearn: 0.0048955\ttotal: 6.99s\tremaining: 6.47s\n",
      "519:\tlearn: 0.0048887\ttotal: 7s\tremaining: 6.46s\n",
      "520:\tlearn: 0.0048751\ttotal: 7.01s\tremaining: 6.44s\n",
      "521:\tlearn: 0.0048623\ttotal: 7.02s\tremaining: 6.43s\n",
      "522:\tlearn: 0.0048578\ttotal: 7.04s\tremaining: 6.42s\n",
      "523:\tlearn: 0.0048382\ttotal: 7.05s\tremaining: 6.41s\n",
      "524:\tlearn: 0.0048260\ttotal: 7.06s\tremaining: 6.39s\n",
      "525:\tlearn: 0.0048072\ttotal: 7.08s\tremaining: 6.38s\n",
      "526:\tlearn: 0.0048016\ttotal: 7.1s\tremaining: 6.37s\n",
      "527:\tlearn: 0.0047878\ttotal: 7.11s\tremaining: 6.36s\n",
      "528:\tlearn: 0.0047851\ttotal: 7.12s\tremaining: 6.34s\n",
      "529:\tlearn: 0.0047811\ttotal: 7.14s\tremaining: 6.33s\n",
      "530:\tlearn: 0.0047726\ttotal: 7.15s\tremaining: 6.32s\n",
      "531:\tlearn: 0.0047584\ttotal: 7.16s\tremaining: 6.3s\n",
      "532:\tlearn: 0.0047276\ttotal: 7.18s\tremaining: 6.29s\n",
      "533:\tlearn: 0.0047190\ttotal: 7.2s\tremaining: 6.28s\n",
      "534:\tlearn: 0.0047107\ttotal: 7.21s\tremaining: 6.27s\n",
      "535:\tlearn: 0.0046924\ttotal: 7.22s\tremaining: 6.25s\n",
      "536:\tlearn: 0.0046730\ttotal: 7.24s\tremaining: 6.24s\n",
      "537:\tlearn: 0.0046670\ttotal: 7.25s\tremaining: 6.22s\n",
      "538:\tlearn: 0.0046644\ttotal: 7.26s\tremaining: 6.21s\n",
      "539:\tlearn: 0.0046591\ttotal: 7.28s\tremaining: 6.2s\n",
      "540:\tlearn: 0.0046379\ttotal: 7.29s\tremaining: 6.18s\n",
      "541:\tlearn: 0.0046312\ttotal: 7.3s\tremaining: 6.17s\n",
      "542:\tlearn: 0.0046279\ttotal: 7.33s\tremaining: 6.17s\n",
      "543:\tlearn: 0.0046241\ttotal: 7.34s\tremaining: 6.16s\n",
      "544:\tlearn: 0.0046197\ttotal: 7.36s\tremaining: 6.14s\n",
      "545:\tlearn: 0.0046155\ttotal: 7.37s\tremaining: 6.13s\n",
      "546:\tlearn: 0.0046099\ttotal: 7.38s\tremaining: 6.11s\n",
      "547:\tlearn: 0.0046012\ttotal: 7.39s\tremaining: 6.1s\n",
      "548:\tlearn: 0.0045911\ttotal: 7.41s\tremaining: 6.09s\n",
      "549:\tlearn: 0.0045819\ttotal: 7.42s\tremaining: 6.07s\n",
      "550:\tlearn: 0.0045811\ttotal: 7.44s\tremaining: 6.06s\n",
      "551:\tlearn: 0.0045760\ttotal: 7.45s\tremaining: 6.05s\n",
      "552:\tlearn: 0.0045635\ttotal: 7.48s\tremaining: 6.04s\n",
      "553:\tlearn: 0.0045573\ttotal: 7.49s\tremaining: 6.03s\n",
      "554:\tlearn: 0.0045529\ttotal: 7.51s\tremaining: 6.02s\n",
      "555:\tlearn: 0.0045432\ttotal: 7.52s\tremaining: 6.01s\n",
      "556:\tlearn: 0.0045332\ttotal: 7.53s\tremaining: 5.99s\n",
      "557:\tlearn: 0.0045273\ttotal: 7.54s\tremaining: 5.97s\n",
      "558:\tlearn: 0.0045168\ttotal: 7.55s\tremaining: 5.96s\n",
      "559:\tlearn: 0.0045093\ttotal: 7.57s\tremaining: 5.95s\n",
      "560:\tlearn: 0.0045073\ttotal: 7.58s\tremaining: 5.93s\n",
      "561:\tlearn: 0.0045026\ttotal: 7.59s\tremaining: 5.91s\n",
      "562:\tlearn: 0.0044989\ttotal: 7.6s\tremaining: 5.9s\n",
      "563:\tlearn: 0.0044859\ttotal: 7.61s\tremaining: 5.88s\n",
      "564:\tlearn: 0.0044709\ttotal: 7.62s\tremaining: 5.87s\n",
      "565:\tlearn: 0.0044680\ttotal: 7.63s\tremaining: 5.85s\n",
      "566:\tlearn: 0.0044618\ttotal: 7.65s\tremaining: 5.84s\n",
      "567:\tlearn: 0.0044575\ttotal: 7.66s\tremaining: 5.83s\n",
      "568:\tlearn: 0.0044566\ttotal: 7.67s\tremaining: 5.81s\n",
      "569:\tlearn: 0.0044541\ttotal: 7.68s\tremaining: 5.8s\n",
      "570:\tlearn: 0.0044459\ttotal: 7.7s\tremaining: 5.78s\n",
      "571:\tlearn: 0.0044368\ttotal: 7.71s\tremaining: 5.77s\n",
      "572:\tlearn: 0.0044345\ttotal: 7.72s\tremaining: 5.75s\n",
      "573:\tlearn: 0.0044301\ttotal: 7.73s\tremaining: 5.74s\n",
      "574:\tlearn: 0.0044208\ttotal: 7.74s\tremaining: 5.72s\n",
      "575:\tlearn: 0.0044135\ttotal: 7.75s\tremaining: 5.71s\n",
      "576:\tlearn: 0.0044112\ttotal: 7.77s\tremaining: 5.69s\n",
      "577:\tlearn: 0.0044062\ttotal: 7.78s\tremaining: 5.68s\n",
      "578:\tlearn: 0.0044028\ttotal: 7.79s\tremaining: 5.67s\n",
      "579:\tlearn: 0.0043964\ttotal: 7.8s\tremaining: 5.65s\n",
      "580:\tlearn: 0.0043833\ttotal: 7.81s\tremaining: 5.63s\n",
      "581:\tlearn: 0.0043809\ttotal: 7.83s\tremaining: 5.62s\n",
      "582:\tlearn: 0.0043642\ttotal: 7.84s\tremaining: 5.61s\n",
      "583:\tlearn: 0.0043541\ttotal: 7.86s\tremaining: 5.6s\n",
      "584:\tlearn: 0.0043514\ttotal: 7.87s\tremaining: 5.58s\n",
      "585:\tlearn: 0.0043268\ttotal: 7.88s\tremaining: 5.57s\n",
      "586:\tlearn: 0.0043143\ttotal: 7.91s\tremaining: 5.56s\n",
      "587:\tlearn: 0.0043006\ttotal: 7.92s\tremaining: 5.55s\n",
      "588:\tlearn: 0.0042970\ttotal: 7.93s\tremaining: 5.53s\n",
      "589:\tlearn: 0.0042825\ttotal: 7.95s\tremaining: 5.52s\n",
      "590:\tlearn: 0.0042800\ttotal: 7.96s\tremaining: 5.51s\n",
      "591:\tlearn: 0.0042765\ttotal: 7.98s\tremaining: 5.5s\n",
      "592:\tlearn: 0.0042662\ttotal: 8s\tremaining: 5.49s\n",
      "593:\tlearn: 0.0042654\ttotal: 8.01s\tremaining: 5.47s\n",
      "594:\tlearn: 0.0042606\ttotal: 8.03s\tremaining: 5.46s\n",
      "595:\tlearn: 0.0042481\ttotal: 8.04s\tremaining: 5.45s\n",
      "596:\tlearn: 0.0042418\ttotal: 8.05s\tremaining: 5.43s\n",
      "597:\tlearn: 0.0042369\ttotal: 8.06s\tremaining: 5.42s\n",
      "598:\tlearn: 0.0042276\ttotal: 8.07s\tremaining: 5.41s\n",
      "599:\tlearn: 0.0042265\ttotal: 8.09s\tremaining: 5.39s\n",
      "600:\tlearn: 0.0042160\ttotal: 8.1s\tremaining: 5.38s\n",
      "601:\tlearn: 0.0042011\ttotal: 8.11s\tremaining: 5.36s\n",
      "602:\tlearn: 0.0041835\ttotal: 8.12s\tremaining: 5.35s\n",
      "603:\tlearn: 0.0041692\ttotal: 8.13s\tremaining: 5.33s\n",
      "604:\tlearn: 0.0041572\ttotal: 8.14s\tremaining: 5.32s\n",
      "605:\tlearn: 0.0041440\ttotal: 8.15s\tremaining: 5.3s\n",
      "606:\tlearn: 0.0041413\ttotal: 8.17s\tremaining: 5.29s\n",
      "607:\tlearn: 0.0041335\ttotal: 8.2s\tremaining: 5.29s\n",
      "608:\tlearn: 0.0041212\ttotal: 8.21s\tremaining: 5.27s\n",
      "609:\tlearn: 0.0041138\ttotal: 8.22s\tremaining: 5.26s\n",
      "610:\tlearn: 0.0040968\ttotal: 8.24s\tremaining: 5.24s\n",
      "611:\tlearn: 0.0040844\ttotal: 8.25s\tremaining: 5.23s\n",
      "612:\tlearn: 0.0040830\ttotal: 8.26s\tremaining: 5.22s\n",
      "613:\tlearn: 0.0040773\ttotal: 8.28s\tremaining: 5.2s\n",
      "614:\tlearn: 0.0040741\ttotal: 8.29s\tremaining: 5.19s\n",
      "615:\tlearn: 0.0040684\ttotal: 8.3s\tremaining: 5.17s\n",
      "616:\tlearn: 0.0040567\ttotal: 8.31s\tremaining: 5.16s\n",
      "617:\tlearn: 0.0040473\ttotal: 8.33s\tremaining: 5.15s\n",
      "618:\tlearn: 0.0040352\ttotal: 8.34s\tremaining: 5.13s\n",
      "619:\tlearn: 0.0040272\ttotal: 8.35s\tremaining: 5.12s\n",
      "620:\tlearn: 0.0040115\ttotal: 8.37s\tremaining: 5.11s\n",
      "621:\tlearn: 0.0040086\ttotal: 8.38s\tremaining: 5.09s\n",
      "622:\tlearn: 0.0040048\ttotal: 8.39s\tremaining: 5.08s\n",
      "623:\tlearn: 0.0039954\ttotal: 8.4s\tremaining: 5.06s\n",
      "624:\tlearn: 0.0039884\ttotal: 8.42s\tremaining: 5.05s\n",
      "625:\tlearn: 0.0039806\ttotal: 8.43s\tremaining: 5.04s\n",
      "626:\tlearn: 0.0039707\ttotal: 8.44s\tremaining: 5.02s\n",
      "627:\tlearn: 0.0039676\ttotal: 8.47s\tremaining: 5.02s\n",
      "628:\tlearn: 0.0039566\ttotal: 8.48s\tremaining: 5s\n",
      "629:\tlearn: 0.0039477\ttotal: 8.49s\tremaining: 4.99s\n",
      "630:\tlearn: 0.0039425\ttotal: 8.51s\tremaining: 4.97s\n",
      "631:\tlearn: 0.0039401\ttotal: 8.52s\tremaining: 4.96s\n",
      "632:\tlearn: 0.0039356\ttotal: 8.53s\tremaining: 4.95s\n",
      "633:\tlearn: 0.0039334\ttotal: 8.54s\tremaining: 4.93s\n",
      "634:\tlearn: 0.0039290\ttotal: 8.55s\tremaining: 4.92s\n",
      "635:\tlearn: 0.0039205\ttotal: 8.56s\tremaining: 4.9s\n",
      "636:\tlearn: 0.0039172\ttotal: 8.57s\tremaining: 4.88s\n",
      "637:\tlearn: 0.0039090\ttotal: 8.59s\tremaining: 4.87s\n",
      "638:\tlearn: 0.0038998\ttotal: 8.6s\tremaining: 4.86s\n",
      "639:\tlearn: 0.0038865\ttotal: 8.62s\tremaining: 4.85s\n",
      "640:\tlearn: 0.0038814\ttotal: 8.64s\tremaining: 4.84s\n",
      "641:\tlearn: 0.0038759\ttotal: 8.65s\tremaining: 4.82s\n",
      "642:\tlearn: 0.0038717\ttotal: 8.66s\tremaining: 4.81s\n",
      "643:\tlearn: 0.0038642\ttotal: 8.67s\tremaining: 4.79s\n",
      "644:\tlearn: 0.0038630\ttotal: 8.69s\tremaining: 4.78s\n",
      "645:\tlearn: 0.0038618\ttotal: 8.7s\tremaining: 4.77s\n",
      "646:\tlearn: 0.0038465\ttotal: 8.71s\tremaining: 4.75s\n",
      "647:\tlearn: 0.0038443\ttotal: 8.72s\tremaining: 4.74s\n",
      "648:\tlearn: 0.0038422\ttotal: 8.73s\tremaining: 4.72s\n",
      "649:\tlearn: 0.0038392\ttotal: 8.74s\tremaining: 4.71s\n",
      "650:\tlearn: 0.0038356\ttotal: 8.75s\tremaining: 4.69s\n",
      "651:\tlearn: 0.0038271\ttotal: 8.77s\tremaining: 4.68s\n",
      "652:\tlearn: 0.0038182\ttotal: 8.78s\tremaining: 4.67s\n",
      "653:\tlearn: 0.0038098\ttotal: 8.8s\tremaining: 4.66s\n",
      "654:\tlearn: 0.0038073\ttotal: 8.81s\tremaining: 4.64s\n",
      "655:\tlearn: 0.0038027\ttotal: 8.82s\tremaining: 4.63s\n",
      "656:\tlearn: 0.0038017\ttotal: 8.84s\tremaining: 4.61s\n",
      "657:\tlearn: 0.0037936\ttotal: 8.85s\tremaining: 4.6s\n",
      "658:\tlearn: 0.0037930\ttotal: 8.86s\tremaining: 4.58s\n",
      "659:\tlearn: 0.0037823\ttotal: 8.87s\tremaining: 4.57s\n",
      "660:\tlearn: 0.0037687\ttotal: 8.88s\tremaining: 4.55s\n",
      "661:\tlearn: 0.0037650\ttotal: 8.89s\tremaining: 4.54s\n",
      "662:\tlearn: 0.0037642\ttotal: 8.9s\tremaining: 4.53s\n",
      "663:\tlearn: 0.0037447\ttotal: 8.91s\tremaining: 4.51s\n",
      "664:\tlearn: 0.0037420\ttotal: 8.93s\tremaining: 4.5s\n",
      "665:\tlearn: 0.0037348\ttotal: 8.94s\tremaining: 4.48s\n",
      "666:\tlearn: 0.0037229\ttotal: 8.95s\tremaining: 4.47s\n",
      "667:\tlearn: 0.0037213\ttotal: 8.96s\tremaining: 4.45s\n",
      "668:\tlearn: 0.0037190\ttotal: 8.98s\tremaining: 4.44s\n",
      "669:\tlearn: 0.0037021\ttotal: 9.01s\tremaining: 4.44s\n"
     ]
    },
    {
     "name": "stdout",
     "output_type": "stream",
     "text": [
      "670:\tlearn: 0.0036895\ttotal: 9.02s\tremaining: 4.42s\n",
      "671:\tlearn: 0.0036839\ttotal: 9.04s\tremaining: 4.41s\n",
      "672:\tlearn: 0.0036663\ttotal: 9.05s\tremaining: 4.4s\n",
      "673:\tlearn: 0.0036604\ttotal: 9.07s\tremaining: 4.38s\n",
      "674:\tlearn: 0.0036459\ttotal: 9.08s\tremaining: 4.37s\n",
      "675:\tlearn: 0.0036428\ttotal: 9.09s\tremaining: 4.36s\n",
      "676:\tlearn: 0.0036302\ttotal: 9.1s\tremaining: 4.34s\n",
      "677:\tlearn: 0.0036262\ttotal: 9.11s\tremaining: 4.33s\n",
      "678:\tlearn: 0.0036232\ttotal: 9.13s\tremaining: 4.31s\n",
      "679:\tlearn: 0.0036117\ttotal: 9.14s\tremaining: 4.3s\n",
      "680:\tlearn: 0.0036040\ttotal: 9.15s\tremaining: 4.29s\n",
      "681:\tlearn: 0.0035963\ttotal: 9.16s\tremaining: 4.27s\n",
      "682:\tlearn: 0.0035933\ttotal: 9.17s\tremaining: 4.26s\n",
      "683:\tlearn: 0.0035913\ttotal: 9.19s\tremaining: 4.24s\n",
      "684:\tlearn: 0.0035857\ttotal: 9.2s\tremaining: 4.23s\n",
      "685:\tlearn: 0.0035657\ttotal: 9.21s\tremaining: 4.22s\n",
      "686:\tlearn: 0.0035592\ttotal: 9.22s\tremaining: 4.2s\n",
      "687:\tlearn: 0.0035567\ttotal: 9.23s\tremaining: 4.19s\n",
      "688:\tlearn: 0.0035373\ttotal: 9.25s\tremaining: 4.17s\n",
      "689:\tlearn: 0.0035310\ttotal: 9.26s\tremaining: 4.16s\n",
      "690:\tlearn: 0.0035226\ttotal: 9.27s\tremaining: 4.15s\n",
      "691:\tlearn: 0.0035121\ttotal: 9.28s\tremaining: 4.13s\n",
      "692:\tlearn: 0.0035063\ttotal: 9.3s\tremaining: 4.12s\n",
      "693:\tlearn: 0.0034976\ttotal: 9.31s\tremaining: 4.11s\n",
      "694:\tlearn: 0.0034940\ttotal: 9.33s\tremaining: 4.09s\n",
      "695:\tlearn: 0.0034883\ttotal: 9.34s\tremaining: 4.08s\n",
      "696:\tlearn: 0.0034840\ttotal: 9.35s\tremaining: 4.07s\n",
      "697:\tlearn: 0.0034785\ttotal: 9.36s\tremaining: 4.05s\n",
      "698:\tlearn: 0.0034735\ttotal: 9.39s\tremaining: 4.04s\n",
      "699:\tlearn: 0.0034694\ttotal: 9.4s\tremaining: 4.03s\n",
      "700:\tlearn: 0.0034641\ttotal: 9.42s\tremaining: 4.02s\n",
      "701:\tlearn: 0.0034589\ttotal: 9.44s\tremaining: 4.01s\n",
      "702:\tlearn: 0.0034544\ttotal: 9.45s\tremaining: 3.99s\n",
      "703:\tlearn: 0.0034482\ttotal: 9.48s\tremaining: 3.98s\n",
      "704:\tlearn: 0.0034429\ttotal: 9.49s\tremaining: 3.97s\n",
      "705:\tlearn: 0.0034388\ttotal: 9.5s\tremaining: 3.96s\n",
      "706:\tlearn: 0.0034309\ttotal: 9.51s\tremaining: 3.94s\n",
      "707:\tlearn: 0.0034282\ttotal: 9.53s\tremaining: 3.93s\n",
      "708:\tlearn: 0.0034237\ttotal: 9.54s\tremaining: 3.92s\n",
      "709:\tlearn: 0.0034215\ttotal: 9.55s\tremaining: 3.9s\n",
      "710:\tlearn: 0.0034169\ttotal: 9.56s\tremaining: 3.89s\n",
      "711:\tlearn: 0.0034148\ttotal: 9.57s\tremaining: 3.87s\n",
      "712:\tlearn: 0.0034130\ttotal: 9.59s\tremaining: 3.86s\n",
      "713:\tlearn: 0.0034049\ttotal: 9.6s\tremaining: 3.84s\n",
      "714:\tlearn: 0.0033974\ttotal: 9.61s\tremaining: 3.83s\n",
      "715:\tlearn: 0.0033930\ttotal: 9.62s\tremaining: 3.81s\n",
      "716:\tlearn: 0.0033860\ttotal: 9.63s\tremaining: 3.8s\n",
      "717:\tlearn: 0.0033767\ttotal: 9.64s\tremaining: 3.79s\n",
      "718:\tlearn: 0.0033725\ttotal: 9.65s\tremaining: 3.77s\n",
      "719:\tlearn: 0.0033640\ttotal: 9.66s\tremaining: 3.76s\n",
      "720:\tlearn: 0.0033591\ttotal: 9.67s\tremaining: 3.74s\n",
      "721:\tlearn: 0.0033537\ttotal: 9.68s\tremaining: 3.73s\n",
      "722:\tlearn: 0.0033500\ttotal: 9.7s\tremaining: 3.71s\n",
      "723:\tlearn: 0.0033446\ttotal: 9.71s\tremaining: 3.7s\n",
      "724:\tlearn: 0.0033406\ttotal: 9.71s\tremaining: 3.69s\n",
      "725:\tlearn: 0.0033387\ttotal: 9.72s\tremaining: 3.67s\n",
      "726:\tlearn: 0.0033349\ttotal: 9.73s\tremaining: 3.65s\n",
      "727:\tlearn: 0.0033295\ttotal: 9.75s\tremaining: 3.64s\n",
      "728:\tlearn: 0.0033183\ttotal: 9.76s\tremaining: 3.63s\n",
      "729:\tlearn: 0.0033118\ttotal: 9.77s\tremaining: 3.61s\n",
      "730:\tlearn: 0.0033101\ttotal: 9.78s\tremaining: 3.6s\n",
      "731:\tlearn: 0.0033070\ttotal: 9.79s\tremaining: 3.58s\n",
      "732:\tlearn: 0.0033039\ttotal: 9.8s\tremaining: 3.57s\n",
      "733:\tlearn: 0.0033002\ttotal: 9.81s\tremaining: 3.56s\n",
      "734:\tlearn: 0.0032985\ttotal: 9.82s\tremaining: 3.54s\n",
      "735:\tlearn: 0.0032897\ttotal: 9.83s\tremaining: 3.53s\n",
      "736:\tlearn: 0.0032849\ttotal: 9.85s\tremaining: 3.51s\n",
      "737:\tlearn: 0.0032833\ttotal: 9.86s\tremaining: 3.5s\n",
      "738:\tlearn: 0.0032731\ttotal: 9.87s\tremaining: 3.48s\n",
      "739:\tlearn: 0.0032639\ttotal: 9.88s\tremaining: 3.47s\n",
      "740:\tlearn: 0.0032601\ttotal: 9.9s\tremaining: 3.46s\n",
      "741:\tlearn: 0.0032517\ttotal: 9.91s\tremaining: 3.44s\n",
      "742:\tlearn: 0.0032483\ttotal: 9.92s\tremaining: 3.43s\n",
      "743:\tlearn: 0.0032437\ttotal: 9.93s\tremaining: 3.42s\n",
      "744:\tlearn: 0.0032433\ttotal: 9.94s\tremaining: 3.4s\n",
      "745:\tlearn: 0.0032377\ttotal: 9.95s\tremaining: 3.39s\n",
      "746:\tlearn: 0.0032362\ttotal: 9.96s\tremaining: 3.37s\n",
      "747:\tlearn: 0.0032304\ttotal: 9.97s\tremaining: 3.36s\n",
      "748:\tlearn: 0.0032240\ttotal: 9.98s\tremaining: 3.35s\n",
      "749:\tlearn: 0.0032213\ttotal: 9.99s\tremaining: 3.33s\n",
      "750:\tlearn: 0.0032192\ttotal: 10s\tremaining: 3.33s\n",
      "751:\tlearn: 0.0032152\ttotal: 10s\tremaining: 3.31s\n",
      "752:\tlearn: 0.0032095\ttotal: 10.1s\tremaining: 3.3s\n",
      "753:\tlearn: 0.0032073\ttotal: 10.1s\tremaining: 3.28s\n",
      "754:\tlearn: 0.0032012\ttotal: 10.1s\tremaining: 3.27s\n",
      "755:\tlearn: 0.0031974\ttotal: 10.1s\tremaining: 3.25s\n",
      "756:\tlearn: 0.0031948\ttotal: 10.1s\tremaining: 3.24s\n",
      "757:\tlearn: 0.0031845\ttotal: 10.1s\tremaining: 3.23s\n",
      "758:\tlearn: 0.0031802\ttotal: 10.1s\tremaining: 3.21s\n",
      "759:\tlearn: 0.0031747\ttotal: 10.1s\tremaining: 3.2s\n",
      "760:\tlearn: 0.0031724\ttotal: 10.2s\tremaining: 3.19s\n",
      "761:\tlearn: 0.0031667\ttotal: 10.2s\tremaining: 3.17s\n",
      "762:\tlearn: 0.0031643\ttotal: 10.2s\tremaining: 3.16s\n",
      "763:\tlearn: 0.0031621\ttotal: 10.2s\tremaining: 3.15s\n",
      "764:\tlearn: 0.0031590\ttotal: 10.2s\tremaining: 3.13s\n",
      "765:\tlearn: 0.0031533\ttotal: 10.2s\tremaining: 3.12s\n",
      "766:\tlearn: 0.0031522\ttotal: 10.2s\tremaining: 3.1s\n",
      "767:\tlearn: 0.0031500\ttotal: 10.2s\tremaining: 3.09s\n",
      "768:\tlearn: 0.0031445\ttotal: 10.2s\tremaining: 3.08s\n",
      "769:\tlearn: 0.0031435\ttotal: 10.3s\tremaining: 3.06s\n",
      "770:\tlearn: 0.0031390\ttotal: 10.3s\tremaining: 3.05s\n",
      "771:\tlearn: 0.0031379\ttotal: 10.3s\tremaining: 3.04s\n",
      "772:\tlearn: 0.0031368\ttotal: 10.3s\tremaining: 3.02s\n",
      "773:\tlearn: 0.0031364\ttotal: 10.3s\tremaining: 3.01s\n",
      "774:\tlearn: 0.0031289\ttotal: 10.3s\tremaining: 2.99s\n",
      "775:\tlearn: 0.0031174\ttotal: 10.3s\tremaining: 2.98s\n",
      "776:\tlearn: 0.0031086\ttotal: 10.3s\tremaining: 2.97s\n",
      "777:\tlearn: 0.0031049\ttotal: 10.4s\tremaining: 2.95s\n",
      "778:\tlearn: 0.0031040\ttotal: 10.4s\tremaining: 2.94s\n",
      "779:\tlearn: 0.0030962\ttotal: 10.4s\tremaining: 2.93s\n",
      "780:\tlearn: 0.0030909\ttotal: 10.4s\tremaining: 2.91s\n",
      "781:\tlearn: 0.0030806\ttotal: 10.4s\tremaining: 2.9s\n",
      "782:\tlearn: 0.0030764\ttotal: 10.4s\tremaining: 2.89s\n",
      "783:\tlearn: 0.0030734\ttotal: 10.4s\tremaining: 2.87s\n",
      "784:\tlearn: 0.0030697\ttotal: 10.4s\tremaining: 2.86s\n",
      "785:\tlearn: 0.0030656\ttotal: 10.5s\tremaining: 2.85s\n",
      "786:\tlearn: 0.0030637\ttotal: 10.5s\tremaining: 2.83s\n",
      "787:\tlearn: 0.0030616\ttotal: 10.5s\tremaining: 2.82s\n",
      "788:\tlearn: 0.0030517\ttotal: 10.5s\tremaining: 2.81s\n",
      "789:\tlearn: 0.0030485\ttotal: 10.5s\tremaining: 2.8s\n",
      "790:\tlearn: 0.0030437\ttotal: 10.5s\tremaining: 2.79s\n",
      "791:\tlearn: 0.0030344\ttotal: 10.6s\tremaining: 2.77s\n",
      "792:\tlearn: 0.0030311\ttotal: 10.6s\tremaining: 2.76s\n",
      "793:\tlearn: 0.0030300\ttotal: 10.6s\tremaining: 2.74s\n",
      "794:\tlearn: 0.0030181\ttotal: 10.6s\tremaining: 2.73s\n",
      "795:\tlearn: 0.0030134\ttotal: 10.6s\tremaining: 2.72s\n",
      "796:\tlearn: 0.0030124\ttotal: 10.6s\tremaining: 2.7s\n",
      "797:\tlearn: 0.0030060\ttotal: 10.6s\tremaining: 2.69s\n",
      "798:\tlearn: 0.0030005\ttotal: 10.6s\tremaining: 2.67s\n",
      "799:\tlearn: 0.0029920\ttotal: 10.6s\tremaining: 2.66s\n",
      "800:\tlearn: 0.0029870\ttotal: 10.7s\tremaining: 2.65s\n",
      "801:\tlearn: 0.0029836\ttotal: 10.7s\tremaining: 2.63s\n",
      "802:\tlearn: 0.0029783\ttotal: 10.7s\tremaining: 2.62s\n",
      "803:\tlearn: 0.0029766\ttotal: 10.7s\tremaining: 2.61s\n",
      "804:\tlearn: 0.0029482\ttotal: 10.7s\tremaining: 2.6s\n",
      "805:\tlearn: 0.0029473\ttotal: 10.8s\tremaining: 2.59s\n",
      "806:\tlearn: 0.0029432\ttotal: 10.8s\tremaining: 2.58s\n",
      "807:\tlearn: 0.0029409\ttotal: 10.8s\tremaining: 2.56s\n",
      "808:\tlearn: 0.0029346\ttotal: 10.8s\tremaining: 2.55s\n",
      "809:\tlearn: 0.0029324\ttotal: 10.8s\tremaining: 2.53s\n",
      "810:\tlearn: 0.0029202\ttotal: 10.8s\tremaining: 2.52s\n",
      "811:\tlearn: 0.0029177\ttotal: 10.8s\tremaining: 2.51s\n",
      "812:\tlearn: 0.0029121\ttotal: 10.9s\tremaining: 2.5s\n",
      "813:\tlearn: 0.0029112\ttotal: 10.9s\tremaining: 2.48s\n",
      "814:\tlearn: 0.0029088\ttotal: 10.9s\tremaining: 2.47s\n",
      "815:\tlearn: 0.0029064\ttotal: 10.9s\tremaining: 2.46s\n",
      "816:\tlearn: 0.0029030\ttotal: 10.9s\tremaining: 2.44s\n",
      "817:\tlearn: 0.0029020\ttotal: 11s\tremaining: 2.44s\n",
      "818:\tlearn: 0.0028975\ttotal: 11s\tremaining: 2.42s\n",
      "819:\tlearn: 0.0028952\ttotal: 11s\tremaining: 2.41s\n",
      "820:\tlearn: 0.0028908\ttotal: 11s\tremaining: 2.4s\n",
      "821:\tlearn: 0.0028897\ttotal: 11s\tremaining: 2.38s\n",
      "822:\tlearn: 0.0028864\ttotal: 11s\tremaining: 2.37s\n",
      "823:\tlearn: 0.0028841\ttotal: 11.1s\tremaining: 2.36s\n",
      "824:\tlearn: 0.0028821\ttotal: 11.1s\tremaining: 2.35s\n",
      "825:\tlearn: 0.0028597\ttotal: 11.1s\tremaining: 2.33s\n",
      "826:\tlearn: 0.0028574\ttotal: 11.1s\tremaining: 2.32s\n",
      "827:\tlearn: 0.0028551\ttotal: 11.1s\tremaining: 2.31s\n",
      "828:\tlearn: 0.0028525\ttotal: 11.1s\tremaining: 2.29s\n",
      "829:\tlearn: 0.0028477\ttotal: 11.1s\tremaining: 2.28s\n"
     ]
    },
    {
     "name": "stdout",
     "output_type": "stream",
     "text": [
      "830:\tlearn: 0.0028415\ttotal: 11.1s\tremaining: 2.27s\n",
      "831:\tlearn: 0.0028347\ttotal: 11.2s\tremaining: 2.25s\n",
      "832:\tlearn: 0.0028317\ttotal: 11.2s\tremaining: 2.24s\n",
      "833:\tlearn: 0.0028278\ttotal: 11.2s\tremaining: 2.23s\n",
      "834:\tlearn: 0.0028228\ttotal: 11.2s\tremaining: 2.21s\n",
      "835:\tlearn: 0.0028215\ttotal: 11.2s\tremaining: 2.2s\n",
      "836:\tlearn: 0.0028068\ttotal: 11.2s\tremaining: 2.18s\n",
      "837:\tlearn: 0.0028030\ttotal: 11.2s\tremaining: 2.17s\n",
      "838:\tlearn: 0.0027991\ttotal: 11.2s\tremaining: 2.16s\n",
      "839:\tlearn: 0.0027966\ttotal: 11.3s\tremaining: 2.14s\n",
      "840:\tlearn: 0.0027913\ttotal: 11.3s\tremaining: 2.13s\n",
      "841:\tlearn: 0.0027873\ttotal: 11.3s\tremaining: 2.12s\n",
      "842:\tlearn: 0.0027862\ttotal: 11.3s\tremaining: 2.1s\n",
      "843:\tlearn: 0.0027829\ttotal: 11.3s\tremaining: 2.09s\n",
      "844:\tlearn: 0.0027817\ttotal: 11.3s\tremaining: 2.08s\n",
      "845:\tlearn: 0.0027806\ttotal: 11.3s\tremaining: 2.06s\n",
      "846:\tlearn: 0.0027763\ttotal: 11.3s\tremaining: 2.05s\n",
      "847:\tlearn: 0.0027725\ttotal: 11.4s\tremaining: 2.04s\n",
      "848:\tlearn: 0.0027672\ttotal: 11.4s\tremaining: 2.02s\n",
      "849:\tlearn: 0.0027659\ttotal: 11.4s\tremaining: 2.01s\n",
      "850:\tlearn: 0.0027648\ttotal: 11.4s\tremaining: 1.99s\n",
      "851:\tlearn: 0.0027567\ttotal: 11.4s\tremaining: 1.98s\n",
      "852:\tlearn: 0.0027457\ttotal: 11.4s\tremaining: 1.97s\n",
      "853:\tlearn: 0.0027444\ttotal: 11.4s\tremaining: 1.95s\n",
      "854:\tlearn: 0.0027429\ttotal: 11.4s\tremaining: 1.94s\n",
      "855:\tlearn: 0.0027370\ttotal: 11.5s\tremaining: 1.93s\n",
      "856:\tlearn: 0.0027337\ttotal: 11.5s\tremaining: 1.91s\n",
      "857:\tlearn: 0.0027314\ttotal: 11.5s\tremaining: 1.9s\n",
      "858:\tlearn: 0.0027255\ttotal: 11.5s\tremaining: 1.89s\n",
      "859:\tlearn: 0.0027172\ttotal: 11.5s\tremaining: 1.87s\n",
      "860:\tlearn: 0.0027116\ttotal: 11.5s\tremaining: 1.86s\n",
      "861:\tlearn: 0.0027082\ttotal: 11.6s\tremaining: 1.85s\n",
      "862:\tlearn: 0.0027049\ttotal: 11.6s\tremaining: 1.83s\n",
      "863:\tlearn: 0.0026995\ttotal: 11.6s\tremaining: 1.82s\n",
      "864:\tlearn: 0.0026984\ttotal: 11.6s\tremaining: 1.81s\n",
      "865:\tlearn: 0.0026943\ttotal: 11.6s\tremaining: 1.79s\n",
      "866:\tlearn: 0.0026937\ttotal: 11.6s\tremaining: 1.78s\n",
      "867:\tlearn: 0.0026924\ttotal: 11.6s\tremaining: 1.77s\n",
      "868:\tlearn: 0.0026890\ttotal: 11.6s\tremaining: 1.75s\n",
      "869:\tlearn: 0.0026855\ttotal: 11.7s\tremaining: 1.74s\n",
      "870:\tlearn: 0.0026827\ttotal: 11.7s\tremaining: 1.73s\n",
      "871:\tlearn: 0.0026798\ttotal: 11.7s\tremaining: 1.71s\n",
      "872:\tlearn: 0.0026787\ttotal: 11.7s\tremaining: 1.7s\n",
      "873:\tlearn: 0.0026750\ttotal: 11.7s\tremaining: 1.69s\n",
      "874:\tlearn: 0.0026705\ttotal: 11.7s\tremaining: 1.68s\n",
      "875:\tlearn: 0.0026691\ttotal: 11.7s\tremaining: 1.66s\n",
      "876:\tlearn: 0.0026645\ttotal: 11.8s\tremaining: 1.65s\n",
      "877:\tlearn: 0.0026627\ttotal: 11.8s\tremaining: 1.64s\n",
      "878:\tlearn: 0.0026615\ttotal: 11.8s\tremaining: 1.62s\n",
      "879:\tlearn: 0.0026607\ttotal: 11.8s\tremaining: 1.61s\n",
      "880:\tlearn: 0.0026593\ttotal: 11.8s\tremaining: 1.6s\n",
      "881:\tlearn: 0.0026562\ttotal: 11.8s\tremaining: 1.58s\n",
      "882:\tlearn: 0.0026506\ttotal: 11.8s\tremaining: 1.57s\n",
      "883:\tlearn: 0.0026457\ttotal: 11.9s\tremaining: 1.55s\n",
      "884:\tlearn: 0.0026417\ttotal: 11.9s\tremaining: 1.54s\n",
      "885:\tlearn: 0.0026396\ttotal: 11.9s\tremaining: 1.53s\n",
      "886:\tlearn: 0.0026352\ttotal: 11.9s\tremaining: 1.51s\n",
      "887:\tlearn: 0.0026348\ttotal: 11.9s\tremaining: 1.5s\n",
      "888:\tlearn: 0.0026312\ttotal: 11.9s\tremaining: 1.49s\n",
      "889:\tlearn: 0.0026269\ttotal: 11.9s\tremaining: 1.47s\n",
      "890:\tlearn: 0.0026229\ttotal: 11.9s\tremaining: 1.46s\n",
      "891:\tlearn: 0.0026133\ttotal: 11.9s\tremaining: 1.45s\n",
      "892:\tlearn: 0.0026123\ttotal: 12s\tremaining: 1.43s\n",
      "893:\tlearn: 0.0026104\ttotal: 12s\tremaining: 1.42s\n",
      "894:\tlearn: 0.0026072\ttotal: 12s\tremaining: 1.41s\n",
      "895:\tlearn: 0.0026022\ttotal: 12s\tremaining: 1.39s\n",
      "896:\tlearn: 0.0026015\ttotal: 12s\tremaining: 1.38s\n",
      "897:\tlearn: 0.0026001\ttotal: 12s\tremaining: 1.37s\n",
      "898:\tlearn: 0.0025970\ttotal: 12s\tremaining: 1.35s\n",
      "899:\tlearn: 0.0025943\ttotal: 12.1s\tremaining: 1.34s\n",
      "900:\tlearn: 0.0025897\ttotal: 12.1s\tremaining: 1.32s\n",
      "901:\tlearn: 0.0025838\ttotal: 12.1s\tremaining: 1.31s\n",
      "902:\tlearn: 0.0025827\ttotal: 12.1s\tremaining: 1.3s\n",
      "903:\tlearn: 0.0025747\ttotal: 12.1s\tremaining: 1.28s\n",
      "904:\tlearn: 0.0025716\ttotal: 12.1s\tremaining: 1.27s\n",
      "905:\tlearn: 0.0025707\ttotal: 12.1s\tremaining: 1.26s\n",
      "906:\tlearn: 0.0025692\ttotal: 12.1s\tremaining: 1.24s\n",
      "907:\tlearn: 0.0025657\ttotal: 12.2s\tremaining: 1.23s\n",
      "908:\tlearn: 0.0025638\ttotal: 12.2s\tremaining: 1.22s\n",
      "909:\tlearn: 0.0025601\ttotal: 12.2s\tremaining: 1.2s\n",
      "910:\tlearn: 0.0025535\ttotal: 12.2s\tremaining: 1.19s\n",
      "911:\tlearn: 0.0025452\ttotal: 12.2s\tremaining: 1.18s\n",
      "912:\tlearn: 0.0025415\ttotal: 12.2s\tremaining: 1.16s\n",
      "913:\tlearn: 0.0025365\ttotal: 12.2s\tremaining: 1.15s\n",
      "914:\tlearn: 0.0025326\ttotal: 12.3s\tremaining: 1.14s\n",
      "915:\tlearn: 0.0025310\ttotal: 12.3s\tremaining: 1.12s\n",
      "916:\tlearn: 0.0025285\ttotal: 12.3s\tremaining: 1.11s\n",
      "917:\tlearn: 0.0025254\ttotal: 12.3s\tremaining: 1.1s\n",
      "918:\tlearn: 0.0025218\ttotal: 12.3s\tremaining: 1.08s\n",
      "919:\tlearn: 0.0025186\ttotal: 12.3s\tremaining: 1.07s\n",
      "920:\tlearn: 0.0025165\ttotal: 12.3s\tremaining: 1.06s\n",
      "921:\tlearn: 0.0025145\ttotal: 12.3s\tremaining: 1.04s\n",
      "922:\tlearn: 0.0025077\ttotal: 12.3s\tremaining: 1.03s\n",
      "923:\tlearn: 0.0025048\ttotal: 12.4s\tremaining: 1.02s\n",
      "924:\tlearn: 0.0024992\ttotal: 12.4s\tremaining: 1s\n",
      "925:\tlearn: 0.0024981\ttotal: 12.4s\tremaining: 990ms\n",
      "926:\tlearn: 0.0024852\ttotal: 12.4s\tremaining: 977ms\n",
      "927:\tlearn: 0.0024802\ttotal: 12.4s\tremaining: 964ms\n",
      "928:\tlearn: 0.0024742\ttotal: 12.4s\tremaining: 951ms\n",
      "929:\tlearn: 0.0024714\ttotal: 12.5s\tremaining: 937ms\n",
      "930:\tlearn: 0.0024697\ttotal: 12.5s\tremaining: 924ms\n",
      "931:\tlearn: 0.0024673\ttotal: 12.5s\tremaining: 911ms\n",
      "932:\tlearn: 0.0024595\ttotal: 12.5s\tremaining: 897ms\n",
      "933:\tlearn: 0.0024548\ttotal: 12.5s\tremaining: 884ms\n",
      "934:\tlearn: 0.0024485\ttotal: 12.5s\tremaining: 870ms\n",
      "935:\tlearn: 0.0024474\ttotal: 12.5s\tremaining: 857ms\n",
      "936:\tlearn: 0.0024453\ttotal: 12.5s\tremaining: 843ms\n",
      "937:\tlearn: 0.0024442\ttotal: 12.6s\tremaining: 831ms\n",
      "938:\tlearn: 0.0024428\ttotal: 12.6s\tremaining: 817ms\n",
      "939:\tlearn: 0.0024420\ttotal: 12.6s\tremaining: 804ms\n",
      "940:\tlearn: 0.0024389\ttotal: 12.6s\tremaining: 790ms\n",
      "941:\tlearn: 0.0024381\ttotal: 12.6s\tremaining: 776ms\n",
      "942:\tlearn: 0.0024353\ttotal: 12.6s\tremaining: 763ms\n",
      "943:\tlearn: 0.0024326\ttotal: 12.6s\tremaining: 749ms\n",
      "944:\tlearn: 0.0024279\ttotal: 12.6s\tremaining: 736ms\n",
      "945:\tlearn: 0.0024251\ttotal: 12.7s\tremaining: 722ms\n",
      "946:\tlearn: 0.0024210\ttotal: 12.7s\tremaining: 709ms\n",
      "947:\tlearn: 0.0024146\ttotal: 12.7s\tremaining: 695ms\n",
      "948:\tlearn: 0.0024116\ttotal: 12.7s\tremaining: 682ms\n",
      "949:\tlearn: 0.0024065\ttotal: 12.7s\tremaining: 668ms\n",
      "950:\tlearn: 0.0024054\ttotal: 12.7s\tremaining: 655ms\n",
      "951:\tlearn: 0.0024030\ttotal: 12.7s\tremaining: 642ms\n",
      "952:\tlearn: 0.0024020\ttotal: 12.7s\tremaining: 628ms\n",
      "953:\tlearn: 0.0023972\ttotal: 12.8s\tremaining: 615ms\n",
      "954:\tlearn: 0.0023879\ttotal: 12.8s\tremaining: 602ms\n",
      "955:\tlearn: 0.0023861\ttotal: 12.8s\tremaining: 588ms\n",
      "956:\tlearn: 0.0023837\ttotal: 12.8s\tremaining: 575ms\n",
      "957:\tlearn: 0.0023830\ttotal: 12.8s\tremaining: 561ms\n",
      "958:\tlearn: 0.0023816\ttotal: 12.8s\tremaining: 548ms\n",
      "959:\tlearn: 0.0023806\ttotal: 12.8s\tremaining: 534ms\n",
      "960:\tlearn: 0.0023794\ttotal: 12.8s\tremaining: 521ms\n",
      "961:\tlearn: 0.0023733\ttotal: 12.9s\tremaining: 508ms\n",
      "962:\tlearn: 0.0023707\ttotal: 12.9s\tremaining: 494ms\n",
      "963:\tlearn: 0.0023687\ttotal: 12.9s\tremaining: 481ms\n",
      "964:\tlearn: 0.0023652\ttotal: 12.9s\tremaining: 468ms\n",
      "965:\tlearn: 0.0023623\ttotal: 12.9s\tremaining: 454ms\n",
      "966:\tlearn: 0.0023603\ttotal: 12.9s\tremaining: 441ms\n",
      "967:\tlearn: 0.0023584\ttotal: 12.9s\tremaining: 428ms\n",
      "968:\tlearn: 0.0023547\ttotal: 12.9s\tremaining: 414ms\n",
      "969:\tlearn: 0.0023489\ttotal: 13s\tremaining: 401ms\n",
      "970:\tlearn: 0.0023480\ttotal: 13s\tremaining: 387ms\n",
      "971:\tlearn: 0.0023474\ttotal: 13s\tremaining: 374ms\n",
      "972:\tlearn: 0.0023424\ttotal: 13s\tremaining: 361ms\n",
      "973:\tlearn: 0.0023409\ttotal: 13s\tremaining: 347ms\n",
      "974:\tlearn: 0.0023339\ttotal: 13s\tremaining: 334ms\n",
      "975:\tlearn: 0.0023326\ttotal: 13s\tremaining: 321ms\n",
      "976:\tlearn: 0.0023314\ttotal: 13s\tremaining: 307ms\n",
      "977:\tlearn: 0.0023289\ttotal: 13.1s\tremaining: 294ms\n",
      "978:\tlearn: 0.0023262\ttotal: 13.1s\tremaining: 280ms\n",
      "979:\tlearn: 0.0023245\ttotal: 13.1s\tremaining: 267ms\n",
      "980:\tlearn: 0.0023241\ttotal: 13.1s\tremaining: 254ms\n",
      "981:\tlearn: 0.0023224\ttotal: 13.1s\tremaining: 240ms\n",
      "982:\tlearn: 0.0023199\ttotal: 13.1s\tremaining: 227ms\n",
      "983:\tlearn: 0.0023176\ttotal: 13.1s\tremaining: 214ms\n",
      "984:\tlearn: 0.0023168\ttotal: 13.2s\tremaining: 201ms\n",
      "985:\tlearn: 0.0023159\ttotal: 13.2s\tremaining: 187ms\n",
      "986:\tlearn: 0.0023137\ttotal: 13.2s\tremaining: 174ms\n",
      "987:\tlearn: 0.0023130\ttotal: 13.2s\tremaining: 161ms\n",
      "988:\tlearn: 0.0023107\ttotal: 13.2s\tremaining: 147ms\n",
      "989:\tlearn: 0.0023094\ttotal: 13.3s\tremaining: 134ms\n",
      "990:\tlearn: 0.0023058\ttotal: 13.3s\tremaining: 120ms\n",
      "991:\tlearn: 0.0023037\ttotal: 13.3s\tremaining: 107ms\n",
      "992:\tlearn: 0.0023027\ttotal: 13.3s\tremaining: 93.7ms\n",
      "993:\tlearn: 0.0022999\ttotal: 13.3s\tremaining: 80.3ms\n",
      "994:\tlearn: 0.0022986\ttotal: 13.3s\tremaining: 66.9ms\n"
     ]
    },
    {
     "name": "stdout",
     "output_type": "stream",
     "text": [
      "995:\tlearn: 0.0022978\ttotal: 13.3s\tremaining: 53.5ms\n",
      "996:\tlearn: 0.0022947\ttotal: 13.3s\tremaining: 40.2ms\n",
      "997:\tlearn: 0.0022938\ttotal: 13.4s\tremaining: 26.8ms\n",
      "998:\tlearn: 0.0022926\ttotal: 13.4s\tremaining: 13.4ms\n",
      "999:\tlearn: 0.0022897\ttotal: 13.4s\tremaining: 0us\n"
     ]
    },
    {
     "data": {
      "text/plain": [
       "<catboost.core.CatBoostClassifier at 0x1c5c9a70e50>"
      ]
     },
     "execution_count": 77,
     "metadata": {},
     "output_type": "execute_result"
    }
   ],
   "source": [
    "clf.fit(X_train, y_train)"
   ]
  },
  {
   "cell_type": "code",
   "execution_count": 79,
   "id": "d209115f",
   "metadata": {},
   "outputs": [
    {
     "data": {
      "text/plain": [
       "True"
      ]
     },
     "execution_count": 79,
     "metadata": {},
     "output_type": "execute_result"
    }
   ],
   "source": [
    "clf.is_fitted()"
   ]
  },
  {
   "cell_type": "code",
   "execution_count": 80,
   "id": "02ddb341",
   "metadata": {},
   "outputs": [
    {
     "data": {
      "text/plain": [
       "{'iterations': 1000,\n",
       " 'learning_rate': 0.4,\n",
       " 'depth': 5,\n",
       " 'random_seed': 2020,\n",
       " 'custom_loss': ['AUC', 'Accuracy'],\n",
       " 'bagging_temperature': 0.2,\n",
       " 'colsample_bylevel': 0.8}"
      ]
     },
     "execution_count": 80,
     "metadata": {},
     "output_type": "execute_result"
    }
   ],
   "source": [
    "clf.get_params()"
   ]
  },
  {
   "cell_type": "code",
   "execution_count": 81,
   "id": "c2b295f8",
   "metadata": {},
   "outputs": [],
   "source": [
    "p=clf.predict(X_test)"
   ]
  },
  {
   "cell_type": "code",
   "execution_count": 82,
   "id": "557d13b8",
   "metadata": {},
   "outputs": [
    {
     "data": {
      "text/plain": [
       "0.9787234042553191"
      ]
     },
     "execution_count": 82,
     "metadata": {},
     "output_type": "execute_result"
    }
   ],
   "source": [
    "accuracy_score(y_test, p)"
   ]
  },
  {
   "cell_type": "code",
   "execution_count": 83,
   "id": "1afe6e81",
   "metadata": {},
   "outputs": [
    {
     "data": {
      "text/plain": [
       "(0.9792741367626641, 0.9787234042553191, 0.9788266637705172, None)"
      ]
     },
     "execution_count": 83,
     "metadata": {},
     "output_type": "execute_result"
    }
   ],
   "source": [
    "precision_recall_fscore_support(y_test, p, average='weighted')"
   ]
  },
  {
   "cell_type": "markdown",
   "id": "dc98768d",
   "metadata": {},
   "source": [
    "### Light Gradient Boosting Method (LightGBM)"
   ]
  },
  {
   "cell_type": "code",
   "execution_count": 85,
   "id": "0819f20c",
   "metadata": {},
   "outputs": [],
   "source": [
    "lgm= LGBMClassifier(objective='regression',num_leaves=31,\n",
    "                              learning_rate=0.6, n_estimators=500,\n",
    "                              max_bin = 100, bagging_fraction = 0.4)"
   ]
  },
  {
   "cell_type": "code",
   "execution_count": 87,
   "id": "d4b7eeb1",
   "metadata": {},
   "outputs": [
    {
     "name": "stdout",
     "output_type": "stream",
     "text": [
      "[LightGBM] [Warning] bagging_fraction is set=0.4, subsample=1.0 will be ignored. Current value: bagging_fraction=0.4\n"
     ]
    },
    {
     "data": {
      "text/plain": [
       "LGBMClassifier(bagging_fraction=0.4, learning_rate=0.6, max_bin=100,\n",
       "               n_estimators=500, objective='regression')"
      ]
     },
     "execution_count": 87,
     "metadata": {},
     "output_type": "execute_result"
    }
   ],
   "source": [
    "lgm.fit(X_train, y_train)"
   ]
  },
  {
   "cell_type": "code",
   "execution_count": 88,
   "id": "e4a08ef6",
   "metadata": {},
   "outputs": [
    {
     "data": {
      "text/plain": [
       "0.9905437352245863"
      ]
     },
     "execution_count": 88,
     "metadata": {},
     "output_type": "execute_result"
    }
   ],
   "source": [
    "n=lgm.predict(X_test)\n",
    "accuracy_score(y_test, n)"
   ]
  },
  {
   "cell_type": "code",
   "execution_count": 89,
   "id": "8381c283",
   "metadata": {},
   "outputs": [
    {
     "data": {
      "text/plain": [
       "(0.9904685037856951, 0.990900327742433, 0.9906096059113301, None)"
      ]
     },
     "execution_count": 89,
     "metadata": {},
     "output_type": "execute_result"
    }
   ],
   "source": [
    "precision_recall_fscore_support(y_test, n, average='macro')"
   ]
  },
  {
   "cell_type": "code",
   "execution_count": 90,
   "id": "218f228d",
   "metadata": {},
   "outputs": [
    {
     "data": {
      "image/png": "[encoded data removed]",
      "text/plain": [
       "<Figure size 432x288 with 1 Axes>"
      ]
     },
     "metadata": {
      "needs_background": "light"
     },
     "output_type": "display_data"
    }
   ],
   "source": [
    "ax = lgb.plot_importance(lgm, max_num_features=20)\n",
    "plt.show()"
   ]
  },
  {
   "cell_type": "markdown",
   "id": "dc440ebb",
   "metadata": {},
   "source": [
    "### Neural Network"
   ]
  },
  {
   "cell_type": "code",
   "execution_count": 91,
   "id": "6a709428",
   "metadata": {},
   "outputs": [
    {
     "data": {
      "text/html": [
       "<div>\n",
       "<style scoped>\n",
       "    .dataframe tbody tr th:only-of-type {\n",
       "        vertical-align: middle;\n",
       "    }\n",
       "\n",
       "    .dataframe tbody tr th {\n",
       "        vertical-align: top;\n",
       "    }\n",
       "\n",
       "    .dataframe thead th {\n",
       "        text-align: right;\n",
       "    }\n",
       "</style>\n",
       "<table border=\"1\" class=\"dataframe\">\n",
       "  <thead>\n",
       "    <tr style=\"text-align: right;\">\n",
       "      <th></th>\n",
       "      <th>Age</th>\n",
       "      <th>Height</th>\n",
       "      <th>Weight</th>\n",
       "      <th>FCVC</th>\n",
       "      <th>NCP</th>\n",
       "      <th>CH2O</th>\n",
       "      <th>FAF</th>\n",
       "      <th>TUE</th>\n",
       "      <th>gender</th>\n",
       "      <th>famhistory</th>\n",
       "      <th>favc</th>\n",
       "      <th>caec</th>\n",
       "      <th>smoke</th>\n",
       "      <th>scc</th>\n",
       "      <th>calc</th>\n",
       "      <th>mtrans</th>\n",
       "    </tr>\n",
       "  </thead>\n",
       "  <tbody>\n",
       "    <tr>\n",
       "      <th>1295</th>\n",
       "      <td>38.148845</td>\n",
       "      <td>1.557808</td>\n",
       "      <td>79.661693</td>\n",
       "      <td>2.000000</td>\n",
       "      <td>3.000000</td>\n",
       "      <td>1.274774</td>\n",
       "      <td>0.000000</td>\n",
       "      <td>0.000000</td>\n",
       "      <td>0</td>\n",
       "      <td>1</td>\n",
       "      <td>1</td>\n",
       "      <td>2</td>\n",
       "      <td>0</td>\n",
       "      <td>0</td>\n",
       "      <td>2</td>\n",
       "      <td>0</td>\n",
       "    </tr>\n",
       "    <tr>\n",
       "      <th>1627</th>\n",
       "      <td>40.366238</td>\n",
       "      <td>1.722396</td>\n",
       "      <td>109.349025</td>\n",
       "      <td>2.281963</td>\n",
       "      <td>3.770379</td>\n",
       "      <td>1.000000</td>\n",
       "      <td>1.330519</td>\n",
       "      <td>0.000000</td>\n",
       "      <td>1</td>\n",
       "      <td>1</td>\n",
       "      <td>1</td>\n",
       "      <td>2</td>\n",
       "      <td>0</td>\n",
       "      <td>0</td>\n",
       "      <td>3</td>\n",
       "      <td>0</td>\n",
       "    </tr>\n",
       "    <tr>\n",
       "      <th>1388</th>\n",
       "      <td>39.648946</td>\n",
       "      <td>1.572791</td>\n",
       "      <td>80.086524</td>\n",
       "      <td>2.071622</td>\n",
       "      <td>2.977909</td>\n",
       "      <td>1.468297</td>\n",
       "      <td>0.000000</td>\n",
       "      <td>0.000000</td>\n",
       "      <td>0</td>\n",
       "      <td>1</td>\n",
       "      <td>1</td>\n",
       "      <td>2</td>\n",
       "      <td>0</td>\n",
       "      <td>0</td>\n",
       "      <td>3</td>\n",
       "      <td>0</td>\n",
       "    </tr>\n",
       "    <tr>\n",
       "      <th>1318</th>\n",
       "      <td>23.237302</td>\n",
       "      <td>1.761008</td>\n",
       "      <td>97.829344</td>\n",
       "      <td>2.000000</td>\n",
       "      <td>3.000000</td>\n",
       "      <td>2.988771</td>\n",
       "      <td>2.429923</td>\n",
       "      <td>1.978043</td>\n",
       "      <td>1</td>\n",
       "      <td>1</td>\n",
       "      <td>1</td>\n",
       "      <td>2</td>\n",
       "      <td>0</td>\n",
       "      <td>0</td>\n",
       "      <td>3</td>\n",
       "      <td>3</td>\n",
       "    </tr>\n",
       "    <tr>\n",
       "      <th>648</th>\n",
       "      <td>22.547298</td>\n",
       "      <td>1.722461</td>\n",
       "      <td>51.881263</td>\n",
       "      <td>2.663421</td>\n",
       "      <td>3.000000</td>\n",
       "      <td>1.041110</td>\n",
       "      <td>0.794402</td>\n",
       "      <td>1.391948</td>\n",
       "      <td>0</td>\n",
       "      <td>1</td>\n",
       "      <td>1</td>\n",
       "      <td>1</td>\n",
       "      <td>0</td>\n",
       "      <td>0</td>\n",
       "      <td>3</td>\n",
       "      <td>3</td>\n",
       "    </tr>\n",
       "    <tr>\n",
       "      <th>...</th>\n",
       "      <td>...</td>\n",
       "      <td>...</td>\n",
       "      <td>...</td>\n",
       "      <td>...</td>\n",
       "      <td>...</td>\n",
       "      <td>...</td>\n",
       "      <td>...</td>\n",
       "      <td>...</td>\n",
       "      <td>...</td>\n",
       "      <td>...</td>\n",
       "      <td>...</td>\n",
       "      <td>...</td>\n",
       "      <td>...</td>\n",
       "      <td>...</td>\n",
       "      <td>...</td>\n",
       "      <td>...</td>\n",
       "    </tr>\n",
       "    <tr>\n",
       "      <th>1033</th>\n",
       "      <td>19.671876</td>\n",
       "      <td>1.699474</td>\n",
       "      <td>78.000000</td>\n",
       "      <td>1.925064</td>\n",
       "      <td>2.358298</td>\n",
       "      <td>2.774043</td>\n",
       "      <td>0.000000</td>\n",
       "      <td>0.133566</td>\n",
       "      <td>1</td>\n",
       "      <td>1</td>\n",
       "      <td>0</td>\n",
       "      <td>2</td>\n",
       "      <td>0</td>\n",
       "      <td>0</td>\n",
       "      <td>3</td>\n",
       "      <td>3</td>\n",
       "    </tr>\n",
       "    <tr>\n",
       "      <th>1731</th>\n",
       "      <td>30.554956</td>\n",
       "      <td>1.779136</td>\n",
       "      <td>120.600940</td>\n",
       "      <td>2.671238</td>\n",
       "      <td>3.000000</td>\n",
       "      <td>2.145368</td>\n",
       "      <td>0.882709</td>\n",
       "      <td>0.593917</td>\n",
       "      <td>1</td>\n",
       "      <td>1</td>\n",
       "      <td>1</td>\n",
       "      <td>2</td>\n",
       "      <td>0</td>\n",
       "      <td>0</td>\n",
       "      <td>2</td>\n",
       "      <td>0</td>\n",
       "    </tr>\n",
       "    <tr>\n",
       "      <th>763</th>\n",
       "      <td>21.000000</td>\n",
       "      <td>1.620000</td>\n",
       "      <td>70.000000</td>\n",
       "      <td>2.000000</td>\n",
       "      <td>1.000000</td>\n",
       "      <td>3.000000</td>\n",
       "      <td>1.000000</td>\n",
       "      <td>0.000000</td>\n",
       "      <td>1</td>\n",
       "      <td>0</td>\n",
       "      <td>1</td>\n",
       "      <td>3</td>\n",
       "      <td>0</td>\n",
       "      <td>0</td>\n",
       "      <td>2</td>\n",
       "      <td>3</td>\n",
       "    </tr>\n",
       "    <tr>\n",
       "      <th>835</th>\n",
       "      <td>29.320380</td>\n",
       "      <td>1.642506</td>\n",
       "      <td>69.906708</td>\n",
       "      <td>2.366949</td>\n",
       "      <td>3.000000</td>\n",
       "      <td>1.926577</td>\n",
       "      <td>1.581242</td>\n",
       "      <td>0.000000</td>\n",
       "      <td>0</td>\n",
       "      <td>1</td>\n",
       "      <td>1</td>\n",
       "      <td>2</td>\n",
       "      <td>0</td>\n",
       "      <td>0</td>\n",
       "      <td>2</td>\n",
       "      <td>0</td>\n",
       "    </tr>\n",
       "    <tr>\n",
       "      <th>1653</th>\n",
       "      <td>24.417552</td>\n",
       "      <td>1.774775</td>\n",
       "      <td>117.398976</td>\n",
       "      <td>2.233720</td>\n",
       "      <td>2.993634</td>\n",
       "      <td>2.028368</td>\n",
       "      <td>0.863158</td>\n",
       "      <td>0.449886</td>\n",
       "      <td>1</td>\n",
       "      <td>1</td>\n",
       "      <td>1</td>\n",
       "      <td>2</td>\n",
       "      <td>0</td>\n",
       "      <td>0</td>\n",
       "      <td>2</td>\n",
       "      <td>3</td>\n",
       "    </tr>\n",
       "  </tbody>\n",
       "</table>\n",
       "<p>1688 rows × 16 columns</p>\n",
       "</div>"
      ],
      "text/plain": [
       "            Age    Height      Weight      FCVC       NCP      CH2O       FAF  \\\n",
       "1295  38.148845  1.557808   79.661693  2.000000  3.000000  1.274774  0.000000   \n",
       "1627  40.366238  1.722396  109.349025  2.281963  3.770379  1.000000  1.330519   \n",
       "1388  39.648946  1.572791   80.086524  2.071622  2.977909  1.468297  0.000000   \n",
       "1318  23.237302  1.761008   97.829344  2.000000  3.000000  2.988771  2.429923   \n",
       "648   22.547298  1.722461   51.881263  2.663421  3.000000  1.041110  0.794402   \n",
       "...         ...       ...         ...       ...       ...       ...       ...   \n",
       "1033  19.671876  1.699474   78.000000  1.925064  2.358298  2.774043  0.000000   \n",
       "1731  30.554956  1.779136  120.600940  2.671238  3.000000  2.145368  0.882709   \n",
       "763   21.000000  1.620000   70.000000  2.000000  1.000000  3.000000  1.000000   \n",
       "835   29.320380  1.642506   69.906708  2.366949  3.000000  1.926577  1.581242   \n",
       "1653  24.417552  1.774775  117.398976  2.233720  2.993634  2.028368  0.863158   \n",
       "\n",
       "           TUE  gender  famhistory  favc  caec  smoke  scc  calc  mtrans  \n",
       "1295  0.000000       0           1     1     2      0    0     2       0  \n",
       "1627  0.000000       1           1     1     2      0    0     3       0  \n",
       "1388  0.000000       0           1     1     2      0    0     3       0  \n",
       "1318  1.978043       1           1     1     2      0    0     3       3  \n",
       "648   1.391948       0           1     1     1      0    0     3       3  \n",
       "...        ...     ...         ...   ...   ...    ...  ...   ...     ...  \n",
       "1033  0.133566       1           1     0     2      0    0     3       3  \n",
       "1731  0.593917       1           1     1     2      0    0     2       0  \n",
       "763   0.000000       1           0     1     3      0    0     2       3  \n",
       "835   0.000000       0           1     1     2      0    0     2       0  \n",
       "1653  0.449886       1           1     1     2      0    0     2       3  \n",
       "\n",
       "[1688 rows x 16 columns]"
      ]
     },
     "execution_count": 91,
     "metadata": {},
     "output_type": "execute_result"
    }
   ],
   "source": [
    "X_train"
   ]
  },
  {
   "cell_type": "code",
   "execution_count": 92,
   "id": "60f5ae14",
   "metadata": {},
   "outputs": [],
   "source": [
    "from sklearn.preprocessing import StandardScaler\n",
    "sc = StandardScaler()\n",
    "X_train = sc.fit_transform(X_train)\n",
    "X_test = sc.transform(X_test)\n",
    "from tensorflow import keras"
   ]
  },
  {
   "cell_type": "code",
   "execution_count": 93,
   "id": "d9c8986d",
   "metadata": {},
   "outputs": [],
   "source": [
    "#Initialising ANN\n",
    "\n",
    "model = keras.Sequential([\n",
    "    keras.layers.Dense(256, input_shape=(16,), activation='relu'),\n",
    "    keras.layers.Dense(32, activation='sigmoid'),\n",
    "    keras.layers.Dense(3, activation=\"softmax\", kernel_initializer=\"normal\")\n",
    "])"
   ]
  },
  {
   "cell_type": "code",
   "execution_count": 94,
   "id": "a723f5ed",
   "metadata": {},
   "outputs": [],
   "source": [
    "model.compile(optimizer=\"adam\",loss=\"mean_squared_error\",metrics=['accuracy'])"
   ]
  },
  {
   "cell_type": "code",
   "execution_count": 95,
   "id": "c9a1f647",
   "metadata": {
    "scrolled": false
   },
   "outputs": [
    {
     "name": "stdout",
     "output_type": "stream",
     "text": [
      "Epoch 1/100\n",
      "53/53 [==============================] - 1s 2ms/step - loss: 11.0773 - accuracy: 0.1546\n",
      "Epoch 2/100\n",
      "53/53 [==============================] - 0s 2ms/step - loss: 11.0770 - accuracy: 0.1688\n",
      "Epoch 3/100\n",
      "53/53 [==============================] - 0s 2ms/step - loss: 11.0769 - accuracy: 0.1493\n",
      "Epoch 4/100\n",
      "53/53 [==============================] - 0s 2ms/step - loss: 11.0769 - accuracy: 0.1511\n",
      "Epoch 5/100\n",
      "53/53 [==============================] - 0s 2ms/step - loss: 11.0770 - accuracy: 0.1517\n",
      "Epoch 6/100\n",
      "53/53 [==============================] - 0s 2ms/step - loss: 11.0770 - accuracy: 0.1487\n",
      "Epoch 7/100\n",
      "53/53 [==============================] - 0s 2ms/step - loss: 11.0769 - accuracy: 0.1505\n",
      "Epoch 8/100\n",
      "53/53 [==============================] - 0s 2ms/step - loss: 11.0769 - accuracy: 0.1511\n",
      "Epoch 9/100\n",
      "53/53 [==============================] - 0s 2ms/step - loss: 11.0769 - accuracy: 0.1493\n",
      "Epoch 10/100\n",
      "53/53 [==============================] - 0s 2ms/step - loss: 11.0769 - accuracy: 0.1499\n",
      "Epoch 11/100\n",
      "53/53 [==============================] - 0s 2ms/step - loss: 11.0770 - accuracy: 0.1505\n",
      "Epoch 12/100\n",
      "53/53 [==============================] - 0s 2ms/step - loss: 11.0769 - accuracy: 0.1523\n",
      "Epoch 13/100\n",
      "53/53 [==============================] - 0s 2ms/step - loss: 11.0769 - accuracy: 0.1493\n",
      "Epoch 14/100\n",
      "53/53 [==============================] - 0s 2ms/step - loss: 11.0770 - accuracy: 0.1546\n",
      "Epoch 15/100\n",
      "53/53 [==============================] - 0s 2ms/step - loss: 11.0769 - accuracy: 0.1440\n",
      "Epoch 16/100\n",
      "53/53 [==============================] - 0s 2ms/step - loss: 11.0769 - accuracy: 0.1540\n",
      "Epoch 17/100\n",
      "53/53 [==============================] - 0s 2ms/step - loss: 11.0769 - accuracy: 0.1481\n",
      "Epoch 18/100\n",
      "53/53 [==============================] - 0s 2ms/step - loss: 11.0769 - accuracy: 0.1410\n",
      "Epoch 19/100\n",
      "53/53 [==============================] - 0s 2ms/step - loss: 11.0769 - accuracy: 0.1451\n",
      "Epoch 20/100\n",
      "53/53 [==============================] - 0s 2ms/step - loss: 11.0769 - accuracy: 0.1481\n",
      "Epoch 21/100\n",
      "53/53 [==============================] - 0s 2ms/step - loss: 11.0769 - accuracy: 0.1321\n",
      "Epoch 22/100\n",
      "53/53 [==============================] - 0s 2ms/step - loss: 11.0769 - accuracy: 0.1457\n",
      "Epoch 23/100\n",
      "53/53 [==============================] - 0s 2ms/step - loss: 11.0769 - accuracy: 0.1386\n",
      "Epoch 24/100\n",
      "53/53 [==============================] - 0s 2ms/step - loss: 11.0769 - accuracy: 0.1469\n",
      "Epoch 25/100\n",
      "53/53 [==============================] - 0s 2ms/step - loss: 11.0769 - accuracy: 0.1351\n",
      "Epoch 26/100\n",
      "53/53 [==============================] - 0s 2ms/step - loss: 11.0769 - accuracy: 0.1475\n",
      "Epoch 27/100\n",
      "53/53 [==============================] - 0s 2ms/step - loss: 11.0770 - accuracy: 0.1368\n",
      "Epoch 28/100\n",
      "53/53 [==============================] - 0s 2ms/step - loss: 11.0769 - accuracy: 0.1475\n",
      "Epoch 29/100\n",
      "53/53 [==============================] - 0s 3ms/step - loss: 11.0769 - accuracy: 0.1422\n",
      "Epoch 30/100\n",
      "53/53 [==============================] - 0s 2ms/step - loss: 11.0769 - accuracy: 0.1505\n",
      "Epoch 31/100\n",
      "53/53 [==============================] - 0s 2ms/step - loss: 11.0769 - accuracy: 0.1434\n",
      "Epoch 32/100\n",
      "53/53 [==============================] - 0s 2ms/step - loss: 11.0769 - accuracy: 0.1339\n",
      "Epoch 33/100\n",
      "53/53 [==============================] - 0s 2ms/step - loss: 11.0769 - accuracy: 0.1451\n",
      "Epoch 34/100\n",
      "53/53 [==============================] - 0s 2ms/step - loss: 11.0769 - accuracy: 0.1451\n",
      "Epoch 35/100\n",
      "53/53 [==============================] - 0s 2ms/step - loss: 11.0769 - accuracy: 0.1357\n",
      "Epoch 36/100\n",
      "53/53 [==============================] - 0s 2ms/step - loss: 11.0770 - accuracy: 0.1457\n",
      "Epoch 37/100\n",
      "53/53 [==============================] - 0s 2ms/step - loss: 11.0769 - accuracy: 0.1398\n",
      "Epoch 38/100\n",
      "53/53 [==============================] - 0s 2ms/step - loss: 11.0769 - accuracy: 0.1463\n",
      "Epoch 39/100\n",
      "53/53 [==============================] - 0s 2ms/step - loss: 11.0769 - accuracy: 0.1368\n",
      "Epoch 40/100\n",
      "53/53 [==============================] - 0s 2ms/step - loss: 11.0770 - accuracy: 0.1440\n",
      "Epoch 41/100\n",
      "53/53 [==============================] - 0s 2ms/step - loss: 11.0769 - accuracy: 0.1457\n",
      "Epoch 42/100\n",
      "53/53 [==============================] - 0s 2ms/step - loss: 11.0769 - accuracy: 0.1351\n",
      "Epoch 43/100\n",
      "53/53 [==============================] - 0s 2ms/step - loss: 11.0769 - accuracy: 0.1493\n",
      "Epoch 44/100\n",
      "53/53 [==============================] - 0s 2ms/step - loss: 11.0769 - accuracy: 0.1404\n",
      "Epoch 45/100\n",
      "53/53 [==============================] - 0s 2ms/step - loss: 11.0769 - accuracy: 0.1374\n",
      "Epoch 46/100\n",
      "53/53 [==============================] - 0s 2ms/step - loss: 11.0769 - accuracy: 0.1410\n",
      "Epoch 47/100\n",
      "53/53 [==============================] - 0s 2ms/step - loss: 11.0769 - accuracy: 0.1368\n",
      "Epoch 48/100\n",
      "53/53 [==============================] - 0s 2ms/step - loss: 11.0769 - accuracy: 0.1339\n",
      "Epoch 49/100\n",
      "53/53 [==============================] - 0s 2ms/step - loss: 11.0769 - accuracy: 0.1457\n",
      "Epoch 50/100\n",
      "53/53 [==============================] - 0s 2ms/step - loss: 11.0769 - accuracy: 0.1392\n",
      "Epoch 51/100\n",
      "53/53 [==============================] - 0s 2ms/step - loss: 11.0769 - accuracy: 0.1380\n",
      "Epoch 52/100\n",
      "53/53 [==============================] - 0s 2ms/step - loss: 11.0769 - accuracy: 0.1481\n",
      "Epoch 53/100\n",
      "53/53 [==============================] - 0s 2ms/step - loss: 11.0769 - accuracy: 0.1481\n",
      "Epoch 54/100\n",
      "53/53 [==============================] - 0s 2ms/step - loss: 11.0770 - accuracy: 0.1363\n",
      "Epoch 55/100\n",
      "53/53 [==============================] - 0s 2ms/step - loss: 11.0769 - accuracy: 0.1445\n",
      "Epoch 56/100\n",
      "53/53 [==============================] - 0s 2ms/step - loss: 11.0769 - accuracy: 0.1416\n",
      "Epoch 57/100\n",
      "53/53 [==============================] - 0s 2ms/step - loss: 11.0770 - accuracy: 0.1511\n",
      "Epoch 58/100\n",
      "53/53 [==============================] - 0s 2ms/step - loss: 11.0769 - accuracy: 0.1523\n",
      "Epoch 59/100\n",
      "53/53 [==============================] - 0s 2ms/step - loss: 11.0769 - accuracy: 0.1374\n",
      "Epoch 60/100\n",
      "53/53 [==============================] - 0s 2ms/step - loss: 11.0770 - accuracy: 0.1546\n",
      "Epoch 61/100\n",
      "53/53 [==============================] - 0s 2ms/step - loss: 11.0769 - accuracy: 0.1428\n",
      "Epoch 62/100\n",
      "53/53 [==============================] - 0s 2ms/step - loss: 11.0769 - accuracy: 0.1422\n",
      "Epoch 63/100\n",
      "53/53 [==============================] - 0s 2ms/step - loss: 11.0770 - accuracy: 0.1368\n",
      "Epoch 64/100\n",
      "53/53 [==============================] - 0s 2ms/step - loss: 11.0769 - accuracy: 0.1363\n",
      "Epoch 65/100\n",
      "53/53 [==============================] - 0s 2ms/step - loss: 11.0769 - accuracy: 0.1422\n",
      "Epoch 66/100\n",
      "53/53 [==============================] - 0s 2ms/step - loss: 11.0769 - accuracy: 0.1380\n",
      "Epoch 67/100\n",
      "53/53 [==============================] - 0s 2ms/step - loss: 11.0770 - accuracy: 0.1398\n",
      "Epoch 68/100\n",
      "53/53 [==============================] - 0s 3ms/step - loss: 11.0770 - accuracy: 0.1368\n",
      "Epoch 69/100\n",
      "53/53 [==============================] - 0s 3ms/step - loss: 11.0769 - accuracy: 0.1445\n",
      "Epoch 70/100\n",
      "53/53 [==============================] - 0s 3ms/step - loss: 11.0770 - accuracy: 0.1374\n",
      "Epoch 71/100\n",
      "53/53 [==============================] - 0s 2ms/step - loss: 11.0769 - accuracy: 0.1398\n",
      "Epoch 72/100\n",
      "53/53 [==============================] - 0s 2ms/step - loss: 11.0769 - accuracy: 0.1398\n",
      "Epoch 73/100\n",
      "53/53 [==============================] - 0s 2ms/step - loss: 11.0770 - accuracy: 0.1445\n",
      "Epoch 74/100\n",
      "53/53 [==============================] - 0s 2ms/step - loss: 11.0769 - accuracy: 0.1386\n",
      "Epoch 75/100\n",
      "53/53 [==============================] - 0s 2ms/step - loss: 11.0769 - accuracy: 0.1410\n",
      "Epoch 76/100\n",
      "53/53 [==============================] - 0s 2ms/step - loss: 11.0769 - accuracy: 0.1291\n",
      "Epoch 77/100\n",
      "53/53 [==============================] - 0s 2ms/step - loss: 11.0769 - accuracy: 0.1422\n",
      "Epoch 78/100\n",
      "53/53 [==============================] - 0s 2ms/step - loss: 11.0769 - accuracy: 0.1469\n",
      "Epoch 79/100\n",
      "53/53 [==============================] - 0s 2ms/step - loss: 11.0769 - accuracy: 0.1440\n",
      "Epoch 80/100\n",
      "53/53 [==============================] - 0s 2ms/step - loss: 11.0769 - accuracy: 0.1463\n",
      "Epoch 81/100\n",
      "53/53 [==============================] - 0s 2ms/step - loss: 11.0769 - accuracy: 0.1303\n",
      "Epoch 82/100\n",
      "53/53 [==============================] - 0s 2ms/step - loss: 11.0770 - accuracy: 0.1434\n",
      "Epoch 83/100\n",
      "53/53 [==============================] - 0s 2ms/step - loss: 11.0769 - accuracy: 0.1357\n",
      "Epoch 84/100\n",
      "53/53 [==============================] - 0s 2ms/step - loss: 11.0769 - accuracy: 0.1440\n",
      "Epoch 85/100\n",
      "53/53 [==============================] - 0s 2ms/step - loss: 11.0769 - accuracy: 0.1374\n",
      "Epoch 86/100\n",
      "53/53 [==============================] - 0s 2ms/step - loss: 11.0769 - accuracy: 0.1309\n",
      "Epoch 87/100\n",
      "53/53 [==============================] - 0s 2ms/step - loss: 11.0770 - accuracy: 0.1434\n",
      "Epoch 88/100\n",
      "53/53 [==============================] - 0s 2ms/step - loss: 11.0769 - accuracy: 0.1517\n",
      "Epoch 89/100\n",
      "53/53 [==============================] - 0s 2ms/step - loss: 11.0769 - accuracy: 0.1528\n",
      "Epoch 90/100\n",
      "53/53 [==============================] - 0s 2ms/step - loss: 11.0770 - accuracy: 0.1511\n",
      "Epoch 91/100\n",
      "53/53 [==============================] - 0s 2ms/step - loss: 11.0769 - accuracy: 0.1392\n",
      "Epoch 92/100\n",
      "53/53 [==============================] - 0s 2ms/step - loss: 11.0769 - accuracy: 0.1505\n",
      "Epoch 93/100\n",
      "53/53 [==============================] - 0s 2ms/step - loss: 11.0769 - accuracy: 0.1351\n",
      "Epoch 94/100\n",
      "53/53 [==============================] - 0s 2ms/step - loss: 11.0769 - accuracy: 0.1404\n",
      "Epoch 95/100\n",
      "53/53 [==============================] - 0s 2ms/step - loss: 11.0769 - accuracy: 0.1422\n",
      "Epoch 96/100\n",
      "53/53 [==============================] - 0s 2ms/step - loss: 11.0769 - accuracy: 0.1333\n",
      "Epoch 97/100\n",
      "53/53 [==============================] - 0s 2ms/step - loss: 11.0769 - accuracy: 0.1517\n",
      "Epoch 98/100\n",
      "53/53 [==============================] - 0s 3ms/step - loss: 11.0769 - accuracy: 0.1434\n",
      "Epoch 99/100\n",
      "53/53 [==============================] - 0s 2ms/step - loss: 11.0769 - accuracy: 0.1274\n",
      "Epoch 100/100\n",
      "53/53 [==============================] - 0s 2ms/step - loss: 11.0769 - accuracy: 0.1469\n"
     ]
    },
    {
     "data": {
      "text/plain": [
       "<keras.callbacks.History at 0x1c5d2ac8d30>"
      ]
     },
     "execution_count": 95,
     "metadata": {},
     "output_type": "execute_result"
    }
   ],
   "source": [
    "model.fit(X_train,y_train,epochs = 100)"
   ]
  },
  {
   "cell_type": "code",
   "execution_count": 96,
   "id": "abb9d866",
   "metadata": {},
   "outputs": [
    {
     "name": "stdout",
     "output_type": "stream",
     "text": [
      "53/53 [==============================] - 0s 2ms/step - loss: 11.0769 - accuracy: 0.1410\n"
     ]
    },
    {
     "data": {
      "text/plain": [
       "[11.076948165893555, 0.14099526405334473]"
      ]
     },
     "execution_count": 96,
     "metadata": {},
     "output_type": "execute_result"
    }
   ],
   "source": [
    "model.evaluate(X_train,y_train)"
   ]
  },
  {
   "cell_type": "code",
   "execution_count": 97,
   "id": "e9501942",
   "metadata": {},
   "outputs": [
    {
     "name": "stdout",
     "output_type": "stream",
     "text": [
      "Model: \"sequential\"\n",
      "_________________________________________________________________\n",
      " Layer (type)                Output Shape              Param #   \n",
      "=================================================================\n",
      " dense (Dense)               (None, 256)               4352      \n",
      "                                                                 \n",
      " dense_1 (Dense)             (None, 32)                8224      \n",
      "                                                                 \n",
      " dense_2 (Dense)             (None, 3)                 99        \n",
      "                                                                 \n",
      "=================================================================\n",
      "Total params: 12,675\n",
      "Trainable params: 12,675\n",
      "Non-trainable params: 0\n",
      "_________________________________________________________________\n"
     ]
    }
   ],
   "source": [
    "model.summary()"
   ]
  },
  {
   "cell_type": "code",
   "execution_count": 98,
   "id": "95e83e9b",
   "metadata": {},
   "outputs": [
    {
     "data": {
      "text/plain": [
       "6"
      ]
     },
     "execution_count": 98,
     "metadata": {},
     "output_type": "execute_result"
    }
   ],
   "source": [
    "len(model.weights)"
   ]
  }
 ],
 "metadata": {
  "kernelspec": {
   "display_name": "Python 3 (ipykernel)",
   "language": "python",
   "name": "python3"
  },
  "language_info": {
   "codemirror_mode": {
    "name": "ipython",
    "version": 3
   },
   "file_extension": ".py",
   "mimetype": "text/x-python",
   "name": "python",
   "nbconvert_exporter": "python",
   "pygments_lexer": "ipython3",
   "version": "3.11.4"
  }
 },
 "nbformat": 4,
 "nbformat_minor": 5
}
